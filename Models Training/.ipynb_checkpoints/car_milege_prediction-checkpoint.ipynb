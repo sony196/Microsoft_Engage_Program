{
 "cells": [
  {
   "cell_type": "code",
   "execution_count": 1,
   "id": "e37f6eff",
   "metadata": {
    "scrolled": true
   },
   "outputs": [],
   "source": [
    "#importing some required libraries\n",
    "\n",
    "import pandas as pd\n",
    "import numpy as np\n",
    "import matplotlib.pyplot as plt\n",
    "import seaborn as sns\n",
    "import re\n",
    "from sklearn.model_selection import train_test_split\n",
    "from sklearn.linear_model import LinearRegression\n",
    "from sklearn.tree import DecisionTreeRegressor\n",
    "from sklearn.ensemble import RandomForestRegressor\n",
    "from sklearn.ensemble import ExtraTreesRegressor\n",
    "from sklearn.preprocessing import StandardScaler\n",
    "from sklearn.pipeline import make_pipeline\n",
    "from sklearn.model_selection import ShuffleSplit\n",
    "from sklearn.model_selection import cross_val_score\n",
    "from sklearn.metrics import mean_squared_error\n",
    "from sklearn.model_selection import RandomizedSearchCV\n",
    "from sklearn.model_selection import GridSearchCV\n",
    "from sklearn.pipeline import make_pipeline"
   ]
  },
  {
   "cell_type": "code",
   "execution_count": 2,
   "id": "a7993c76",
   "metadata": {
    "scrolled": false
   },
   "outputs": [
    {
     "data": {
      "text/html": [
       "<div>\n",
       "<style scoped>\n",
       "    .dataframe tbody tr th:only-of-type {\n",
       "        vertical-align: middle;\n",
       "    }\n",
       "\n",
       "    .dataframe tbody tr th {\n",
       "        vertical-align: top;\n",
       "    }\n",
       "\n",
       "    .dataframe thead th {\n",
       "        text-align: right;\n",
       "    }\n",
       "</style>\n",
       "<table border=\"1\" class=\"dataframe\">\n",
       "  <thead>\n",
       "    <tr style=\"text-align: right;\">\n",
       "      <th></th>\n",
       "      <th>Manufacturer</th>\n",
       "      <th>Model</th>\n",
       "      <th>Sales_in_thousands</th>\n",
       "      <th>__year_resale_value</th>\n",
       "      <th>Vehicle_type</th>\n",
       "      <th>Price_in_thousands</th>\n",
       "      <th>Engine_size</th>\n",
       "      <th>Horsepower</th>\n",
       "      <th>Wheelbase</th>\n",
       "      <th>Width</th>\n",
       "      <th>...</th>\n",
       "      <th>Fuel_efficiency</th>\n",
       "      <th>Latest_Launch</th>\n",
       "      <th>Power_perf_factor</th>\n",
       "      <th>mpg</th>\n",
       "      <th>cylinders</th>\n",
       "      <th>displacement</th>\n",
       "      <th>weight</th>\n",
       "      <th>acceleration</th>\n",
       "      <th>model year</th>\n",
       "      <th>origin</th>\n",
       "    </tr>\n",
       "  </thead>\n",
       "  <tbody>\n",
       "    <tr>\n",
       "      <th>0</th>\n",
       "      <td>Acura</td>\n",
       "      <td>Integra</td>\n",
       "      <td>16.919</td>\n",
       "      <td>16.360</td>\n",
       "      <td>Passenger</td>\n",
       "      <td>21.50</td>\n",
       "      <td>1.8</td>\n",
       "      <td>140.0</td>\n",
       "      <td>101.2</td>\n",
       "      <td>67.3</td>\n",
       "      <td>...</td>\n",
       "      <td>28.0</td>\n",
       "      <td>02-02-2012</td>\n",
       "      <td>58.280150</td>\n",
       "      <td>18</td>\n",
       "      <td>8</td>\n",
       "      <td>307.0</td>\n",
       "      <td>3504</td>\n",
       "      <td>12.0</td>\n",
       "      <td>70</td>\n",
       "      <td>1</td>\n",
       "    </tr>\n",
       "    <tr>\n",
       "      <th>1</th>\n",
       "      <td>Acura</td>\n",
       "      <td>TL</td>\n",
       "      <td>39.384</td>\n",
       "      <td>19.875</td>\n",
       "      <td>Passenger</td>\n",
       "      <td>28.40</td>\n",
       "      <td>3.2</td>\n",
       "      <td>225.0</td>\n",
       "      <td>108.1</td>\n",
       "      <td>70.3</td>\n",
       "      <td>...</td>\n",
       "      <td>25.0</td>\n",
       "      <td>06-03-2011</td>\n",
       "      <td>91.370778</td>\n",
       "      <td>15</td>\n",
       "      <td>8</td>\n",
       "      <td>350.0</td>\n",
       "      <td>3693</td>\n",
       "      <td>11.5</td>\n",
       "      <td>70</td>\n",
       "      <td>1</td>\n",
       "    </tr>\n",
       "    <tr>\n",
       "      <th>2</th>\n",
       "      <td>Acura</td>\n",
       "      <td>CL</td>\n",
       "      <td>14.114</td>\n",
       "      <td>18.225</td>\n",
       "      <td>Passenger</td>\n",
       "      <td>NaN</td>\n",
       "      <td>3.2</td>\n",
       "      <td>225.0</td>\n",
       "      <td>106.9</td>\n",
       "      <td>70.6</td>\n",
       "      <td>...</td>\n",
       "      <td>26.0</td>\n",
       "      <td>01-04-2012</td>\n",
       "      <td>NaN</td>\n",
       "      <td>18</td>\n",
       "      <td>8</td>\n",
       "      <td>318.0</td>\n",
       "      <td>3436</td>\n",
       "      <td>11.0</td>\n",
       "      <td>70</td>\n",
       "      <td>1</td>\n",
       "    </tr>\n",
       "    <tr>\n",
       "      <th>3</th>\n",
       "      <td>Acura</td>\n",
       "      <td>RL</td>\n",
       "      <td>8.588</td>\n",
       "      <td>29.725</td>\n",
       "      <td>Passenger</td>\n",
       "      <td>42.00</td>\n",
       "      <td>3.5</td>\n",
       "      <td>210.0</td>\n",
       "      <td>114.6</td>\n",
       "      <td>71.4</td>\n",
       "      <td>...</td>\n",
       "      <td>22.0</td>\n",
       "      <td>03-10-2011</td>\n",
       "      <td>91.389779</td>\n",
       "      <td>16</td>\n",
       "      <td>8</td>\n",
       "      <td>304.0</td>\n",
       "      <td>3433</td>\n",
       "      <td>12.0</td>\n",
       "      <td>70</td>\n",
       "      <td>1</td>\n",
       "    </tr>\n",
       "    <tr>\n",
       "      <th>4</th>\n",
       "      <td>Audi</td>\n",
       "      <td>A4</td>\n",
       "      <td>20.397</td>\n",
       "      <td>22.255</td>\n",
       "      <td>Passenger</td>\n",
       "      <td>23.99</td>\n",
       "      <td>1.8</td>\n",
       "      <td>150.0</td>\n",
       "      <td>102.6</td>\n",
       "      <td>68.2</td>\n",
       "      <td>...</td>\n",
       "      <td>27.0</td>\n",
       "      <td>10-08-2011</td>\n",
       "      <td>62.777639</td>\n",
       "      <td>17</td>\n",
       "      <td>8</td>\n",
       "      <td>302.0</td>\n",
       "      <td>3449</td>\n",
       "      <td>10.5</td>\n",
       "      <td>70</td>\n",
       "      <td>1</td>\n",
       "    </tr>\n",
       "    <tr>\n",
       "      <th>...</th>\n",
       "      <td>...</td>\n",
       "      <td>...</td>\n",
       "      <td>...</td>\n",
       "      <td>...</td>\n",
       "      <td>...</td>\n",
       "      <td>...</td>\n",
       "      <td>...</td>\n",
       "      <td>...</td>\n",
       "      <td>...</td>\n",
       "      <td>...</td>\n",
       "      <td>...</td>\n",
       "      <td>...</td>\n",
       "      <td>...</td>\n",
       "      <td>...</td>\n",
       "      <td>...</td>\n",
       "      <td>...</td>\n",
       "      <td>...</td>\n",
       "      <td>...</td>\n",
       "      <td>...</td>\n",
       "      <td>...</td>\n",
       "      <td>...</td>\n",
       "    </tr>\n",
       "    <tr>\n",
       "      <th>152</th>\n",
       "      <td>Volvo</td>\n",
       "      <td>V40</td>\n",
       "      <td>3.545</td>\n",
       "      <td>NaN</td>\n",
       "      <td>Passenger</td>\n",
       "      <td>24.40</td>\n",
       "      <td>1.9</td>\n",
       "      <td>160.0</td>\n",
       "      <td>100.5</td>\n",
       "      <td>67.6</td>\n",
       "      <td>...</td>\n",
       "      <td>25.0</td>\n",
       "      <td>9/21/2011</td>\n",
       "      <td>66.498812</td>\n",
       "      <td>19</td>\n",
       "      <td>6</td>\n",
       "      <td>225.0</td>\n",
       "      <td>3264</td>\n",
       "      <td>16.0</td>\n",
       "      <td>75</td>\n",
       "      <td>1</td>\n",
       "    </tr>\n",
       "    <tr>\n",
       "      <th>153</th>\n",
       "      <td>Volvo</td>\n",
       "      <td>S70</td>\n",
       "      <td>15.245</td>\n",
       "      <td>NaN</td>\n",
       "      <td>Passenger</td>\n",
       "      <td>27.50</td>\n",
       "      <td>2.4</td>\n",
       "      <td>168.0</td>\n",
       "      <td>104.9</td>\n",
       "      <td>69.3</td>\n",
       "      <td>...</td>\n",
       "      <td>25.0</td>\n",
       "      <td>11/24/2012</td>\n",
       "      <td>70.654495</td>\n",
       "      <td>18</td>\n",
       "      <td>6</td>\n",
       "      <td>250.0</td>\n",
       "      <td>3459</td>\n",
       "      <td>16.0</td>\n",
       "      <td>75</td>\n",
       "      <td>1</td>\n",
       "    </tr>\n",
       "    <tr>\n",
       "      <th>154</th>\n",
       "      <td>Volvo</td>\n",
       "      <td>V70</td>\n",
       "      <td>17.531</td>\n",
       "      <td>NaN</td>\n",
       "      <td>Passenger</td>\n",
       "      <td>28.80</td>\n",
       "      <td>2.4</td>\n",
       "      <td>168.0</td>\n",
       "      <td>104.9</td>\n",
       "      <td>69.3</td>\n",
       "      <td>...</td>\n",
       "      <td>25.0</td>\n",
       "      <td>6/25/2011</td>\n",
       "      <td>71.155978</td>\n",
       "      <td>15</td>\n",
       "      <td>6</td>\n",
       "      <td>250.0</td>\n",
       "      <td>3432</td>\n",
       "      <td>21.0</td>\n",
       "      <td>75</td>\n",
       "      <td>1</td>\n",
       "    </tr>\n",
       "    <tr>\n",
       "      <th>155</th>\n",
       "      <td>Volvo</td>\n",
       "      <td>C70</td>\n",
       "      <td>3.493</td>\n",
       "      <td>NaN</td>\n",
       "      <td>Passenger</td>\n",
       "      <td>45.50</td>\n",
       "      <td>2.3</td>\n",
       "      <td>236.0</td>\n",
       "      <td>104.9</td>\n",
       "      <td>71.5</td>\n",
       "      <td>...</td>\n",
       "      <td>23.0</td>\n",
       "      <td>4/26/2011</td>\n",
       "      <td>101.623357</td>\n",
       "      <td>15</td>\n",
       "      <td>6</td>\n",
       "      <td>250.0</td>\n",
       "      <td>3158</td>\n",
       "      <td>19.5</td>\n",
       "      <td>75</td>\n",
       "      <td>1</td>\n",
       "    </tr>\n",
       "    <tr>\n",
       "      <th>156</th>\n",
       "      <td>Volvo</td>\n",
       "      <td>S80</td>\n",
       "      <td>18.969</td>\n",
       "      <td>NaN</td>\n",
       "      <td>Passenger</td>\n",
       "      <td>36.00</td>\n",
       "      <td>2.9</td>\n",
       "      <td>201.0</td>\n",
       "      <td>109.9</td>\n",
       "      <td>72.1</td>\n",
       "      <td>...</td>\n",
       "      <td>24.0</td>\n",
       "      <td>11/14/2011</td>\n",
       "      <td>85.735655</td>\n",
       "      <td>16</td>\n",
       "      <td>8</td>\n",
       "      <td>400.0</td>\n",
       "      <td>4668</td>\n",
       "      <td>11.5</td>\n",
       "      <td>75</td>\n",
       "      <td>1</td>\n",
       "    </tr>\n",
       "  </tbody>\n",
       "</table>\n",
       "<p>157 rows × 23 columns</p>\n",
       "</div>"
      ],
      "text/plain": [
       "    Manufacturer    Model  Sales_in_thousands  __year_resale_value  \\\n",
       "0          Acura  Integra              16.919               16.360   \n",
       "1          Acura       TL              39.384               19.875   \n",
       "2          Acura       CL              14.114               18.225   \n",
       "3          Acura       RL               8.588               29.725   \n",
       "4           Audi       A4              20.397               22.255   \n",
       "..           ...      ...                 ...                  ...   \n",
       "152        Volvo      V40               3.545                  NaN   \n",
       "153        Volvo      S70              15.245                  NaN   \n",
       "154        Volvo      V70              17.531                  NaN   \n",
       "155        Volvo      C70               3.493                  NaN   \n",
       "156        Volvo      S80              18.969                  NaN   \n",
       "\n",
       "    Vehicle_type  Price_in_thousands  Engine_size  Horsepower  Wheelbase  \\\n",
       "0      Passenger               21.50          1.8       140.0      101.2   \n",
       "1      Passenger               28.40          3.2       225.0      108.1   \n",
       "2      Passenger                 NaN          3.2       225.0      106.9   \n",
       "3      Passenger               42.00          3.5       210.0      114.6   \n",
       "4      Passenger               23.99          1.8       150.0      102.6   \n",
       "..           ...                 ...          ...         ...        ...   \n",
       "152    Passenger               24.40          1.9       160.0      100.5   \n",
       "153    Passenger               27.50          2.4       168.0      104.9   \n",
       "154    Passenger               28.80          2.4       168.0      104.9   \n",
       "155    Passenger               45.50          2.3       236.0      104.9   \n",
       "156    Passenger               36.00          2.9       201.0      109.9   \n",
       "\n",
       "     Width  ...  Fuel_efficiency  Latest_Launch  Power_perf_factor  mpg  \\\n",
       "0     67.3  ...             28.0     02-02-2012          58.280150   18   \n",
       "1     70.3  ...             25.0     06-03-2011          91.370778   15   \n",
       "2     70.6  ...             26.0     01-04-2012                NaN   18   \n",
       "3     71.4  ...             22.0     03-10-2011          91.389779   16   \n",
       "4     68.2  ...             27.0     10-08-2011          62.777639   17   \n",
       "..     ...  ...              ...            ...                ...  ...   \n",
       "152   67.6  ...             25.0      9/21/2011          66.498812   19   \n",
       "153   69.3  ...             25.0     11/24/2012          70.654495   18   \n",
       "154   69.3  ...             25.0      6/25/2011          71.155978   15   \n",
       "155   71.5  ...             23.0      4/26/2011         101.623357   15   \n",
       "156   72.1  ...             24.0     11/14/2011          85.735655   16   \n",
       "\n",
       "    cylinders  displacement  weight  acceleration  model year  origin  \n",
       "0           8         307.0    3504          12.0          70       1  \n",
       "1           8         350.0    3693          11.5          70       1  \n",
       "2           8         318.0    3436          11.0          70       1  \n",
       "3           8         304.0    3433          12.0          70       1  \n",
       "4           8         302.0    3449          10.5          70       1  \n",
       "..        ...           ...     ...           ...         ...     ...  \n",
       "152         6         225.0    3264          16.0          75       1  \n",
       "153         6         250.0    3459          16.0          75       1  \n",
       "154         6         250.0    3432          21.0          75       1  \n",
       "155         6         250.0    3158          19.5          75       1  \n",
       "156         8         400.0    4668          11.5          75       1  \n",
       "\n",
       "[157 rows x 23 columns]"
      ]
     },
     "execution_count": 2,
     "metadata": {},
     "output_type": "execute_result"
    }
   ],
   "source": [
    "#reading the data set\n",
    "df = pd.read_csv('car_data.csv')\n",
    "df"
   ]
  },
  {
   "cell_type": "code",
   "execution_count": 3,
   "id": "c74341cc",
   "metadata": {
    "scrolled": true
   },
   "outputs": [
    {
     "data": {
      "text/plain": [
       "Index(['Manufacturer', 'Model', 'Sales_in_thousands', '__year_resale_value',\n",
       "       'Vehicle_type', 'Price_in_thousands', 'Engine_size', 'Horsepower',\n",
       "       'Wheelbase', 'Width', 'Length', 'Curb_weight', 'Fuel_capacity',\n",
       "       'Fuel_efficiency', 'Latest_Launch', 'Power_perf_factor', 'mpg',\n",
       "       'cylinders', 'displacement', 'weight', 'acceleration', 'model year',\n",
       "       'origin'],\n",
       "      dtype='object')"
      ]
     },
     "execution_count": 3,
     "metadata": {},
     "output_type": "execute_result"
    }
   ],
   "source": [
    "#checking the columns that our dataset contains\n",
    "df.columns "
   ]
  },
  {
   "cell_type": "code",
   "execution_count": 4,
   "id": "bac644a0",
   "metadata": {
    "scrolled": true
   },
   "outputs": [],
   "source": [
    "#manfacturer , model,sales,price,origin,resale value,model year,fuel effeciency,vechicle type and some of the columns are not necessary.Therefore we shall drop them\n",
    "\n",
    "df=df.drop([\"Manufacturer\",\"Model\",\"Sales_in_thousands\",\"origin\",\"Power_perf_factor\",\"__year_resale_value\",\"Vehicle_type\",\"Price_in_thousands\",\"Engine_size\",\"Wheelbase\",\"Width\",\"Length\",\"Fuel_efficiency\",\"Horsepower\",\"Latest_Launch\",\"Curb_weight\",\"Fuel_capacity\",\"model year\"],axis=1)"
   ]
  },
  {
   "cell_type": "code",
   "execution_count": 5,
   "id": "5d8596e1",
   "metadata": {
    "scrolled": true
   },
   "outputs": [
    {
     "data": {
      "text/plain": [
       "mpg             0\n",
       "cylinders       0\n",
       "displacement    0\n",
       "weight          0\n",
       "acceleration    0\n",
       "dtype: int64"
      ]
     },
     "execution_count": 5,
     "metadata": {},
     "output_type": "execute_result"
    }
   ],
   "source": [
    "#we can clearly observe that,In our selected attributes there are no null values\n",
    "df.isnull().sum()"
   ]
  },
  {
   "cell_type": "code",
   "execution_count": 6,
   "id": "13892510",
   "metadata": {},
   "outputs": [],
   "source": [
    "#Now change the mpg and weight into float type for our convinient\n",
    "df[\"mpg\"]=df[\"mpg\"].astype(float)\n",
    "df[\"weight\"]=df[\"weight\"].astype(float)"
   ]
  },
  {
   "cell_type": "code",
   "execution_count": 7,
   "id": "664ae23d",
   "metadata": {},
   "outputs": [
    {
     "data": {
      "text/html": [
       "<div>\n",
       "<style scoped>\n",
       "    .dataframe tbody tr th:only-of-type {\n",
       "        vertical-align: middle;\n",
       "    }\n",
       "\n",
       "    .dataframe tbody tr th {\n",
       "        vertical-align: top;\n",
       "    }\n",
       "\n",
       "    .dataframe thead th {\n",
       "        text-align: right;\n",
       "    }\n",
       "</style>\n",
       "<table border=\"1\" class=\"dataframe\">\n",
       "  <thead>\n",
       "    <tr style=\"text-align: right;\">\n",
       "      <th></th>\n",
       "      <th>mpg</th>\n",
       "      <th>cylinders</th>\n",
       "      <th>displacement</th>\n",
       "      <th>weight</th>\n",
       "      <th>acceleration</th>\n",
       "    </tr>\n",
       "  </thead>\n",
       "  <tbody>\n",
       "    <tr>\n",
       "      <th>0</th>\n",
       "      <td>18.0</td>\n",
       "      <td>8</td>\n",
       "      <td>307.0</td>\n",
       "      <td>3504.0</td>\n",
       "      <td>12.0</td>\n",
       "    </tr>\n",
       "    <tr>\n",
       "      <th>1</th>\n",
       "      <td>15.0</td>\n",
       "      <td>8</td>\n",
       "      <td>350.0</td>\n",
       "      <td>3693.0</td>\n",
       "      <td>11.5</td>\n",
       "    </tr>\n",
       "    <tr>\n",
       "      <th>2</th>\n",
       "      <td>18.0</td>\n",
       "      <td>8</td>\n",
       "      <td>318.0</td>\n",
       "      <td>3436.0</td>\n",
       "      <td>11.0</td>\n",
       "    </tr>\n",
       "    <tr>\n",
       "      <th>3</th>\n",
       "      <td>16.0</td>\n",
       "      <td>8</td>\n",
       "      <td>304.0</td>\n",
       "      <td>3433.0</td>\n",
       "      <td>12.0</td>\n",
       "    </tr>\n",
       "    <tr>\n",
       "      <th>4</th>\n",
       "      <td>17.0</td>\n",
       "      <td>8</td>\n",
       "      <td>302.0</td>\n",
       "      <td>3449.0</td>\n",
       "      <td>10.5</td>\n",
       "    </tr>\n",
       "    <tr>\n",
       "      <th>...</th>\n",
       "      <td>...</td>\n",
       "      <td>...</td>\n",
       "      <td>...</td>\n",
       "      <td>...</td>\n",
       "      <td>...</td>\n",
       "    </tr>\n",
       "    <tr>\n",
       "      <th>152</th>\n",
       "      <td>19.0</td>\n",
       "      <td>6</td>\n",
       "      <td>225.0</td>\n",
       "      <td>3264.0</td>\n",
       "      <td>16.0</td>\n",
       "    </tr>\n",
       "    <tr>\n",
       "      <th>153</th>\n",
       "      <td>18.0</td>\n",
       "      <td>6</td>\n",
       "      <td>250.0</td>\n",
       "      <td>3459.0</td>\n",
       "      <td>16.0</td>\n",
       "    </tr>\n",
       "    <tr>\n",
       "      <th>154</th>\n",
       "      <td>15.0</td>\n",
       "      <td>6</td>\n",
       "      <td>250.0</td>\n",
       "      <td>3432.0</td>\n",
       "      <td>21.0</td>\n",
       "    </tr>\n",
       "    <tr>\n",
       "      <th>155</th>\n",
       "      <td>15.0</td>\n",
       "      <td>6</td>\n",
       "      <td>250.0</td>\n",
       "      <td>3158.0</td>\n",
       "      <td>19.5</td>\n",
       "    </tr>\n",
       "    <tr>\n",
       "      <th>156</th>\n",
       "      <td>16.0</td>\n",
       "      <td>8</td>\n",
       "      <td>400.0</td>\n",
       "      <td>4668.0</td>\n",
       "      <td>11.5</td>\n",
       "    </tr>\n",
       "  </tbody>\n",
       "</table>\n",
       "<p>157 rows × 5 columns</p>\n",
       "</div>"
      ],
      "text/plain": [
       "      mpg  cylinders  displacement  weight  acceleration\n",
       "0    18.0          8         307.0  3504.0          12.0\n",
       "1    15.0          8         350.0  3693.0          11.5\n",
       "2    18.0          8         318.0  3436.0          11.0\n",
       "3    16.0          8         304.0  3433.0          12.0\n",
       "4    17.0          8         302.0  3449.0          10.5\n",
       "..    ...        ...           ...     ...           ...\n",
       "152  19.0          6         225.0  3264.0          16.0\n",
       "153  18.0          6         250.0  3459.0          16.0\n",
       "154  15.0          6         250.0  3432.0          21.0\n",
       "155  15.0          6         250.0  3158.0          19.5\n",
       "156  16.0          8         400.0  4668.0          11.5\n",
       "\n",
       "[157 rows x 5 columns]"
      ]
     },
     "execution_count": 7,
     "metadata": {},
     "output_type": "execute_result"
    }
   ],
   "source": [
    "df"
   ]
  },
  {
   "cell_type": "markdown",
   "id": "cc5fd06e",
   "metadata": {},
   "source": [
    "Checking the relationship of attributes with milege"
   ]
  },
  {
   "cell_type": "code",
   "execution_count": 8,
   "id": "b1a160a1",
   "metadata": {},
   "outputs": [
    {
     "data": {
      "text/plain": [
       "<seaborn.axisgrid.PairGrid at 0x25df5230bb0>"
      ]
     },
     "execution_count": 8,
     "metadata": {},
     "output_type": "execute_result"
    },
    {
     "data": {
      "image/png": "[encoded data removed]",
      "text/plain": [
       "<Figure size 720x180 with 4 Axes>"
      ]
     },
     "metadata": {
      "needs_background": "light"
     },
     "output_type": "display_data"
    }
   ],
   "source": [
    "#we can say that,our selected attributes all are related with milege\n",
    "#weight and displacement are more releated with milege\n",
    "\n",
    "sns.pairplot(df, x_vars=df.drop([\"mpg\"], \n",
    "             axis=1, inplace=False).columns, y_vars= [\"mpg\"])"
   ]
  },
  {
   "cell_type": "code",
   "execution_count": 9,
   "id": "122f6724",
   "metadata": {
    "scrolled": false
   },
   "outputs": [
    {
     "data": {
      "image/png": "[encoded data removed]",
      "text/plain": [
       "<Figure size 1200x800 with 6 Axes>"
      ]
     },
     "metadata": {},
     "output_type": "display_data"
    }
   ],
   "source": [
    "#Let's plot histogram on our data\n",
    "df.hist(figsize=(12,8),bins=20)\n",
    "plt.show()"
   ]
  },
  {
   "cell_type": "markdown",
   "id": "2bf4c63f",
   "metadata": {},
   "source": [
    "> observation "
   ]
  },
  {
   "cell_type": "markdown",
   "id": "821cab11",
   "metadata": {},
   "source": [
    "The weights are starting from 1700 to 5030"
   ]
  },
  {
   "cell_type": "markdown",
   "id": "0bf9c15d",
   "metadata": {},
   "source": [
    "The milege is starting from 8 to 35"
   ]
  },
  {
   "cell_type": "markdown",
   "id": "a5dcdd71",
   "metadata": {},
   "source": [
    "The accleration is starting from 8 to 23"
   ]
  },
  {
   "cell_type": "markdown",
   "id": "03707d9a",
   "metadata": {},
   "source": [
    "The displacement is starting from 55 to 453"
   ]
  },
  {
   "cell_type": "code",
   "execution_count": 10,
   "id": "c3f65df6",
   "metadata": {},
   "outputs": [
    {
     "data": {
      "text/html": [
       "<div>\n",
       "<style scoped>\n",
       "    .dataframe tbody tr th:only-of-type {\n",
       "        vertical-align: middle;\n",
       "    }\n",
       "\n",
       "    .dataframe tbody tr th {\n",
       "        vertical-align: top;\n",
       "    }\n",
       "\n",
       "    .dataframe thead th {\n",
       "        text-align: right;\n",
       "    }\n",
       "</style>\n",
       "<table border=\"1\" class=\"dataframe\">\n",
       "  <thead>\n",
       "    <tr style=\"text-align: right;\">\n",
       "      <th></th>\n",
       "      <th>mpg</th>\n",
       "      <th>cylinders</th>\n",
       "      <th>displacement</th>\n",
       "      <th>weight</th>\n",
       "      <th>acceleration</th>\n",
       "    </tr>\n",
       "  </thead>\n",
       "  <tbody>\n",
       "    <tr>\n",
       "      <th>0</th>\n",
       "      <td>18.0</td>\n",
       "      <td>8</td>\n",
       "      <td>307.0</td>\n",
       "      <td>3504.0</td>\n",
       "      <td>12.0</td>\n",
       "    </tr>\n",
       "    <tr>\n",
       "      <th>1</th>\n",
       "      <td>15.0</td>\n",
       "      <td>8</td>\n",
       "      <td>350.0</td>\n",
       "      <td>3693.0</td>\n",
       "      <td>11.5</td>\n",
       "    </tr>\n",
       "    <tr>\n",
       "      <th>2</th>\n",
       "      <td>18.0</td>\n",
       "      <td>8</td>\n",
       "      <td>318.0</td>\n",
       "      <td>3436.0</td>\n",
       "      <td>11.0</td>\n",
       "    </tr>\n",
       "    <tr>\n",
       "      <th>3</th>\n",
       "      <td>16.0</td>\n",
       "      <td>8</td>\n",
       "      <td>304.0</td>\n",
       "      <td>3433.0</td>\n",
       "      <td>12.0</td>\n",
       "    </tr>\n",
       "    <tr>\n",
       "      <th>4</th>\n",
       "      <td>17.0</td>\n",
       "      <td>8</td>\n",
       "      <td>302.0</td>\n",
       "      <td>3449.0</td>\n",
       "      <td>10.5</td>\n",
       "    </tr>\n",
       "    <tr>\n",
       "      <th>...</th>\n",
       "      <td>...</td>\n",
       "      <td>...</td>\n",
       "      <td>...</td>\n",
       "      <td>...</td>\n",
       "      <td>...</td>\n",
       "    </tr>\n",
       "    <tr>\n",
       "      <th>152</th>\n",
       "      <td>19.0</td>\n",
       "      <td>6</td>\n",
       "      <td>225.0</td>\n",
       "      <td>3264.0</td>\n",
       "      <td>16.0</td>\n",
       "    </tr>\n",
       "    <tr>\n",
       "      <th>153</th>\n",
       "      <td>18.0</td>\n",
       "      <td>6</td>\n",
       "      <td>250.0</td>\n",
       "      <td>3459.0</td>\n",
       "      <td>16.0</td>\n",
       "    </tr>\n",
       "    <tr>\n",
       "      <th>154</th>\n",
       "      <td>15.0</td>\n",
       "      <td>6</td>\n",
       "      <td>250.0</td>\n",
       "      <td>3432.0</td>\n",
       "      <td>21.0</td>\n",
       "    </tr>\n",
       "    <tr>\n",
       "      <th>155</th>\n",
       "      <td>15.0</td>\n",
       "      <td>6</td>\n",
       "      <td>250.0</td>\n",
       "      <td>3158.0</td>\n",
       "      <td>19.5</td>\n",
       "    </tr>\n",
       "    <tr>\n",
       "      <th>156</th>\n",
       "      <td>16.0</td>\n",
       "      <td>8</td>\n",
       "      <td>400.0</td>\n",
       "      <td>4668.0</td>\n",
       "      <td>11.5</td>\n",
       "    </tr>\n",
       "  </tbody>\n",
       "</table>\n",
       "<p>157 rows × 5 columns</p>\n",
       "</div>"
      ],
      "text/plain": [
       "      mpg  cylinders  displacement  weight  acceleration\n",
       "0    18.0          8         307.0  3504.0          12.0\n",
       "1    15.0          8         350.0  3693.0          11.5\n",
       "2    18.0          8         318.0  3436.0          11.0\n",
       "3    16.0          8         304.0  3433.0          12.0\n",
       "4    17.0          8         302.0  3449.0          10.5\n",
       "..    ...        ...           ...     ...           ...\n",
       "152  19.0          6         225.0  3264.0          16.0\n",
       "153  18.0          6         250.0  3459.0          16.0\n",
       "154  15.0          6         250.0  3432.0          21.0\n",
       "155  15.0          6         250.0  3158.0          19.5\n",
       "156  16.0          8         400.0  4668.0          11.5\n",
       "\n",
       "[157 rows x 5 columns]"
      ]
     },
     "execution_count": 10,
     "metadata": {},
     "output_type": "execute_result"
    }
   ],
   "source": [
    "df"
   ]
  },
  {
   "cell_type": "code",
   "execution_count": 11,
   "id": "0d0b31f3",
   "metadata": {},
   "outputs": [
    {
     "data": {
      "image/png": "[encoded data removed]",
      "text/plain": [
       "<Figure size 640x480 with 1 Axes>"
      ]
     },
     "metadata": {},
     "output_type": "display_data"
    }
   ],
   "source": [
    "#we have found an outlier in acceleration . Therefore we are going to remove it\n",
    "plt.boxplot(df[\"acceleration\"])\n",
    "plt.show()"
   ]
  },
  {
   "cell_type": "code",
   "execution_count": 12,
   "id": "07f96951",
   "metadata": {},
   "outputs": [],
   "source": [
    "df = df[(df['acceleration']<22.0)]\n",
    "#Now we removed the outlier"
   ]
  },
  {
   "cell_type": "code",
   "execution_count": 13,
   "id": "1a1c391d",
   "metadata": {
    "scrolled": true
   },
   "outputs": [
    {
     "name": "stdout",
     "output_type": "stream",
     "text": [
      "(156, 4)\n",
      "(156,)\n"
     ]
    }
   ],
   "source": [
    "x=df.drop(\"mpg\",axis=1)\n",
    "y=df[\"mpg\"]\n",
    "print(x.shape)\n",
    "print(y.shape)"
   ]
  },
  {
   "cell_type": "markdown",
   "id": "367b29cd",
   "metadata": {},
   "source": [
    "Let split the data into train and test"
   ]
  },
  {
   "cell_type": "code",
   "execution_count": 14,
   "id": "71d76c9e",
   "metadata": {
    "scrolled": true
   },
   "outputs": [],
   "source": [
    "x_train,x_test,y_train,y_test=train_test_split(x,y,test_size=0.3,random_state=1)"
   ]
  },
  {
   "cell_type": "code",
   "execution_count": 15,
   "id": "7e7ad187",
   "metadata": {
    "scrolled": true
   },
   "outputs": [
    {
     "data": {
      "text/plain": [
       "{'cylinders': 4, 'displacement': 41, 'weight': 107, 'acceleration': 24}"
      ]
     },
     "execution_count": 15,
     "metadata": {},
     "output_type": "execute_result"
    }
   ],
   "source": [
    "{column: len(x_train[column].unique()) for column in x_train.columns}"
   ]
  },
  {
   "cell_type": "markdown",
   "id": "89e437cf",
   "metadata": {},
   "source": [
    "Standarization"
   ]
  },
  {
   "cell_type": "code",
   "execution_count": 16,
   "id": "033ba36c",
   "metadata": {
    "scrolled": true
   },
   "outputs": [],
   "source": [
    "scaler = StandardScaler()\n",
    "x_train=pd.DataFrame(scaler.fit_transform(x_train),columns=x_train.columns)\n",
    "x_test =pd.DataFrame(scaler.transform(x_test),columns=x_test.columns)"
   ]
  },
  {
   "cell_type": "markdown",
   "id": "cfca4f0c",
   "metadata": {},
   "source": [
    "Checking how much our independent attributes are correlated to our target variable"
   ]
  },
  {
   "cell_type": "code",
   "execution_count": 17,
   "id": "ea8488b9",
   "metadata": {
    "scrolled": true
   },
   "outputs": [
    {
     "data": {
      "text/plain": [
       "mpg             1.000000\n",
       "cylinders      -0.869761\n",
       "displacement   -0.882342\n",
       "weight         -0.908323\n",
       "acceleration    0.568335\n",
       "Name: mpg, dtype: float64"
      ]
     },
     "execution_count": 17,
     "metadata": {},
     "output_type": "execute_result"
    }
   ],
   "source": [
    "df.corr()['mpg']"
   ]
  },
  {
   "cell_type": "markdown",
   "id": "cef8e904",
   "metadata": {},
   "source": [
    "Model building using this algorithms:\n",
    "- Linear Regression\n",
    "- Decision Tree Regressor\n",
    "- Random Forest Regressor"
   ]
  },
  {
   "cell_type": "code",
   "execution_count": 18,
   "id": "9029af78",
   "metadata": {
    "scrolled": true
   },
   "outputs": [],
   "source": [
    "cv=ShuffleSplit(n_splits=5,test_size=0.2,random_state=1)"
   ]
  },
  {
   "cell_type": "code",
   "execution_count": 19,
   "id": "26fd350f",
   "metadata": {
    "scrolled": true
   },
   "outputs": [
    {
     "data": {
      "text/plain": [
       "array([0.85752207, 0.53453696, 0.86190794, 0.72598535, 0.82773166])"
      ]
     },
     "execution_count": 19,
     "metadata": {},
     "output_type": "execute_result"
    }
   ],
   "source": [
    "cross_val_score(LinearRegression(),x,y,cv=cv)"
   ]
  },
  {
   "cell_type": "code",
   "execution_count": 20,
   "id": "41d26a25",
   "metadata": {
    "scrolled": true
   },
   "outputs": [],
   "source": [
    "def perfect_model(X, y):\n",
    "    model_algo = {\n",
    "      \n",
    "      'Linear_Regression':{\n",
    "          'model': LinearRegression(),\n",
    "          'params': {}\n",
    "        },\n",
    "\n",
    "        'Decision_Tree':{\n",
    "            'model': DecisionTreeRegressor(random_state=22),\n",
    "            'params': {\n",
    "                'criterion': ['squared_error','friedman_mse','absolute_error'],\n",
    "                'splitter': ['best', 'random'],\n",
    "                'max_depth': [x for x in range(5,20,5)],\n",
    "                'min_samples_leaf': [1, 2, 5]\n",
    "            }\n",
    "        },\n",
    "\n",
    "        'Random_forest':{\n",
    "            'model': RandomForestRegressor(),\n",
    "            'params': {\n",
    "                'n_estimators': np.random.randint(20,151,size=5),\n",
    "                'max_depth': [x for x in range(5,35,5)],\n",
    "                'min_samples_split': [2, 5, 10,100],\n",
    "                'min_samples_leaf': [1, 2]\n",
    "            }\n",
    "        }\n",
    "    }\n",
    "  \n",
    "    score = []\n",
    "    cv = ShuffleSplit(n_splits=5, test_size=0.2, random_state=0)\n",
    "    for algo_name, config in model_algo.items():\n",
    "        rs =  RandomizedSearchCV(config['model'], config['params'], cv=cv, return_train_score=False, n_iter=3)\n",
    "        rs.fit(x_train,y_train)\n",
    "        score.append({\n",
    "          'model': algo_name,\n",
    "          'best_score': rs.best_score_,\n",
    "          'best_params': rs.best_params_\n",
    "      })\n",
    "\n",
    "    result = pd.DataFrame(score,columns=['model','best_score','best_params'])\n",
    "    print(result.best_params.tolist())\n",
    "    return result"
   ]
  },
  {
   "cell_type": "code",
   "execution_count": 21,
   "id": "1924c503",
   "metadata": {
    "scrolled": true
   },
   "outputs": [
    {
     "name": "stderr",
     "output_type": "stream",
     "text": [
      "C:\\Users\\sony\\AppData\\Local\\Programs\\Python\\Python39\\lib\\site-packages\\sklearn\\model_selection\\_search.py:306: UserWarning: The total space of parameters 1 is smaller than n_iter=3. Running 1 iterations. For exhaustive searches, use GridSearchCV.\n",
      "  warnings.warn(\n"
     ]
    },
    {
     "name": "stdout",
     "output_type": "stream",
     "text": [
      "[{}, {'splitter': 'random', 'min_samples_leaf': 5, 'max_depth': 5, 'criterion': 'absolute_error'}, {'n_estimators': 148, 'min_samples_split': 2, 'min_samples_leaf': 1, 'max_depth': 5}]\n"
     ]
    },
    {
     "data": {
      "text/html": [
       "<div>\n",
       "<style scoped>\n",
       "    .dataframe tbody tr th:only-of-type {\n",
       "        vertical-align: middle;\n",
       "    }\n",
       "\n",
       "    .dataframe tbody tr th {\n",
       "        vertical-align: top;\n",
       "    }\n",
       "\n",
       "    .dataframe thead th {\n",
       "        text-align: right;\n",
       "    }\n",
       "</style>\n",
       "<table border=\"1\" class=\"dataframe\">\n",
       "  <thead>\n",
       "    <tr style=\"text-align: right;\">\n",
       "      <th></th>\n",
       "      <th>model</th>\n",
       "      <th>best_score</th>\n",
       "      <th>best_params</th>\n",
       "    </tr>\n",
       "  </thead>\n",
       "  <tbody>\n",
       "    <tr>\n",
       "      <th>0</th>\n",
       "      <td>Linear_Regression</td>\n",
       "      <td>0.729146</td>\n",
       "      <td>{}</td>\n",
       "    </tr>\n",
       "    <tr>\n",
       "      <th>1</th>\n",
       "      <td>Decision_Tree</td>\n",
       "      <td>0.668737</td>\n",
       "      <td>{'splitter': 'random', 'min_samples_leaf': 5, ...</td>\n",
       "    </tr>\n",
       "    <tr>\n",
       "      <th>2</th>\n",
       "      <td>Random_forest</td>\n",
       "      <td>0.716143</td>\n",
       "      <td>{'n_estimators': 148, 'min_samples_split': 2, ...</td>\n",
       "    </tr>\n",
       "  </tbody>\n",
       "</table>\n",
       "</div>"
      ],
      "text/plain": [
       "               model  best_score  \\\n",
       "0  Linear_Regression    0.729146   \n",
       "1      Decision_Tree    0.668737   \n",
       "2      Random_forest    0.716143   \n",
       "\n",
       "                                         best_params  \n",
       "0                                                 {}  \n",
       "1  {'splitter': 'random', 'min_samples_leaf': 5, ...  \n",
       "2  {'n_estimators': 148, 'min_samples_split': 2, ...  "
      ]
     },
     "execution_count": 21,
     "metadata": {},
     "output_type": "execute_result"
    }
   ],
   "source": [
    "perfect_model(x,y)"
   ]
  },
  {
   "cell_type": "code",
   "execution_count": 22,
   "id": "2c38def2",
   "metadata": {
    "scrolled": true
   },
   "outputs": [
    {
     "data": {
      "text/plain": [
       "0.8663931586241653"
      ]
     },
     "execution_count": 22,
     "metadata": {},
     "output_type": "execute_result"
    }
   ],
   "source": [
    "final_dec_model = DecisionTreeRegressor(splitter='best', min_samples_leaf= 2, max_depth=20, criterion='absolute_error')\n",
    "final_dec_model.fit(x_train,y_train)\n",
    "final_dec_model.score(x_test,y_test)"
   ]
  },
  {
   "cell_type": "code",
   "execution_count": 23,
   "id": "4f1a6e9f",
   "metadata": {},
   "outputs": [
    {
     "data": {
      "text/plain": [
       "0.8447467626193522"
      ]
     },
     "execution_count": 23,
     "metadata": {},
     "output_type": "execute_result"
    }
   ],
   "source": [
    "final_lr_model = LinearRegression()\n",
    "final_lr_model.fit(x_train,y_train)\n",
    "final_lr_model.score(x_test,y_test)"
   ]
  },
  {
   "cell_type": "code",
   "execution_count": 24,
   "id": "0274d98a",
   "metadata": {
    "scrolled": true
   },
   "outputs": [
    {
     "data": {
      "text/plain": [
       "0.8977805696565768"
      ]
     },
     "execution_count": 24,
     "metadata": {},
     "output_type": "execute_result"
    }
   ],
   "source": [
    "final_rf_model = RandomForestRegressor(n_estimators=500, min_samples_split=2, min_samples_leaf=2, max_depth=20)\n",
    "final_rf_model.fit(x_train,y_train)\n",
    "final_rf_model.score(x_test,y_test)"
   ]
  },
  {
   "cell_type": "code",
   "execution_count": 25,
   "id": "b72bd823",
   "metadata": {
    "scrolled": true
   },
   "outputs": [
    {
     "data": {
      "text/plain": [
       "0.7705985205685737"
      ]
     },
     "execution_count": 25,
     "metadata": {},
     "output_type": "execute_result"
    }
   ],
   "source": [
    "cross_val_score(LinearRegression(),x,y,).mean()"
   ]
  },
  {
   "cell_type": "code",
   "execution_count": 26,
   "id": "261a1e15",
   "metadata": {
    "scrolled": true
   },
   "outputs": [
    {
     "data": {
      "text/plain": [
       "0.7582042280345253"
      ]
     },
     "execution_count": 26,
     "metadata": {},
     "output_type": "execute_result"
    }
   ],
   "source": [
    "cross_val_score( DecisionTreeRegressor(splitter='best', min_samples_leaf= 2, max_depth=20, criterion='absolute_error'),x,y,cv=cv).mean()"
   ]
  },
  {
   "cell_type": "code",
   "execution_count": 27,
   "id": "98f40687",
   "metadata": {},
   "outputs": [
    {
     "data": {
      "text/html": [
       "<div>\n",
       "<style scoped>\n",
       "    .dataframe tbody tr th:only-of-type {\n",
       "        vertical-align: middle;\n",
       "    }\n",
       "\n",
       "    .dataframe tbody tr th {\n",
       "        vertical-align: top;\n",
       "    }\n",
       "\n",
       "    .dataframe thead th {\n",
       "        text-align: right;\n",
       "    }\n",
       "</style>\n",
       "<table border=\"1\" class=\"dataframe\">\n",
       "  <thead>\n",
       "    <tr style=\"text-align: right;\">\n",
       "      <th></th>\n",
       "      <th>cylinders</th>\n",
       "      <th>displacement</th>\n",
       "      <th>weight</th>\n",
       "      <th>acceleration</th>\n",
       "    </tr>\n",
       "  </thead>\n",
       "  <tbody>\n",
       "    <tr>\n",
       "      <th>0</th>\n",
       "      <td>-1.188476</td>\n",
       "      <td>-1.077121</td>\n",
       "      <td>-1.241434</td>\n",
       "      <td>0.356549</td>\n",
       "    </tr>\n",
       "    <tr>\n",
       "      <th>1</th>\n",
       "      <td>-1.188476</td>\n",
       "      <td>-1.033647</td>\n",
       "      <td>-0.371135</td>\n",
       "      <td>0.007994</td>\n",
       "    </tr>\n",
       "    <tr>\n",
       "      <th>2</th>\n",
       "      <td>-1.188476</td>\n",
       "      <td>-1.398830</td>\n",
       "      <td>-1.335763</td>\n",
       "      <td>1.750766</td>\n",
       "    </tr>\n",
       "    <tr>\n",
       "      <th>3</th>\n",
       "      <td>-1.188476</td>\n",
       "      <td>-1.103206</td>\n",
       "      <td>-1.162827</td>\n",
       "      <td>-0.166283</td>\n",
       "    </tr>\n",
       "    <tr>\n",
       "      <th>4</th>\n",
       "      <td>-0.081263</td>\n",
       "      <td>0.087985</td>\n",
       "      <td>0.073559</td>\n",
       "      <td>0.356549</td>\n",
       "    </tr>\n",
       "    <tr>\n",
       "      <th>5</th>\n",
       "      <td>1.025949</td>\n",
       "      <td>0.966163</td>\n",
       "      <td>1.000007</td>\n",
       "      <td>-0.340560</td>\n",
       "    </tr>\n",
       "    <tr>\n",
       "      <th>6</th>\n",
       "      <td>-1.188476</td>\n",
       "      <td>-1.103206</td>\n",
       "      <td>-1.001119</td>\n",
       "      <td>0.182271</td>\n",
       "    </tr>\n",
       "    <tr>\n",
       "      <th>7</th>\n",
       "      <td>-1.188476</td>\n",
       "      <td>-1.146680</td>\n",
       "      <td>-0.993259</td>\n",
       "      <td>0.705103</td>\n",
       "    </tr>\n",
       "    <tr>\n",
       "      <th>8</th>\n",
       "      <td>-1.188476</td>\n",
       "      <td>-1.468388</td>\n",
       "      <td>-1.673776</td>\n",
       "      <td>1.576489</td>\n",
       "    </tr>\n",
       "    <tr>\n",
       "      <th>9</th>\n",
       "      <td>-1.188476</td>\n",
       "      <td>-1.303187</td>\n",
       "      <td>-1.297583</td>\n",
       "      <td>0.356549</td>\n",
       "    </tr>\n",
       "    <tr>\n",
       "      <th>10</th>\n",
       "      <td>-1.188476</td>\n",
       "      <td>-1.398830</td>\n",
       "      <td>-1.418863</td>\n",
       "      <td>0.530826</td>\n",
       "    </tr>\n",
       "    <tr>\n",
       "      <th>11</th>\n",
       "      <td>-1.188476</td>\n",
       "      <td>-1.251018</td>\n",
       "      <td>-1.206622</td>\n",
       "      <td>1.227934</td>\n",
       "    </tr>\n",
       "    <tr>\n",
       "      <th>12</th>\n",
       "      <td>1.025949</td>\n",
       "      <td>0.679233</td>\n",
       "      <td>1.093213</td>\n",
       "      <td>0.007994</td>\n",
       "    </tr>\n",
       "    <tr>\n",
       "      <th>13</th>\n",
       "      <td>1.025949</td>\n",
       "      <td>1.392209</td>\n",
       "      <td>1.348126</td>\n",
       "      <td>-0.863391</td>\n",
       "    </tr>\n",
       "    <tr>\n",
       "      <th>14</th>\n",
       "      <td>1.025949</td>\n",
       "      <td>1.644359</td>\n",
       "      <td>1.896134</td>\n",
       "      <td>-1.037668</td>\n",
       "    </tr>\n",
       "    <tr>\n",
       "      <th>15</th>\n",
       "      <td>1.025949</td>\n",
       "      <td>1.644359</td>\n",
       "      <td>1.210001</td>\n",
       "      <td>-1.560500</td>\n",
       "    </tr>\n",
       "    <tr>\n",
       "      <th>16</th>\n",
       "      <td>1.025949</td>\n",
       "      <td>0.957468</td>\n",
       "      <td>0.449753</td>\n",
       "      <td>-1.211946</td>\n",
       "    </tr>\n",
       "    <tr>\n",
       "      <th>17</th>\n",
       "      <td>-0.081263</td>\n",
       "      <td>-0.355451</td>\n",
       "      <td>-0.549687</td>\n",
       "      <td>0.356549</td>\n",
       "    </tr>\n",
       "    <tr>\n",
       "      <th>18</th>\n",
       "      <td>-1.188476</td>\n",
       "      <td>-1.242323</td>\n",
       "      <td>-1.604152</td>\n",
       "      <td>2.099320</td>\n",
       "    </tr>\n",
       "    <tr>\n",
       "      <th>19</th>\n",
       "      <td>-1.188476</td>\n",
       "      <td>-1.242323</td>\n",
       "      <td>-1.272877</td>\n",
       "      <td>0.007994</td>\n",
       "    </tr>\n",
       "    <tr>\n",
       "      <th>20</th>\n",
       "      <td>-1.188476</td>\n",
       "      <td>-1.294492</td>\n",
       "      <td>-1.469396</td>\n",
       "      <td>2.099320</td>\n",
       "    </tr>\n",
       "    <tr>\n",
       "      <th>21</th>\n",
       "      <td>-1.188476</td>\n",
       "      <td>-1.424914</td>\n",
       "      <td>-1.813024</td>\n",
       "      <td>0.705103</td>\n",
       "    </tr>\n",
       "    <tr>\n",
       "      <th>22</th>\n",
       "      <td>-1.188476</td>\n",
       "      <td>-1.242323</td>\n",
       "      <td>-1.081973</td>\n",
       "      <td>0.007994</td>\n",
       "    </tr>\n",
       "    <tr>\n",
       "      <th>23</th>\n",
       "      <td>-0.081263</td>\n",
       "      <td>0.087985</td>\n",
       "      <td>-0.272314</td>\n",
       "      <td>0.705103</td>\n",
       "    </tr>\n",
       "    <tr>\n",
       "      <th>24</th>\n",
       "      <td>1.025949</td>\n",
       "      <td>1.740002</td>\n",
       "      <td>1.652450</td>\n",
       "      <td>-1.211946</td>\n",
       "    </tr>\n",
       "    <tr>\n",
       "      <th>25</th>\n",
       "      <td>1.025949</td>\n",
       "      <td>1.392209</td>\n",
       "      <td>1.300962</td>\n",
       "      <td>-0.689114</td>\n",
       "    </tr>\n",
       "    <tr>\n",
       "      <th>26</th>\n",
       "      <td>1.025949</td>\n",
       "      <td>1.870424</td>\n",
       "      <td>1.895011</td>\n",
       "      <td>-1.211946</td>\n",
       "    </tr>\n",
       "    <tr>\n",
       "      <th>27</th>\n",
       "      <td>1.025949</td>\n",
       "      <td>1.244397</td>\n",
       "      <td>1.899503</td>\n",
       "      <td>-1.037668</td>\n",
       "    </tr>\n",
       "    <tr>\n",
       "      <th>28</th>\n",
       "      <td>-0.081263</td>\n",
       "      <td>-0.729328</td>\n",
       "      <td>-0.512629</td>\n",
       "      <td>-0.340560</td>\n",
       "    </tr>\n",
       "    <tr>\n",
       "      <th>29</th>\n",
       "      <td>1.025949</td>\n",
       "      <td>1.392209</td>\n",
       "      <td>2.107252</td>\n",
       "      <td>-0.863391</td>\n",
       "    </tr>\n",
       "    <tr>\n",
       "      <th>30</th>\n",
       "      <td>1.025949</td>\n",
       "      <td>0.957468</td>\n",
       "      <td>1.387430</td>\n",
       "      <td>-0.689114</td>\n",
       "    </tr>\n",
       "    <tr>\n",
       "      <th>31</th>\n",
       "      <td>1.025949</td>\n",
       "      <td>0.540116</td>\n",
       "      <td>1.543522</td>\n",
       "      <td>0.530826</td>\n",
       "    </tr>\n",
       "    <tr>\n",
       "      <th>32</th>\n",
       "      <td>1.025949</td>\n",
       "      <td>1.644359</td>\n",
       "      <td>1.537908</td>\n",
       "      <td>-1.211946</td>\n",
       "    </tr>\n",
       "    <tr>\n",
       "      <th>33</th>\n",
       "      <td>-0.081263</td>\n",
       "      <td>-0.068522</td>\n",
       "      <td>-0.706902</td>\n",
       "      <td>-0.514837</td>\n",
       "    </tr>\n",
       "    <tr>\n",
       "      <th>34</th>\n",
       "      <td>-1.188476</td>\n",
       "      <td>-1.398830</td>\n",
       "      <td>-1.460413</td>\n",
       "      <td>0.356549</td>\n",
       "    </tr>\n",
       "    <tr>\n",
       "      <th>35</th>\n",
       "      <td>-1.188476</td>\n",
       "      <td>-0.868445</td>\n",
       "      <td>-0.960693</td>\n",
       "      <td>1.750766</td>\n",
       "    </tr>\n",
       "    <tr>\n",
       "      <th>36</th>\n",
       "      <td>-0.081263</td>\n",
       "      <td>0.087985</td>\n",
       "      <td>0.081420</td>\n",
       "      <td>0.879380</td>\n",
       "    </tr>\n",
       "    <tr>\n",
       "      <th>37</th>\n",
       "      <td>-1.188476</td>\n",
       "      <td>-0.868445</td>\n",
       "      <td>-0.810215</td>\n",
       "      <td>0.879380</td>\n",
       "    </tr>\n",
       "    <tr>\n",
       "      <th>38</th>\n",
       "      <td>-1.188476</td>\n",
       "      <td>-1.042342</td>\n",
       "      <td>-0.869732</td>\n",
       "      <td>0.182271</td>\n",
       "    </tr>\n",
       "    <tr>\n",
       "      <th>39</th>\n",
       "      <td>-0.081263</td>\n",
       "      <td>-0.346756</td>\n",
       "      <td>-0.436267</td>\n",
       "      <td>0.879380</td>\n",
       "    </tr>\n",
       "    <tr>\n",
       "      <th>40</th>\n",
       "      <td>-1.188476</td>\n",
       "      <td>-1.237975</td>\n",
       "      <td>-1.277369</td>\n",
       "      <td>0.879380</td>\n",
       "    </tr>\n",
       "    <tr>\n",
       "      <th>41</th>\n",
       "      <td>1.025949</td>\n",
       "      <td>0.557506</td>\n",
       "      <td>1.649081</td>\n",
       "      <td>1.402211</td>\n",
       "    </tr>\n",
       "    <tr>\n",
       "      <th>42</th>\n",
       "      <td>-0.081263</td>\n",
       "      <td>-0.364146</td>\n",
       "      <td>-0.181354</td>\n",
       "      <td>0.705103</td>\n",
       "    </tr>\n",
       "    <tr>\n",
       "      <th>43</th>\n",
       "      <td>-1.188476</td>\n",
       "      <td>-1.024952</td>\n",
       "      <td>-1.070743</td>\n",
       "      <td>1.402211</td>\n",
       "    </tr>\n",
       "    <tr>\n",
       "      <th>44</th>\n",
       "      <td>-1.188476</td>\n",
       "      <td>-1.459694</td>\n",
       "      <td>-1.853451</td>\n",
       "      <td>1.227934</td>\n",
       "    </tr>\n",
       "    <tr>\n",
       "      <th>45</th>\n",
       "      <td>-0.081263</td>\n",
       "      <td>-0.346756</td>\n",
       "      <td>-0.759682</td>\n",
       "      <td>0.530826</td>\n",
       "    </tr>\n",
       "    <tr>\n",
       "      <th>46</th>\n",
       "      <td>1.025949</td>\n",
       "      <td>0.540116</td>\n",
       "      <td>1.157222</td>\n",
       "      <td>0.530826</td>\n",
       "    </tr>\n",
       "  </tbody>\n",
       "</table>\n",
       "</div>"
      ],
      "text/plain": [
       "    cylinders  displacement    weight  acceleration\n",
       "0   -1.188476     -1.077121 -1.241434      0.356549\n",
       "1   -1.188476     -1.033647 -0.371135      0.007994\n",
       "2   -1.188476     -1.398830 -1.335763      1.750766\n",
       "3   -1.188476     -1.103206 -1.162827     -0.166283\n",
       "4   -0.081263      0.087985  0.073559      0.356549\n",
       "5    1.025949      0.966163  1.000007     -0.340560\n",
       "6   -1.188476     -1.103206 -1.001119      0.182271\n",
       "7   -1.188476     -1.146680 -0.993259      0.705103\n",
       "8   -1.188476     -1.468388 -1.673776      1.576489\n",
       "9   -1.188476     -1.303187 -1.297583      0.356549\n",
       "10  -1.188476     -1.398830 -1.418863      0.530826\n",
       "11  -1.188476     -1.251018 -1.206622      1.227934\n",
       "12   1.025949      0.679233  1.093213      0.007994\n",
       "13   1.025949      1.392209  1.348126     -0.863391\n",
       "14   1.025949      1.644359  1.896134     -1.037668\n",
       "15   1.025949      1.644359  1.210001     -1.560500\n",
       "16   1.025949      0.957468  0.449753     -1.211946\n",
       "17  -0.081263     -0.355451 -0.549687      0.356549\n",
       "18  -1.188476     -1.242323 -1.604152      2.099320\n",
       "19  -1.188476     -1.242323 -1.272877      0.007994\n",
       "20  -1.188476     -1.294492 -1.469396      2.099320\n",
       "21  -1.188476     -1.424914 -1.813024      0.705103\n",
       "22  -1.188476     -1.242323 -1.081973      0.007994\n",
       "23  -0.081263      0.087985 -0.272314      0.705103\n",
       "24   1.025949      1.740002  1.652450     -1.211946\n",
       "25   1.025949      1.392209  1.300962     -0.689114\n",
       "26   1.025949      1.870424  1.895011     -1.211946\n",
       "27   1.025949      1.244397  1.899503     -1.037668\n",
       "28  -0.081263     -0.729328 -0.512629     -0.340560\n",
       "29   1.025949      1.392209  2.107252     -0.863391\n",
       "30   1.025949      0.957468  1.387430     -0.689114\n",
       "31   1.025949      0.540116  1.543522      0.530826\n",
       "32   1.025949      1.644359  1.537908     -1.211946\n",
       "33  -0.081263     -0.068522 -0.706902     -0.514837\n",
       "34  -1.188476     -1.398830 -1.460413      0.356549\n",
       "35  -1.188476     -0.868445 -0.960693      1.750766\n",
       "36  -0.081263      0.087985  0.081420      0.879380\n",
       "37  -1.188476     -0.868445 -0.810215      0.879380\n",
       "38  -1.188476     -1.042342 -0.869732      0.182271\n",
       "39  -0.081263     -0.346756 -0.436267      0.879380\n",
       "40  -1.188476     -1.237975 -1.277369      0.879380\n",
       "41   1.025949      0.557506  1.649081      1.402211\n",
       "42  -0.081263     -0.364146 -0.181354      0.705103\n",
       "43  -1.188476     -1.024952 -1.070743      1.402211\n",
       "44  -1.188476     -1.459694 -1.853451      1.227934\n",
       "45  -0.081263     -0.346756 -0.759682      0.530826\n",
       "46   1.025949      0.540116  1.157222      0.530826"
      ]
     },
     "execution_count": 27,
     "metadata": {},
     "output_type": "execute_result"
    }
   ],
   "source": [
    "x_test"
   ]
  },
  {
   "cell_type": "code",
   "execution_count": 28,
   "id": "1469925f",
   "metadata": {},
   "outputs": [
    {
     "data": {
      "text/plain": [
       "array([26.82587063, 21.38695476, 29.77007857, 24.28014652, 18.38429841,\n",
       "       14.05741825, 24.14754206, 25.05458016, 30.3222881 , 28.13334286,\n",
       "       30.5276619 , 26.63410548, 13.7671127 , 13.62471429, 13.9014381 ,\n",
       "       14.14957857, 14.93504048, 21.62112381, 26.92266587, 27.08508405,\n",
       "       28.26764683, 30.53215952, 24.69261501, 18.01232381, 13.96215476,\n",
       "       13.09454286, 13.8600381 , 14.03669841, 21.36868333, 13.16181905,\n",
       "       13.14636522, 12.44718333, 14.05105952, 18.60037857, 30.5893119 ,\n",
       "       21.84162619, 17.54820079, 22.81104524, 22.45088095, 21.87759286,\n",
       "       27.11935628, 12.10814264, 21.72856429, 22.45022381, 30.35124048,\n",
       "       22.17041905, 14.3404881 ])"
      ]
     },
     "execution_count": 28,
     "metadata": {},
     "output_type": "execute_result"
    }
   ],
   "source": [
    "final_rf_model.predict(x_test)"
   ]
  },
  {
   "cell_type": "code",
   "execution_count": 29,
   "id": "26280341",
   "metadata": {},
   "outputs": [
    {
     "name": "stdout",
     "output_type": "stream",
     "text": [
      "Mean Square Error: 4.40732794188728\n",
      "Root Mean Square Error: 2.0993636992877818\n",
      "Mean Absolute Error: 1.6541929265769688\n"
     ]
    }
   ],
   "source": [
    "#let's find out mean square error, root mean square error and mean absolute error\n",
    "from sklearn.metrics import mean_squared_error, mean_absolute_error\n",
    "\n",
    "y_pred = final_rf_model.predict(x_test)\n",
    "\n",
    "mse = mean_squared_error(y_test, y_pred)\n",
    "mae = mean_absolute_error(y_test, y_pred)\n",
    "rmse = np.sqrt(mse)\n",
    "\n",
    "print(\"Mean Square Error:\", mse)\n",
    "print(\"Root Mean Square Error:\", rmse)\n",
    "print(\"Mean Absolute Error:\", mae)"
   ]
  },
  {
   "cell_type": "markdown",
   "id": "e638aa55",
   "metadata": {},
   "source": [
    "- I got 90% accuracy for RanomForestRegressor model\n",
    "- Therefore I am taking my final model as RandomForestRegressor"
   ]
  },
  {
   "cell_type": "code",
   "execution_count": 30,
   "id": "f58c14f0",
   "metadata": {},
   "outputs": [],
   "source": [
    "def prediction(cylinders,displacement,weight,acceleration):\n",
    "    X_pred = np.zeros(4)\n",
    "    X_pred[0]=cylinders\n",
    "    X_pred[1]=displacement\n",
    "    X_pred[2]=weight\n",
    "    X_pred[3]=acceleration\n",
    "    X_pred = scaler.transform([X_pred])\n",
    "    prediction = final_lr_model.predict(X_pred)\n",
    "    return prediction"
   ]
  },
  {
   "cell_type": "code",
   "execution_count": 31,
   "id": "f4cc3386",
   "metadata": {},
   "outputs": [
    {
     "name": "stderr",
     "output_type": "stream",
     "text": [
      "C:\\Users\\sony\\AppData\\Local\\Programs\\Python\\Python39\\lib\\site-packages\\sklearn\\base.py:450: UserWarning: X does not have valid feature names, but StandardScaler was fitted with feature names\n",
      "  warnings.warn(\n",
      "C:\\Users\\sony\\AppData\\Local\\Programs\\Python\\Python39\\lib\\site-packages\\sklearn\\base.py:450: UserWarning: X does not have valid feature names, but LinearRegression was fitted with feature names\n",
      "  warnings.warn(\n"
     ]
    },
    {
     "data": {
      "text/plain": [
       "array([19.69330909])"
      ]
     },
     "execution_count": 31,
     "metadata": {},
     "output_type": "execute_result"
    }
   ],
   "source": [
    "prediction(8,120,3218,21)"
   ]
  },
  {
   "cell_type": "code",
   "execution_count": 32,
   "id": "56a54b05",
   "metadata": {
    "scrolled": true
   },
   "outputs": [],
   "source": [
    "#let's save the random forest regressor model and scaler in the form pickle file\n",
    "\n",
    "import pickle\n",
    "with open('milege_model.pkl','wb') as file:\n",
    "    pickle.dump(final_rf_model,file)\n",
    "    \n",
    "with open(\"scaler_mpg.pickle\",\"wb\") as file:\n",
    "    pickle.dump(scaler,file)"
   ]
  }
 ],
 "metadata": {
  "kernelspec": {
   "display_name": "Python 3 (ipykernel)",
   "language": "python",
   "name": "python3"
  },
  "language_info": {
   "codemirror_mode": {
    "name": "ipython",
    "version": 3
   },
   "file_extension": ".py",
   "mimetype": "text/x-python",
   "name": "python",
   "nbconvert_exporter": "python",
   "pygments_lexer": "ipython3",
   "version": "3.9.13"
  }
 },
 "nbformat": 4,
 "nbformat_minor": 5
}
