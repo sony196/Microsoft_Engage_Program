{
 "cells": [
  {
   "cell_type": "code",
   "execution_count": 1,
   "id": "3ffbf195",
   "metadata": {},
   "outputs": [],
   "source": [
    "import pandas as pd\n",
    "import numpy as np\n",
    "import matplotlib.pyplot as plt\n",
    "import matplotlib\n",
    "import seaborn as sns\n",
    "from sklearn.model_selection import train_test_split\n",
    "from sklearn.linear_model import LinearRegression\n",
    "from sklearn.ensemble import RandomForestRegressor\n",
    "from sklearn.tree import DecisionTreeRegressor"
   ]
  },
  {
   "cell_type": "code",
   "execution_count": 2,
   "id": "a8ef1309",
   "metadata": {},
   "outputs": [],
   "source": [
    "from sklearn.preprocessing import StandardScaler"
   ]
  },
  {
   "cell_type": "code",
   "execution_count": 3,
   "id": "b31903d3",
   "metadata": {},
   "outputs": [],
   "source": [
    "df = pd.read_csv('car_mpg(new).csv')"
   ]
  },
  {
   "cell_type": "code",
   "execution_count": 4,
   "id": "113950ab",
   "metadata": {},
   "outputs": [
    {
     "data": {
      "text/plain": [
       "(157, 23)"
      ]
     },
     "execution_count": 4,
     "metadata": {},
     "output_type": "execute_result"
    }
   ],
   "source": [
    "df.shape"
   ]
  },
  {
   "cell_type": "code",
   "execution_count": 5,
   "id": "a7ed4667",
   "metadata": {},
   "outputs": [
    {
     "data": {
      "text/plain": [
       "Index(['Manufacturer', 'Model', 'Sales_in_thousands', '__year_resale_value',\n",
       "       'Vehicle_type', 'Price_in_thousands', 'Engine_size', 'Horsepower',\n",
       "       'Wheelbase', 'Width', 'Length', 'Curb_weight', 'Fuel_capacity',\n",
       "       'Fuel_efficiency', 'Latest_Launch', 'Power_perf_factor', 'mpg',\n",
       "       'cylinders', 'displacement', 'weight', 'acceleration', 'model year',\n",
       "       'origin'],\n",
       "      dtype='object')"
      ]
     },
     "execution_count": 5,
     "metadata": {},
     "output_type": "execute_result"
    }
   ],
   "source": [
    "df.columns"
   ]
  },
  {
   "cell_type": "markdown",
   "id": "dec6284b",
   "metadata": {},
   "source": [
    "Dealing with Null values"
   ]
  },
  {
   "cell_type": "code",
   "execution_count": 6,
   "id": "6c78dcc3",
   "metadata": {},
   "outputs": [],
   "source": [
    "df=df.drop([\"Manufacturer\",\"__year_resale_value\",\"Latest_Launch\",\"mpg\",\"cylinders\",\"displacement\",\"weight\",\"acceleration\",\"model year\",\"origin\"],axis=1)"
   ]
  },
  {
   "cell_type": "code",
   "execution_count": 7,
   "id": "c00cee60",
   "metadata": {
    "scrolled": true
   },
   "outputs": [
    {
     "data": {
      "text/plain": [
       "Model                 0\n",
       "Sales_in_thousands    0\n",
       "Vehicle_type          0\n",
       "Price_in_thousands    2\n",
       "Engine_size           1\n",
       "Horsepower            1\n",
       "Wheelbase             1\n",
       "Width                 1\n",
       "Length                1\n",
       "Curb_weight           2\n",
       "Fuel_capacity         1\n",
       "Fuel_efficiency       3\n",
       "Power_perf_factor     2\n",
       "dtype: int64"
      ]
     },
     "execution_count": 7,
     "metadata": {},
     "output_type": "execute_result"
    }
   ],
   "source": [
    "df.isna().sum()"
   ]
  },
  {
   "cell_type": "code",
   "execution_count": 8,
   "id": "855d470a",
   "metadata": {},
   "outputs": [],
   "source": [
    "df=df.drop([\"Power_perf_factor\",\"Curb_weight\"],axis=1)"
   ]
  },
  {
   "cell_type": "code",
   "execution_count": 9,
   "id": "d373ab14",
   "metadata": {},
   "outputs": [],
   "source": [
    "df[\"Price_in_thousands\"].fillna(value=df[\"Price_in_thousands\"].mean(),inplace=True)\n",
    "df[\"Engine_size\"].fillna(value=df[\"Engine_size\"].mean(),inplace=True)\n",
    "df[\"Horsepower\"].fillna(value=df[\"Horsepower\"].mean(),inplace=True)\n",
    "df[\"Wheelbase\"].fillna(value=df[\"Wheelbase\"].mean(),inplace=True)\n",
    "df[\"Width\"].fillna(value=df[\"Width\"].mean(),inplace=True)\n",
    "df[\"Length\"].fillna(value=df[\"Length\"].mean(),inplace=True)\n",
    "df[\"Fuel_capacity\"].fillna(value=df[\"Fuel_capacity\"].mean(),inplace=True)"
   ]
  },
  {
   "cell_type": "code",
   "execution_count": 10,
   "id": "0a8626a5",
   "metadata": {},
   "outputs": [
    {
     "data": {
      "text/html": [
       "<div>\n",
       "<style scoped>\n",
       "    .dataframe tbody tr th:only-of-type {\n",
       "        vertical-align: middle;\n",
       "    }\n",
       "\n",
       "    .dataframe tbody tr th {\n",
       "        vertical-align: top;\n",
       "    }\n",
       "\n",
       "    .dataframe thead th {\n",
       "        text-align: right;\n",
       "    }\n",
       "</style>\n",
       "<table border=\"1\" class=\"dataframe\">\n",
       "  <thead>\n",
       "    <tr style=\"text-align: right;\">\n",
       "      <th></th>\n",
       "      <th>Model</th>\n",
       "      <th>Sales_in_thousands</th>\n",
       "      <th>Vehicle_type</th>\n",
       "      <th>Price_in_thousands</th>\n",
       "      <th>Engine_size</th>\n",
       "      <th>Horsepower</th>\n",
       "      <th>Wheelbase</th>\n",
       "      <th>Width</th>\n",
       "      <th>Length</th>\n",
       "      <th>Fuel_capacity</th>\n",
       "      <th>Fuel_efficiency</th>\n",
       "    </tr>\n",
       "  </thead>\n",
       "  <tbody>\n",
       "    <tr>\n",
       "      <th>0</th>\n",
       "      <td>Integra</td>\n",
       "      <td>16.919</td>\n",
       "      <td>Passenger</td>\n",
       "      <td>21.500000</td>\n",
       "      <td>1.8</td>\n",
       "      <td>140.0</td>\n",
       "      <td>101.2</td>\n",
       "      <td>67.3</td>\n",
       "      <td>172.4</td>\n",
       "      <td>13.2</td>\n",
       "      <td>28.0</td>\n",
       "    </tr>\n",
       "    <tr>\n",
       "      <th>1</th>\n",
       "      <td>TL</td>\n",
       "      <td>39.384</td>\n",
       "      <td>Passenger</td>\n",
       "      <td>28.400000</td>\n",
       "      <td>3.2</td>\n",
       "      <td>225.0</td>\n",
       "      <td>108.1</td>\n",
       "      <td>70.3</td>\n",
       "      <td>192.9</td>\n",
       "      <td>17.2</td>\n",
       "      <td>25.0</td>\n",
       "    </tr>\n",
       "    <tr>\n",
       "      <th>2</th>\n",
       "      <td>CL</td>\n",
       "      <td>14.114</td>\n",
       "      <td>Passenger</td>\n",
       "      <td>27.390755</td>\n",
       "      <td>3.2</td>\n",
       "      <td>225.0</td>\n",
       "      <td>106.9</td>\n",
       "      <td>70.6</td>\n",
       "      <td>192.0</td>\n",
       "      <td>17.2</td>\n",
       "      <td>26.0</td>\n",
       "    </tr>\n",
       "    <tr>\n",
       "      <th>3</th>\n",
       "      <td>RL</td>\n",
       "      <td>8.588</td>\n",
       "      <td>Passenger</td>\n",
       "      <td>42.000000</td>\n",
       "      <td>3.5</td>\n",
       "      <td>210.0</td>\n",
       "      <td>114.6</td>\n",
       "      <td>71.4</td>\n",
       "      <td>196.6</td>\n",
       "      <td>18.0</td>\n",
       "      <td>22.0</td>\n",
       "    </tr>\n",
       "    <tr>\n",
       "      <th>4</th>\n",
       "      <td>A4</td>\n",
       "      <td>20.397</td>\n",
       "      <td>Passenger</td>\n",
       "      <td>23.990000</td>\n",
       "      <td>1.8</td>\n",
       "      <td>150.0</td>\n",
       "      <td>102.6</td>\n",
       "      <td>68.2</td>\n",
       "      <td>178.0</td>\n",
       "      <td>16.4</td>\n",
       "      <td>27.0</td>\n",
       "    </tr>\n",
       "    <tr>\n",
       "      <th>...</th>\n",
       "      <td>...</td>\n",
       "      <td>...</td>\n",
       "      <td>...</td>\n",
       "      <td>...</td>\n",
       "      <td>...</td>\n",
       "      <td>...</td>\n",
       "      <td>...</td>\n",
       "      <td>...</td>\n",
       "      <td>...</td>\n",
       "      <td>...</td>\n",
       "      <td>...</td>\n",
       "    </tr>\n",
       "    <tr>\n",
       "      <th>152</th>\n",
       "      <td>V40</td>\n",
       "      <td>3.545</td>\n",
       "      <td>Passenger</td>\n",
       "      <td>24.400000</td>\n",
       "      <td>1.9</td>\n",
       "      <td>160.0</td>\n",
       "      <td>100.5</td>\n",
       "      <td>67.6</td>\n",
       "      <td>176.6</td>\n",
       "      <td>15.8</td>\n",
       "      <td>25.0</td>\n",
       "    </tr>\n",
       "    <tr>\n",
       "      <th>153</th>\n",
       "      <td>S70</td>\n",
       "      <td>15.245</td>\n",
       "      <td>Passenger</td>\n",
       "      <td>27.500000</td>\n",
       "      <td>2.4</td>\n",
       "      <td>168.0</td>\n",
       "      <td>104.9</td>\n",
       "      <td>69.3</td>\n",
       "      <td>185.9</td>\n",
       "      <td>17.9</td>\n",
       "      <td>25.0</td>\n",
       "    </tr>\n",
       "    <tr>\n",
       "      <th>154</th>\n",
       "      <td>V70</td>\n",
       "      <td>17.531</td>\n",
       "      <td>Passenger</td>\n",
       "      <td>28.800000</td>\n",
       "      <td>2.4</td>\n",
       "      <td>168.0</td>\n",
       "      <td>104.9</td>\n",
       "      <td>69.3</td>\n",
       "      <td>186.2</td>\n",
       "      <td>17.9</td>\n",
       "      <td>25.0</td>\n",
       "    </tr>\n",
       "    <tr>\n",
       "      <th>155</th>\n",
       "      <td>C70</td>\n",
       "      <td>3.493</td>\n",
       "      <td>Passenger</td>\n",
       "      <td>45.500000</td>\n",
       "      <td>2.3</td>\n",
       "      <td>236.0</td>\n",
       "      <td>104.9</td>\n",
       "      <td>71.5</td>\n",
       "      <td>185.7</td>\n",
       "      <td>18.5</td>\n",
       "      <td>23.0</td>\n",
       "    </tr>\n",
       "    <tr>\n",
       "      <th>156</th>\n",
       "      <td>S80</td>\n",
       "      <td>18.969</td>\n",
       "      <td>Passenger</td>\n",
       "      <td>36.000000</td>\n",
       "      <td>2.9</td>\n",
       "      <td>201.0</td>\n",
       "      <td>109.9</td>\n",
       "      <td>72.1</td>\n",
       "      <td>189.8</td>\n",
       "      <td>21.1</td>\n",
       "      <td>24.0</td>\n",
       "    </tr>\n",
       "  </tbody>\n",
       "</table>\n",
       "<p>157 rows × 11 columns</p>\n",
       "</div>"
      ],
      "text/plain": [
       "       Model  Sales_in_thousands Vehicle_type  Price_in_thousands  \\\n",
       "0    Integra              16.919    Passenger           21.500000   \n",
       "1         TL              39.384    Passenger           28.400000   \n",
       "2         CL              14.114    Passenger           27.390755   \n",
       "3         RL               8.588    Passenger           42.000000   \n",
       "4         A4              20.397    Passenger           23.990000   \n",
       "..       ...                 ...          ...                 ...   \n",
       "152      V40               3.545    Passenger           24.400000   \n",
       "153      S70              15.245    Passenger           27.500000   \n",
       "154      V70              17.531    Passenger           28.800000   \n",
       "155      C70               3.493    Passenger           45.500000   \n",
       "156      S80              18.969    Passenger           36.000000   \n",
       "\n",
       "     Engine_size  Horsepower  Wheelbase  Width  Length  Fuel_capacity  \\\n",
       "0            1.8       140.0      101.2   67.3   172.4           13.2   \n",
       "1            3.2       225.0      108.1   70.3   192.9           17.2   \n",
       "2            3.2       225.0      106.9   70.6   192.0           17.2   \n",
       "3            3.5       210.0      114.6   71.4   196.6           18.0   \n",
       "4            1.8       150.0      102.6   68.2   178.0           16.4   \n",
       "..           ...         ...        ...    ...     ...            ...   \n",
       "152          1.9       160.0      100.5   67.6   176.6           15.8   \n",
       "153          2.4       168.0      104.9   69.3   185.9           17.9   \n",
       "154          2.4       168.0      104.9   69.3   186.2           17.9   \n",
       "155          2.3       236.0      104.9   71.5   185.7           18.5   \n",
       "156          2.9       201.0      109.9   72.1   189.8           21.1   \n",
       "\n",
       "     Fuel_efficiency  \n",
       "0               28.0  \n",
       "1               25.0  \n",
       "2               26.0  \n",
       "3               22.0  \n",
       "4               27.0  \n",
       "..               ...  \n",
       "152             25.0  \n",
       "153             25.0  \n",
       "154             25.0  \n",
       "155             23.0  \n",
       "156             24.0  \n",
       "\n",
       "[157 rows x 11 columns]"
      ]
     },
     "execution_count": 10,
     "metadata": {},
     "output_type": "execute_result"
    }
   ],
   "source": [
    "df"
   ]
  },
  {
   "cell_type": "code",
   "execution_count": 11,
   "id": "272d42a6",
   "metadata": {},
   "outputs": [],
   "source": [
    "df=df.drop([\"Vehicle_type\"],axis=1)"
   ]
  },
  {
   "cell_type": "code",
   "execution_count": 12,
   "id": "2046c4ce",
   "metadata": {},
   "outputs": [
    {
     "data": {
      "text/plain": [
       "(157, 10)"
      ]
     },
     "execution_count": 12,
     "metadata": {},
     "output_type": "execute_result"
    }
   ],
   "source": [
    "df.drop_duplicates(keep='last')\n",
    "df.shape"
   ]
  },
  {
   "cell_type": "markdown",
   "id": "7ae01f43",
   "metadata": {},
   "source": [
    "Exploring every feature"
   ]
  },
  {
   "cell_type": "code",
   "execution_count": 13,
   "id": "3d601fa2",
   "metadata": {},
   "outputs": [
    {
     "data": {
      "text/html": [
       "<div>\n",
       "<style scoped>\n",
       "    .dataframe tbody tr th:only-of-type {\n",
       "        vertical-align: middle;\n",
       "    }\n",
       "\n",
       "    .dataframe tbody tr th {\n",
       "        vertical-align: top;\n",
       "    }\n",
       "\n",
       "    .dataframe thead th {\n",
       "        text-align: right;\n",
       "    }\n",
       "</style>\n",
       "<table border=\"1\" class=\"dataframe\">\n",
       "  <thead>\n",
       "    <tr style=\"text-align: right;\">\n",
       "      <th></th>\n",
       "      <th>Model</th>\n",
       "      <th>Sales_in_thousands</th>\n",
       "      <th>Price_in_thousands</th>\n",
       "      <th>Engine_size</th>\n",
       "      <th>Horsepower</th>\n",
       "      <th>Wheelbase</th>\n",
       "      <th>Width</th>\n",
       "      <th>Length</th>\n",
       "      <th>Fuel_capacity</th>\n",
       "      <th>Fuel_efficiency</th>\n",
       "    </tr>\n",
       "  </thead>\n",
       "  <tbody>\n",
       "    <tr>\n",
       "      <th>26</th>\n",
       "      <td>Metro</td>\n",
       "      <td>21.855</td>\n",
       "      <td>9.235</td>\n",
       "      <td>1.0</td>\n",
       "      <td>55.0</td>\n",
       "      <td>93.1</td>\n",
       "      <td>62.6</td>\n",
       "      <td>149.4</td>\n",
       "      <td>10.3</td>\n",
       "      <td>45.0</td>\n",
       "    </tr>\n",
       "    <tr>\n",
       "      <th>136</th>\n",
       "      <td>Corolla</td>\n",
       "      <td>142.535</td>\n",
       "      <td>13.108</td>\n",
       "      <td>1.8</td>\n",
       "      <td>120.0</td>\n",
       "      <td>97.0</td>\n",
       "      <td>66.7</td>\n",
       "      <td>174.0</td>\n",
       "      <td>13.2</td>\n",
       "      <td>33.0</td>\n",
       "    </tr>\n",
       "    <tr>\n",
       "      <th>130</th>\n",
       "      <td>SC</td>\n",
       "      <td>24.546</td>\n",
       "      <td>12.535</td>\n",
       "      <td>1.9</td>\n",
       "      <td>100.0</td>\n",
       "      <td>102.4</td>\n",
       "      <td>66.4</td>\n",
       "      <td>180.0</td>\n",
       "      <td>12.1</td>\n",
       "      <td>33.0</td>\n",
       "    </tr>\n",
       "    <tr>\n",
       "      <th>129</th>\n",
       "      <td>SL</td>\n",
       "      <td>80.620</td>\n",
       "      <td>10.685</td>\n",
       "      <td>1.9</td>\n",
       "      <td>100.0</td>\n",
       "      <td>102.4</td>\n",
       "      <td>66.4</td>\n",
       "      <td>176.9</td>\n",
       "      <td>12.1</td>\n",
       "      <td>33.0</td>\n",
       "    </tr>\n",
       "    <tr>\n",
       "      <th>25</th>\n",
       "      <td>Prizm</td>\n",
       "      <td>32.299</td>\n",
       "      <td>13.960</td>\n",
       "      <td>1.8</td>\n",
       "      <td>120.0</td>\n",
       "      <td>97.1</td>\n",
       "      <td>66.7</td>\n",
       "      <td>174.3</td>\n",
       "      <td>13.2</td>\n",
       "      <td>33.0</td>\n",
       "    </tr>\n",
       "    <tr>\n",
       "      <th>57</th>\n",
       "      <td>Civic</td>\n",
       "      <td>199.685</td>\n",
       "      <td>12.885</td>\n",
       "      <td>1.6</td>\n",
       "      <td>106.0</td>\n",
       "      <td>103.2</td>\n",
       "      <td>67.1</td>\n",
       "      <td>175.1</td>\n",
       "      <td>11.9</td>\n",
       "      <td>32.0</td>\n",
       "    </tr>\n",
       "    <tr>\n",
       "      <th>62</th>\n",
       "      <td>Accent</td>\n",
       "      <td>41.184</td>\n",
       "      <td>9.699</td>\n",
       "      <td>1.5</td>\n",
       "      <td>92.0</td>\n",
       "      <td>96.1</td>\n",
       "      <td>65.7</td>\n",
       "      <td>166.7</td>\n",
       "      <td>11.9</td>\n",
       "      <td>31.0</td>\n",
       "    </tr>\n",
       "    <tr>\n",
       "      <th>139</th>\n",
       "      <td>Celica</td>\n",
       "      <td>33.269</td>\n",
       "      <td>16.875</td>\n",
       "      <td>1.8</td>\n",
       "      <td>140.0</td>\n",
       "      <td>102.4</td>\n",
       "      <td>68.3</td>\n",
       "      <td>170.5</td>\n",
       "      <td>14.5</td>\n",
       "      <td>31.0</td>\n",
       "    </tr>\n",
       "    <tr>\n",
       "      <th>131</th>\n",
       "      <td>SW</td>\n",
       "      <td>5.223</td>\n",
       "      <td>14.290</td>\n",
       "      <td>1.9</td>\n",
       "      <td>124.0</td>\n",
       "      <td>102.4</td>\n",
       "      <td>66.4</td>\n",
       "      <td>176.9</td>\n",
       "      <td>12.1</td>\n",
       "      <td>31.0</td>\n",
       "    </tr>\n",
       "  </tbody>\n",
       "</table>\n",
       "</div>"
      ],
      "text/plain": [
       "       Model  Sales_in_thousands  Price_in_thousands  Engine_size  Horsepower  \\\n",
       "26     Metro              21.855               9.235          1.0        55.0   \n",
       "136  Corolla             142.535              13.108          1.8       120.0   \n",
       "130       SC              24.546              12.535          1.9       100.0   \n",
       "129       SL              80.620              10.685          1.9       100.0   \n",
       "25     Prizm              32.299              13.960          1.8       120.0   \n",
       "57     Civic             199.685              12.885          1.6       106.0   \n",
       "62    Accent              41.184               9.699          1.5        92.0   \n",
       "139   Celica              33.269              16.875          1.8       140.0   \n",
       "131       SW               5.223              14.290          1.9       124.0   \n",
       "\n",
       "     Wheelbase  Width  Length  Fuel_capacity  Fuel_efficiency  \n",
       "26        93.1   62.6   149.4           10.3             45.0  \n",
       "136       97.0   66.7   174.0           13.2             33.0  \n",
       "130      102.4   66.4   180.0           12.1             33.0  \n",
       "129      102.4   66.4   176.9           12.1             33.0  \n",
       "25        97.1   66.7   174.3           13.2             33.0  \n",
       "57       103.2   67.1   175.1           11.9             32.0  \n",
       "62        96.1   65.7   166.7           11.9             31.0  \n",
       "139      102.4   68.3   170.5           14.5             31.0  \n",
       "131      102.4   66.4   176.9           12.1             31.0  "
      ]
     },
     "execution_count": 13,
     "metadata": {},
     "output_type": "execute_result"
    }
   ],
   "source": [
    "df_sort = df.sort_values(by='Fuel_efficiency',ascending = False)\n",
    "df_sort.head(9)"
   ]
  },
  {
   "cell_type": "code",
   "execution_count": 14,
   "id": "a20ad9bd",
   "metadata": {},
   "outputs": [],
   "source": [
    "def max_min_val(col):\n",
    "    '''\n",
    "    This function takes the column name as the argument\n",
    "    and returns the top and bottom observations in the dataframe\n",
    "    '''\n",
    "    first = df[col].idxmax()\n",
    "    first_obs = pd.DataFrame(df.loc[first])\n",
    "    \n",
    "    last = df[col].idxmin()\n",
    "    last_obs = pd.DataFrame(df.loc[last])\n",
    "    \n",
    "    min_max_obs = pd.concat([first_obs, last_obs], axis=1)\n",
    "    \n",
    "    return min_max_obs"
   ]
  },
  {
   "cell_type": "code",
   "execution_count": 15,
   "id": "66cfbbf3",
   "metadata": {},
   "outputs": [
    {
     "data": {
      "text/html": [
       "<div>\n",
       "<style scoped>\n",
       "    .dataframe tbody tr th:only-of-type {\n",
       "        vertical-align: middle;\n",
       "    }\n",
       "\n",
       "    .dataframe tbody tr th {\n",
       "        vertical-align: top;\n",
       "    }\n",
       "\n",
       "    .dataframe thead th {\n",
       "        text-align: right;\n",
       "    }\n",
       "</style>\n",
       "<table border=\"1\" class=\"dataframe\">\n",
       "  <thead>\n",
       "    <tr style=\"text-align: right;\">\n",
       "      <th></th>\n",
       "      <th>56</th>\n",
       "      <th>83</th>\n",
       "    </tr>\n",
       "  </thead>\n",
       "  <tbody>\n",
       "    <tr>\n",
       "      <th>Model</th>\n",
       "      <td>F-Series</td>\n",
       "      <td>3000GT</td>\n",
       "    </tr>\n",
       "    <tr>\n",
       "      <th>Sales_in_thousands</th>\n",
       "      <td>540.561</td>\n",
       "      <td>0.11</td>\n",
       "    </tr>\n",
       "    <tr>\n",
       "      <th>Price_in_thousands</th>\n",
       "      <td>26.935</td>\n",
       "      <td>25.45</td>\n",
       "    </tr>\n",
       "    <tr>\n",
       "      <th>Engine_size</th>\n",
       "      <td>4.6</td>\n",
       "      <td>3.0</td>\n",
       "    </tr>\n",
       "    <tr>\n",
       "      <th>Horsepower</th>\n",
       "      <td>220.0</td>\n",
       "      <td>161.0</td>\n",
       "    </tr>\n",
       "    <tr>\n",
       "      <th>Wheelbase</th>\n",
       "      <td>138.5</td>\n",
       "      <td>97.2</td>\n",
       "    </tr>\n",
       "    <tr>\n",
       "      <th>Width</th>\n",
       "      <td>79.1</td>\n",
       "      <td>72.4</td>\n",
       "    </tr>\n",
       "    <tr>\n",
       "      <th>Length</th>\n",
       "      <td>224.5</td>\n",
       "      <td>180.3</td>\n",
       "    </tr>\n",
       "    <tr>\n",
       "      <th>Fuel_capacity</th>\n",
       "      <td>25.1</td>\n",
       "      <td>19.8</td>\n",
       "    </tr>\n",
       "    <tr>\n",
       "      <th>Fuel_efficiency</th>\n",
       "      <td>18.0</td>\n",
       "      <td>21.0</td>\n",
       "    </tr>\n",
       "  </tbody>\n",
       "</table>\n",
       "</div>"
      ],
      "text/plain": [
       "                          56      83\n",
       "Model               F-Series  3000GT\n",
       "Sales_in_thousands   540.561    0.11\n",
       "Price_in_thousands    26.935   25.45\n",
       "Engine_size              4.6     3.0\n",
       "Horsepower             220.0   161.0\n",
       "Wheelbase              138.5    97.2\n",
       "Width                   79.1    72.4\n",
       "Length                 224.5   180.3\n",
       "Fuel_capacity           25.1    19.8\n",
       "Fuel_efficiency         18.0    21.0"
      ]
     },
     "execution_count": 15,
     "metadata": {},
     "output_type": "execute_result"
    }
   ],
   "source": [
    "max_min_val('Sales_in_thousands')"
   ]
  },
  {
   "cell_type": "code",
   "execution_count": 16,
   "id": "e1f06748",
   "metadata": {},
   "outputs": [
    {
     "data": {
      "text/plain": [
       "(array([ 2., 27., 44., 43., 22., 10.,  7.,  1.,  0.,  1.]),\n",
       " array([ 55. ,  94.5, 134. , 173.5, 213. , 252.5, 292. , 331.5, 371. ,\n",
       "        410.5, 450. ]),\n",
       " <BarContainer object of 10 artists>)"
      ]
     },
     "execution_count": 16,
     "metadata": {},
     "output_type": "execute_result"
    },
    {
     "data": {
      "image/png": "[encoded data removed]",
      "text/plain": [
       "<Figure size 432x288 with 1 Axes>"
      ]
     },
     "metadata": {
      "needs_background": "light"
     },
     "output_type": "display_data"
    }
   ],
   "source": [
    "plt.hist(df['Horsepower'],10)"
   ]
  },
  {
   "cell_type": "code",
   "execution_count": 17,
   "id": "bf2f63f3",
   "metadata": {},
   "outputs": [
    {
     "name": "stderr",
     "output_type": "stream",
     "text": [
      "C:\\Users\\sony\\AppData\\Local\\Programs\\Python\\Python39\\lib\\site-packages\\seaborn\\distributions.py:2619: FutureWarning: `distplot` is a deprecated function and will be removed in a future version. Please adapt your code to use either `displot` (a figure-level function with similar flexibility) or `histplot` (an axes-level function for histograms).\n",
      "  warnings.warn(msg, FutureWarning)\n"
     ]
    },
    {
     "data": {
      "image/png": "[encoded data removed]",
      "text/plain": [
       "<Figure size 432x288 with 1 Axes>"
      ]
     },
     "metadata": {
      "needs_background": "light"
     },
     "output_type": "display_data"
    }
   ],
   "source": [
    "sns.distplot(df['Horsepower'],10);"
   ]
  },
  {
   "cell_type": "code",
   "execution_count": 18,
   "id": "1a953464",
   "metadata": {},
   "outputs": [
    {
     "data": {
      "text/plain": [
       "Sales_in_thousands    1.000000\n",
       "Price_in_thousands   -0.304413\n",
       "Engine_size           0.019983\n",
       "Horsepower           -0.197756\n",
       "Wheelbase             0.358179\n",
       "Width                 0.140918\n",
       "Length                0.254979\n",
       "Fuel_capacity         0.086540\n",
       "Name: Sales_in_thousands, dtype: float64"
      ]
     },
     "execution_count": 18,
     "metadata": {},
     "output_type": "execute_result"
    }
   ],
   "source": [
    "df_corr = df.corr()['Sales_in_thousands'][:-1]\n",
    "df_corr"
   ]
  },
  {
   "cell_type": "code",
   "execution_count": 19,
   "id": "bffe0635",
   "metadata": {},
   "outputs": [
    {
     "data": {
      "image/png": "[encoded data removed]",
      "text/plain": [
       "<Figure size 900x180 with 6 Axes>"
      ]
     },
     "metadata": {
      "needs_background": "light"
     },
     "output_type": "display_data"
    },
    {
     "data": {
      "image/png": "[encoded data removed]",
      "text/plain": [
       "<Figure size 900x180 with 5 Axes>"
      ]
     },
     "metadata": {
      "needs_background": "light"
     },
     "output_type": "display_data"
    }
   ],
   "source": [
    "for i in range(0, len(df.columns),5):\n",
    "    sns.pairplot(df, y_vars ='Sales_in_thousands', x_vars = df.columns[i:i+5])"
   ]
  },
  {
   "cell_type": "code",
   "execution_count": 20,
   "id": "6c4bfd36",
   "metadata": {},
   "outputs": [
    {
     "name": "stderr",
     "output_type": "stream",
     "text": [
      "C:\\Users\\sony\\AppData\\Local\\Programs\\Python\\Python39\\lib\\site-packages\\seaborn\\_decorators.py:36: FutureWarning: Pass the following variables as keyword args: x, y. From version 0.12, the only valid positional argument will be `data`, and passing other arguments without an explicit keyword will result in an error or misinterpretation.\n",
      "  warnings.warn(\n"
     ]
    },
    {
     "data": {
      "image/png": "[encoded data removed]",
      "text/plain": [
       "<Figure size 432x288 with 1 Axes>"
      ]
     },
     "metadata": {
      "needs_background": "light"
     },
     "output_type": "display_data"
    }
   ],
   "source": [
    "sns.regplot(df['Length'],df['Horsepower']);"
   ]
  },
  {
   "cell_type": "code",
   "execution_count": 21,
   "id": "130a83e7",
   "metadata": {},
   "outputs": [],
   "source": [
    "df_new = df.drop([\"Model\"],axis=1)"
   ]
  },
  {
   "cell_type": "code",
   "execution_count": 22,
   "id": "6a3cc79c",
   "metadata": {},
   "outputs": [],
   "source": [
    "df['Fuel_efficiency'].fillna(value=df['Fuel_efficiency'].mean(),inplace=True)"
   ]
  },
  {
   "cell_type": "markdown",
   "id": "ceb91685",
   "metadata": {},
   "source": [
    "Dealing with skewness"
   ]
  },
  {
   "cell_type": "code",
   "execution_count": 23,
   "id": "c3ac291c",
   "metadata": {},
   "outputs": [],
   "source": [
    "from scipy.stats import skew"
   ]
  },
  {
   "cell_type": "code",
   "execution_count": 24,
   "id": "2ca18ebf",
   "metadata": {
    "scrolled": false
   },
   "outputs": [
    {
     "name": "stdout",
     "output_type": "stream",
     "text": [
      "Sales_in_thousands\n",
      "3.375866090661253\n"
     ]
    },
    {
     "name": "stderr",
     "output_type": "stream",
     "text": [
      "C:\\Users\\sony\\AppData\\Local\\Programs\\Python\\Python39\\lib\\site-packages\\seaborn\\distributions.py:2619: FutureWarning: `distplot` is a deprecated function and will be removed in a future version. Please adapt your code to use either `displot` (a figure-level function with similar flexibility) or `histplot` (an axes-level function for histograms).\n",
      "  warnings.warn(msg, FutureWarning)\n"
     ]
    },
    {
     "data": {
      "image/png": "[encoded data removed]",
      "text/plain": [
       "<Figure size 432x288 with 1 Axes>"
      ]
     },
     "metadata": {
      "needs_background": "light"
     },
     "output_type": "display_data"
    },
    {
     "name": "stdout",
     "output_type": "stream",
     "text": [
      "Price_in_thousands\n",
      "1.7598455708699938\n"
     ]
    },
    {
     "name": "stderr",
     "output_type": "stream",
     "text": [
      "C:\\Users\\sony\\AppData\\Local\\Programs\\Python\\Python39\\lib\\site-packages\\seaborn\\distributions.py:2619: FutureWarning: `distplot` is a deprecated function and will be removed in a future version. Please adapt your code to use either `displot` (a figure-level function with similar flexibility) or `histplot` (an axes-level function for histograms).\n",
      "  warnings.warn(msg, FutureWarning)\n"
     ]
    },
    {
     "data": {
      "image/png": "[encoded data removed]",
      "text/plain": [
       "<Figure size 432x288 with 1 Axes>"
      ]
     },
     "metadata": {
      "needs_background": "light"
     },
     "output_type": "display_data"
    },
    {
     "name": "stdout",
     "output_type": "stream",
     "text": [
      "Engine_size\n",
      "1.0933252193115957\n"
     ]
    },
    {
     "name": "stderr",
     "output_type": "stream",
     "text": [
      "C:\\Users\\sony\\AppData\\Local\\Programs\\Python\\Python39\\lib\\site-packages\\seaborn\\distributions.py:2619: FutureWarning: `distplot` is a deprecated function and will be removed in a future version. Please adapt your code to use either `displot` (a figure-level function with similar flexibility) or `histplot` (an axes-level function for histograms).\n",
      "  warnings.warn(msg, FutureWarning)\n"
     ]
    },
    {
     "data": {
      "image/png": "[encoded data removed]",
      "text/plain": [
       "<Figure size 432x288 with 1 Axes>"
      ]
     },
     "metadata": {
      "needs_background": "light"
     },
     "output_type": "display_data"
    },
    {
     "name": "stdout",
     "output_type": "stream",
     "text": [
      "Horsepower\n",
      "0.9942184675331993\n"
     ]
    },
    {
     "name": "stderr",
     "output_type": "stream",
     "text": [
      "C:\\Users\\sony\\AppData\\Local\\Programs\\Python\\Python39\\lib\\site-packages\\seaborn\\distributions.py:2619: FutureWarning: `distplot` is a deprecated function and will be removed in a future version. Please adapt your code to use either `displot` (a figure-level function with similar flexibility) or `histplot` (an axes-level function for histograms).\n",
      "  warnings.warn(msg, FutureWarning)\n"
     ]
    },
    {
     "data": {
      "image/png": "[encoded data removed]",
      "text/plain": [
       "<Figure size 432x288 with 1 Axes>"
      ]
     },
     "metadata": {
      "needs_background": "light"
     },
     "output_type": "display_data"
    },
    {
     "name": "stderr",
     "output_type": "stream",
     "text": [
      "C:\\Users\\sony\\AppData\\Local\\Programs\\Python\\Python39\\lib\\site-packages\\seaborn\\distributions.py:2619: FutureWarning: `distplot` is a deprecated function and will be removed in a future version. Please adapt your code to use either `displot` (a figure-level function with similar flexibility) or `histplot` (an axes-level function for histograms).\n",
      "  warnings.warn(msg, FutureWarning)\n"
     ]
    },
    {
     "name": "stdout",
     "output_type": "stream",
     "text": [
      "Wheelbase\n",
      "0.9636582075665935\n"
     ]
    },
    {
     "data": {
      "image/png": "[encoded data removed]",
      "text/plain": [
       "<Figure size 432x288 with 1 Axes>"
      ]
     },
     "metadata": {
      "needs_background": "light"
     },
     "output_type": "display_data"
    },
    {
     "name": "stdout",
     "output_type": "stream",
     "text": [
      "Width\n",
      "0.4807305013986908\n"
     ]
    },
    {
     "name": "stderr",
     "output_type": "stream",
     "text": [
      "C:\\Users\\sony\\AppData\\Local\\Programs\\Python\\Python39\\lib\\site-packages\\seaborn\\distributions.py:2619: FutureWarning: `distplot` is a deprecated function and will be removed in a future version. Please adapt your code to use either `displot` (a figure-level function with similar flexibility) or `histplot` (an axes-level function for histograms).\n",
      "  warnings.warn(msg, FutureWarning)\n"
     ]
    },
    {
     "data": {
      "image/png": "[encoded data removed]",
      "text/plain": [
       "<Figure size 432x288 with 1 Axes>"
      ]
     },
     "metadata": {
      "needs_background": "light"
     },
     "output_type": "display_data"
    },
    {
     "name": "stdout",
     "output_type": "stream",
     "text": [
      "Length\n",
      "-0.05866467047732647\n"
     ]
    },
    {
     "name": "stderr",
     "output_type": "stream",
     "text": [
      "C:\\Users\\sony\\AppData\\Local\\Programs\\Python\\Python39\\lib\\site-packages\\seaborn\\distributions.py:2619: FutureWarning: `distplot` is a deprecated function and will be removed in a future version. Please adapt your code to use either `displot` (a figure-level function with similar flexibility) or `histplot` (an axes-level function for histograms).\n",
      "  warnings.warn(msg, FutureWarning)\n"
     ]
    },
    {
     "data": {
      "image/png": "[encoded data removed]",
      "text/plain": [
       "<Figure size 432x288 with 1 Axes>"
      ]
     },
     "metadata": {
      "needs_background": "light"
     },
     "output_type": "display_data"
    },
    {
     "name": "stdout",
     "output_type": "stream",
     "text": [
      "Fuel_capacity\n",
      "1.1293555731825977\n"
     ]
    },
    {
     "name": "stderr",
     "output_type": "stream",
     "text": [
      "C:\\Users\\sony\\AppData\\Local\\Programs\\Python\\Python39\\lib\\site-packages\\seaborn\\distributions.py:2619: FutureWarning: `distplot` is a deprecated function and will be removed in a future version. Please adapt your code to use either `displot` (a figure-level function with similar flexibility) or `histplot` (an axes-level function for histograms).\n",
      "  warnings.warn(msg, FutureWarning)\n"
     ]
    },
    {
     "data": {
      "image/png": "[encoded data removed]",
      "text/plain": [
       "<Figure size 432x288 with 1 Axes>"
      ]
     },
     "metadata": {
      "needs_background": "light"
     },
     "output_type": "display_data"
    },
    {
     "name": "stdout",
     "output_type": "stream",
     "text": [
      "Fuel_efficiency\n",
      "nan\n"
     ]
    },
    {
     "name": "stderr",
     "output_type": "stream",
     "text": [
      "C:\\Users\\sony\\AppData\\Local\\Programs\\Python\\Python39\\lib\\site-packages\\seaborn\\distributions.py:2619: FutureWarning: `distplot` is a deprecated function and will be removed in a future version. Please adapt your code to use either `displot` (a figure-level function with similar flexibility) or `histplot` (an axes-level function for histograms).\n",
      "  warnings.warn(msg, FutureWarning)\n"
     ]
    },
    {
     "data": {
      "image/png": "[encoded data removed]",
      "text/plain": [
       "<Figure size 432x288 with 1 Axes>"
      ]
     },
     "metadata": {
      "needs_background": "light"
     },
     "output_type": "display_data"
    }
   ],
   "source": [
    "for col in df_new:\n",
    "    print(col)\n",
    "    print(skew(df_new[col]))\n",
    "    \n",
    "    plt.figure()\n",
    "    sns.distplot(df_new[col])\n",
    "    plt.show()"
   ]
  },
  {
   "cell_type": "code",
   "execution_count": 25,
   "id": "285b3bd1",
   "metadata": {},
   "outputs": [
    {
     "data": {
      "image/png": "[encoded data removed]",
      "text/plain": [
       "<Figure size 432x288 with 2 Axes>"
      ]
     },
     "metadata": {
      "needs_background": "light"
     },
     "output_type": "display_data"
    }
   ],
   "source": [
    "sns.heatmap(df.corr(),annot=True)\n",
    "plt.show()"
   ]
  },
  {
   "cell_type": "code",
   "execution_count": 26,
   "id": "45c0cf19",
   "metadata": {},
   "outputs": [],
   "source": [
    "df[\"Engine_size\"]=np.sqrt(df[\"Engine_size\"])"
   ]
  },
  {
   "cell_type": "code",
   "execution_count": 27,
   "id": "6ca850fa",
   "metadata": {},
   "outputs": [],
   "source": [
    "df[\"Price_in_thousands\"]=np.sqrt(df[\"Price_in_thousands\"])"
   ]
  },
  {
   "cell_type": "code",
   "execution_count": 28,
   "id": "48b8edfb",
   "metadata": {},
   "outputs": [
    {
     "data": {
      "text/plain": [
       "1.085157906506352"
      ]
     },
     "execution_count": 28,
     "metadata": {},
     "output_type": "execute_result"
    }
   ],
   "source": [
    "skew(df[\"Price_in_thousands\"])"
   ]
  },
  {
   "cell_type": "code",
   "execution_count": 29,
   "id": "c9e33443",
   "metadata": {},
   "outputs": [
    {
     "data": {
      "text/plain": [
       "0.545239605686732"
      ]
     },
     "execution_count": 29,
     "metadata": {},
     "output_type": "execute_result"
    }
   ],
   "source": [
    "skew(df[\"Engine_size\"])"
   ]
  },
  {
   "cell_type": "code",
   "execution_count": 30,
   "id": "c89a9b68",
   "metadata": {},
   "outputs": [],
   "source": [
    "df[\"Horsepower\"]=np.sqrt(df[\"Horsepower\"])"
   ]
  },
  {
   "cell_type": "code",
   "execution_count": 31,
   "id": "b0a5698e",
   "metadata": {},
   "outputs": [
    {
     "data": {
      "text/plain": [
       "0.39405191401112644"
      ]
     },
     "execution_count": 31,
     "metadata": {},
     "output_type": "execute_result"
    }
   ],
   "source": [
    "skew(df[\"Horsepower\"])"
   ]
  },
  {
   "cell_type": "code",
   "execution_count": 32,
   "id": "9f5b15a7",
   "metadata": {},
   "outputs": [],
   "source": [
    "df[\"Fuel_capacity\"]=np.sqrt(df[\"Fuel_capacity\"])"
   ]
  },
  {
   "cell_type": "code",
   "execution_count": 33,
   "id": "393c1b3c",
   "metadata": {},
   "outputs": [
    {
     "data": {
      "text/plain": [
       "0.7415941888170683"
      ]
     },
     "execution_count": 33,
     "metadata": {},
     "output_type": "execute_result"
    }
   ],
   "source": [
    "skew(df[\"Fuel_capacity\"])"
   ]
  },
  {
   "cell_type": "markdown",
   "id": "02ab8c96",
   "metadata": {},
   "source": [
    "Checking for outliers"
   ]
  },
  {
   "cell_type": "code",
   "execution_count": 34,
   "id": "062f3bd4",
   "metadata": {},
   "outputs": [
    {
     "data": {
      "text/plain": [
       "count    157.000000\n",
       "mean       5.089075\n",
       "std        1.225414\n",
       "min        3.038914\n",
       "25%        4.259695\n",
       "50%        4.837355\n",
       "75%        5.650664\n",
       "max        9.246621\n",
       "Name: Price_in_thousands, dtype: float64"
      ]
     },
     "execution_count": 34,
     "metadata": {},
     "output_type": "execute_result"
    }
   ],
   "source": [
    "df[\"Price_in_thousands\"].describe()"
   ]
  },
  {
   "cell_type": "code",
   "execution_count": 35,
   "id": "9f17c049",
   "metadata": {},
   "outputs": [
    {
     "data": {
      "text/plain": [
       "(array([14., 27., 40., 31., 15., 17.,  5.,  2.,  3.,  3.]),\n",
       " array([3.03891428, 3.65968495, 4.28045562, 4.9012263 , 5.52199697,\n",
       "        6.14276764, 6.76353831, 7.38430899, 8.00507966, 8.62585033,\n",
       "        9.246621  ]),\n",
       " <BarContainer object of 10 artists>)"
      ]
     },
     "execution_count": 35,
     "metadata": {},
     "output_type": "execute_result"
    },
    {
     "data": {
      "image/png": "[encoded data removed]",
      "text/plain": [
       "<Figure size 432x288 with 1 Axes>"
      ]
     },
     "metadata": {
      "needs_background": "light"
     },
     "output_type": "display_data"
    }
   ],
   "source": [
    "plt.hist(df.Price_in_thousands)"
   ]
  },
  {
   "cell_type": "code",
   "execution_count": 36,
   "id": "e30459ad",
   "metadata": {},
   "outputs": [
    {
     "data": {
      "text/plain": [
       "Model                 0\n",
       "Sales_in_thousands    0\n",
       "Price_in_thousands    0\n",
       "Engine_size           0\n",
       "Horsepower            0\n",
       "Wheelbase             0\n",
       "Width                 0\n",
       "Length                0\n",
       "Fuel_capacity         0\n",
       "Fuel_efficiency       0\n",
       "dtype: int64"
      ]
     },
     "execution_count": 36,
     "metadata": {},
     "output_type": "execute_result"
    }
   ],
   "source": [
    "df['Fuel_efficiency'].fillna(value=df['Fuel_efficiency'].mean(),inplace=True)\n",
    "df.isna().sum()"
   ]
  },
  {
   "cell_type": "code",
   "execution_count": 37,
   "id": "356676f3",
   "metadata": {},
   "outputs": [
    {
     "data": {
      "text/plain": [
       "156"
      ]
     },
     "execution_count": 37,
     "metadata": {},
     "output_type": "execute_result"
    }
   ],
   "source": [
    "df.Model.nunique()"
   ]
  },
  {
   "cell_type": "code",
   "execution_count": 38,
   "id": "ae8adb42",
   "metadata": {},
   "outputs": [
    {
     "data": {
      "text/plain": [
       "0"
      ]
     },
     "execution_count": 38,
     "metadata": {},
     "output_type": "execute_result"
    }
   ],
   "source": [
    "df.Model.isna().sum()"
   ]
  },
  {
   "cell_type": "code",
   "execution_count": 39,
   "id": "8bad83a6",
   "metadata": {},
   "outputs": [],
   "source": [
    "df=df.drop([\"Sales_in_thousands\"],axis=1)"
   ]
  },
  {
   "cell_type": "code",
   "execution_count": 40,
   "id": "d0d444c0",
   "metadata": {},
   "outputs": [
    {
     "data": {
      "text/plain": [
       "Price_in_thousands    1.000000\n",
       "Engine_size           0.657312\n",
       "Horsepower            0.863094\n",
       "Wheelbase             0.156486\n",
       "Width                 0.372531\n",
       "Length                0.204981\n",
       "Fuel_capacity         0.485912\n",
       "Fuel_efficiency      -0.543127\n",
       "Name: Price_in_thousands, dtype: float64"
      ]
     },
     "execution_count": 40,
     "metadata": {},
     "output_type": "execute_result"
    }
   ],
   "source": [
    "df.corr()['Price_in_thousands']"
   ]
  },
  {
   "cell_type": "code",
   "execution_count": 41,
   "id": "f528afa9",
   "metadata": {},
   "outputs": [],
   "source": [
    "df=df.sort_values([\"Engine_size\",\"Horsepower\",\"Wheelbase\",\"Width\",\"Length\",\"Fuel_capacity\",\"Fuel_efficiency\"]).reset_index(drop=True)"
   ]
  },
  {
   "cell_type": "code",
   "execution_count": 42,
   "id": "f3059aa6",
   "metadata": {},
   "outputs": [
    {
     "data": {
      "text/html": [
       "<div>\n",
       "<style scoped>\n",
       "    .dataframe tbody tr th:only-of-type {\n",
       "        vertical-align: middle;\n",
       "    }\n",
       "\n",
       "    .dataframe tbody tr th {\n",
       "        vertical-align: top;\n",
       "    }\n",
       "\n",
       "    .dataframe thead th {\n",
       "        text-align: right;\n",
       "    }\n",
       "</style>\n",
       "<table border=\"1\" class=\"dataframe\">\n",
       "  <thead>\n",
       "    <tr style=\"text-align: right;\">\n",
       "      <th></th>\n",
       "      <th>Model</th>\n",
       "      <th>Price_in_thousands</th>\n",
       "      <th>Engine_size</th>\n",
       "      <th>Horsepower</th>\n",
       "      <th>Wheelbase</th>\n",
       "      <th>Width</th>\n",
       "      <th>Length</th>\n",
       "      <th>Fuel_capacity</th>\n",
       "      <th>Fuel_efficiency</th>\n",
       "    </tr>\n",
       "  </thead>\n",
       "  <tbody>\n",
       "    <tr>\n",
       "      <th>0</th>\n",
       "      <td>Metro</td>\n",
       "      <td>3.038914</td>\n",
       "      <td>1.000000</td>\n",
       "      <td>7.416198</td>\n",
       "      <td>93.1</td>\n",
       "      <td>62.6</td>\n",
       "      <td>149.4</td>\n",
       "      <td>3.209361</td>\n",
       "      <td>45.0</td>\n",
       "    </tr>\n",
       "    <tr>\n",
       "      <th>1</th>\n",
       "      <td>Accent</td>\n",
       "      <td>3.114322</td>\n",
       "      <td>1.224745</td>\n",
       "      <td>9.591663</td>\n",
       "      <td>96.1</td>\n",
       "      <td>65.7</td>\n",
       "      <td>166.7</td>\n",
       "      <td>3.449638</td>\n",
       "      <td>31.0</td>\n",
       "    </tr>\n",
       "    <tr>\n",
       "      <th>2</th>\n",
       "      <td>Civic</td>\n",
       "      <td>3.589568</td>\n",
       "      <td>1.264911</td>\n",
       "      <td>10.295630</td>\n",
       "      <td>103.2</td>\n",
       "      <td>67.1</td>\n",
       "      <td>175.1</td>\n",
       "      <td>3.449638</td>\n",
       "      <td>32.0</td>\n",
       "    </tr>\n",
       "    <tr>\n",
       "      <th>3</th>\n",
       "      <td>Mirage</td>\n",
       "      <td>3.739920</td>\n",
       "      <td>1.341641</td>\n",
       "      <td>10.630146</td>\n",
       "      <td>98.4</td>\n",
       "      <td>66.5</td>\n",
       "      <td>173.6</td>\n",
       "      <td>3.633180</td>\n",
       "      <td>30.0</td>\n",
       "    </tr>\n",
       "    <tr>\n",
       "      <th>4</th>\n",
       "      <td>Corolla</td>\n",
       "      <td>3.620497</td>\n",
       "      <td>1.341641</td>\n",
       "      <td>10.954451</td>\n",
       "      <td>97.0</td>\n",
       "      <td>66.7</td>\n",
       "      <td>174.0</td>\n",
       "      <td>3.633180</td>\n",
       "      <td>33.0</td>\n",
       "    </tr>\n",
       "    <tr>\n",
       "      <th>...</th>\n",
       "      <td>...</td>\n",
       "      <td>...</td>\n",
       "      <td>...</td>\n",
       "      <td>...</td>\n",
       "      <td>...</td>\n",
       "      <td>...</td>\n",
       "      <td>...</td>\n",
       "      <td>...</td>\n",
       "      <td>...</td>\n",
       "    </tr>\n",
       "    <tr>\n",
       "      <th>152</th>\n",
       "      <td>Ram Pickup</td>\n",
       "      <td>4.411349</td>\n",
       "      <td>2.280351</td>\n",
       "      <td>15.165751</td>\n",
       "      <td>138.7</td>\n",
       "      <td>79.3</td>\n",
       "      <td>224.2</td>\n",
       "      <td>5.099020</td>\n",
       "      <td>17.0</td>\n",
       "    </tr>\n",
       "    <tr>\n",
       "      <th>153</th>\n",
       "      <td>Navigator</td>\n",
       "      <td>6.531462</td>\n",
       "      <td>2.323790</td>\n",
       "      <td>17.320508</td>\n",
       "      <td>119.0</td>\n",
       "      <td>79.9</td>\n",
       "      <td>204.8</td>\n",
       "      <td>5.477226</td>\n",
       "      <td>15.0</td>\n",
       "    </tr>\n",
       "    <tr>\n",
       "      <th>154</th>\n",
       "      <td>Escalade</td>\n",
       "      <td>6.798897</td>\n",
       "      <td>2.387467</td>\n",
       "      <td>15.968719</td>\n",
       "      <td>117.5</td>\n",
       "      <td>77.0</td>\n",
       "      <td>201.2</td>\n",
       "      <td>5.477226</td>\n",
       "      <td>15.0</td>\n",
       "    </tr>\n",
       "    <tr>\n",
       "      <th>155</th>\n",
       "      <td>Corvette</td>\n",
       "      <td>6.760547</td>\n",
       "      <td>2.387467</td>\n",
       "      <td>18.574176</td>\n",
       "      <td>104.5</td>\n",
       "      <td>73.6</td>\n",
       "      <td>179.7</td>\n",
       "      <td>4.370355</td>\n",
       "      <td>22.0</td>\n",
       "    </tr>\n",
       "    <tr>\n",
       "      <th>156</th>\n",
       "      <td>Viper</td>\n",
       "      <td>8.350150</td>\n",
       "      <td>2.828427</td>\n",
       "      <td>21.213203</td>\n",
       "      <td>96.2</td>\n",
       "      <td>75.7</td>\n",
       "      <td>176.7</td>\n",
       "      <td>4.358899</td>\n",
       "      <td>16.0</td>\n",
       "    </tr>\n",
       "  </tbody>\n",
       "</table>\n",
       "<p>157 rows × 9 columns</p>\n",
       "</div>"
      ],
      "text/plain": [
       "          Model  Price_in_thousands  Engine_size  Horsepower  Wheelbase  \\\n",
       "0         Metro            3.038914     1.000000    7.416198       93.1   \n",
       "1        Accent            3.114322     1.224745    9.591663       96.1   \n",
       "2         Civic            3.589568     1.264911   10.295630      103.2   \n",
       "3        Mirage            3.739920     1.341641   10.630146       98.4   \n",
       "4       Corolla            3.620497     1.341641   10.954451       97.0   \n",
       "..          ...                 ...          ...         ...        ...   \n",
       "152  Ram Pickup            4.411349     2.280351   15.165751      138.7   \n",
       "153   Navigator            6.531462     2.323790   17.320508      119.0   \n",
       "154    Escalade            6.798897     2.387467   15.968719      117.5   \n",
       "155    Corvette            6.760547     2.387467   18.574176      104.5   \n",
       "156       Viper            8.350150     2.828427   21.213203       96.2   \n",
       "\n",
       "     Width  Length  Fuel_capacity  Fuel_efficiency  \n",
       "0     62.6   149.4       3.209361             45.0  \n",
       "1     65.7   166.7       3.449638             31.0  \n",
       "2     67.1   175.1       3.449638             32.0  \n",
       "3     66.5   173.6       3.633180             30.0  \n",
       "4     66.7   174.0       3.633180             33.0  \n",
       "..     ...     ...            ...              ...  \n",
       "152   79.3   224.2       5.099020             17.0  \n",
       "153   79.9   204.8       5.477226             15.0  \n",
       "154   77.0   201.2       5.477226             15.0  \n",
       "155   73.6   179.7       4.370355             22.0  \n",
       "156   75.7   176.7       4.358899             16.0  \n",
       "\n",
       "[157 rows x 9 columns]"
      ]
     },
     "execution_count": 42,
     "metadata": {},
     "output_type": "execute_result"
    }
   ],
   "source": [
    "df"
   ]
  },
  {
   "cell_type": "code",
   "execution_count": 43,
   "id": "237b3754",
   "metadata": {
    "scrolled": false
   },
   "outputs": [
    {
     "data": {
      "text/plain": [
       "{'Avalon': 0,\n",
       " 'Escort': 1,\n",
       " 'Civic': 2,\n",
       " 'Mirage': 3,\n",
       " 'Corolla': 4,\n",
       " 'Prizm': 5,\n",
       " 'Sentra': 6,\n",
       " 'Integra': 7,\n",
       " 'Celica': 8,\n",
       " 'A4': 9,\n",
       " 'Passat': 10,\n",
       " 'SL': 11,\n",
       " 'SC': 12,\n",
       " 'SW': 13,\n",
       " 'S40': 14,\n",
       " 'V40': 15,\n",
       " 'Cabrio': 16,\n",
       " 'Beetle': 17,\n",
       " 'Golf': 18,\n",
       " '05-Sep': 19,\n",
       " 'Elantra': 20,\n",
       " 'GTI': 21,\n",
       " 'Jetta': 22,\n",
       " 'Cougar': 23,\n",
       " 'Mystique': 24,\n",
       " 'RAV4': 25,\n",
       " 'Cirrus': 26,\n",
       " 'Focus': 27,\n",
       " 'Breeze': 28,\n",
       " 'C-Class': 29,\n",
       " '03-Sep': 30,\n",
       " 'Cavalier': 31,\n",
       " 'Camry': 32,\n",
       " 'LW': 33,\n",
       " 'LS': 34,\n",
       " 'Accord': 35,\n",
       " 'CR-V': 36,\n",
       " 'Accent': 37,\n",
       " 'SLK230': 38,\n",
       " 'Sienna': 39,\n",
       " 'Sebring Coupe': 40,\n",
       " 'Tacoma': 41,\n",
       " 'Galant': 42,\n",
       " 'Sonata': 43,\n",
       " 'Sunfire': 44,\n",
       " 'Alero': 45,\n",
       " 'Caravan': 46,\n",
       " 'Voyager': 47,\n",
       " 'Eclipse': 48,\n",
       " 'Altima': 49,\n",
       " 'S70': 50,\n",
       " 'V70': 51,\n",
       " 'Ranger': 52,\n",
       " 'Wrangler': 53,\n",
       " 'Dakota': 54,\n",
       " 'Forester': 55,\n",
       " 'Outback': 56,\n",
       " 'Sebring Conv.': 57,\n",
       " 'Montero Sport': 58,\n",
       " '328i': 59,\n",
       " 'Stratus': 60,\n",
       " 'Contour': 61,\n",
       " '323i': 62,\n",
       " '4Runner': 63,\n",
       " 'Concorde': 64,\n",
       " 'Intrepid': 65,\n",
       " 'SLK': 66,\n",
       " 'Boxter': 67,\n",
       " 'C70': 68,\n",
       " 'A6': 69,\n",
       " 'S80': 70,\n",
       " 'Windstar': 71,\n",
       " 'Sable': 72,\n",
       " 'Taurus': 73,\n",
       " '3000GT': 74,\n",
       " '528i': 75,\n",
       " 'Catera': 76,\n",
       " 'Viper': 77,\n",
       " 'A8': 78,\n",
       " 'Malibu': 79,\n",
       " 'RX300': 80,\n",
       " 'Maxima': 81,\n",
       " 'GS300': 82,\n",
       " 'I30': 83,\n",
       " 'S-Type': 84,\n",
       " 'Town & Country': 85,\n",
       " 'Cutlass': 86,\n",
       " 'Lumina': 87,\n",
       " 'Xterra': 88,\n",
       " 'Century': 89,\n",
       " 'Passport': 90,\n",
       " 'CLK Coupe': 91,\n",
       " 'M-Class': 92,\n",
       " 'E-Class': 93,\n",
       " 'Mustang': 94,\n",
       " 'Pathfinder': 95,\n",
       " 'Quest': 96,\n",
       " 'LHS': 97,\n",
       " 'Metro': 98,\n",
       " 'Carrera Coupe': 99,\n",
       " 'Frontier': 100,\n",
       " 'Grand Am': 101,\n",
       " 'Monte Carlo': 102,\n",
       " 'Impala': 103,\n",
       " 'Silhouette': 104,\n",
       " 'CL': 105,\n",
       " 'Montana': 106,\n",
       " 'Villager': 107,\n",
       " 'Montero': 108,\n",
       " 'Diamante': 109,\n",
       " 'RL': 110,\n",
       " 'Odyssey': 111,\n",
       " 'Intrigue': 112,\n",
       " '300M': 113,\n",
       " 'Carrera Cabrio': 114,\n",
       " 'TL': 115,\n",
       " 'Prowler': 116,\n",
       " 'Grand Prix': 117,\n",
       " 'S-Class': 118,\n",
       " 'Bravada': 119,\n",
       " 'Firebird': 120,\n",
       " 'Bonneville': 121,\n",
       " 'LeSabre': 122,\n",
       " 'Park Avenue': 123,\n",
       " 'Regal': 124,\n",
       " 'Crown Victoria': 125,\n",
       " 'Ram Wagon': 126,\n",
       " 'Cherokee': 127,\n",
       " 'Grand Cherokee': 128,\n",
       " 'Mountaineer': 129,\n",
       " 'Explorer': 130,\n",
       " 'Aurora': 131,\n",
       " 'LS400': 132,\n",
       " 'GS400': 133,\n",
       " 'Ram Van': 134,\n",
       " 'Avenger': 135,\n",
       " 'Grand Marquis': 136,\n",
       " 'Escalade': 137,\n",
       " 'ES300': 138,\n",
       " 'LX470': 139,\n",
       " 'Town car': 140,\n",
       " 'F-Series': 141,\n",
       " 'Expedition': 142,\n",
       " 'Eldorado': 143,\n",
       " 'Continental': 144,\n",
       " 'Corvette': 145,\n",
       " 'Seville': 146,\n",
       " 'Land Cruiser': 147,\n",
       " 'Camaro': 148,\n",
       " 'SL-Class': 149,\n",
       " 'CL500': 150,\n",
       " 'Durango': 151,\n",
       " 'Ram Pickup': 152,\n",
       " 'Navigator': 153,\n",
       " 'DeVille': 154,\n",
       " 'Neon': 155}"
      ]
     },
     "execution_count": 43,
     "metadata": {},
     "output_type": "execute_result"
    }
   ],
   "source": [
    "#encoded_model = pd.get_dummies(df.Model, drop_first=True)\n",
    "#encoded_model.tail(10)\n",
    "\n",
    "encoded_model = {k:v for v,k in enumerate(df.Model.value_counts().sort_values().index,0)}\n",
    "encoded_model"
   ]
  },
  {
   "cell_type": "code",
   "execution_count": 44,
   "id": "41722d93",
   "metadata": {},
   "outputs": [],
   "source": [
    "#df=pd.concat([df,encoded_model],axis=1).copy()\n",
    "#df.sample(3)\n",
    "#df=df.drop(['Model'],axis=1)\n",
    "\n",
    "#\n",
    "\n",
    "\n",
    "df.Model = df.Model.map(encoded_model)"
   ]
  },
  {
   "cell_type": "code",
   "execution_count": 45,
   "id": "77fb374a",
   "metadata": {},
   "outputs": [
    {
     "data": {
      "text/html": [
       "<div>\n",
       "<style scoped>\n",
       "    .dataframe tbody tr th:only-of-type {\n",
       "        vertical-align: middle;\n",
       "    }\n",
       "\n",
       "    .dataframe tbody tr th {\n",
       "        vertical-align: top;\n",
       "    }\n",
       "\n",
       "    .dataframe thead th {\n",
       "        text-align: right;\n",
       "    }\n",
       "</style>\n",
       "<table border=\"1\" class=\"dataframe\">\n",
       "  <thead>\n",
       "    <tr style=\"text-align: right;\">\n",
       "      <th></th>\n",
       "      <th>Model</th>\n",
       "      <th>Price_in_thousands</th>\n",
       "      <th>Engine_size</th>\n",
       "      <th>Horsepower</th>\n",
       "      <th>Wheelbase</th>\n",
       "      <th>Width</th>\n",
       "      <th>Length</th>\n",
       "      <th>Fuel_capacity</th>\n",
       "      <th>Fuel_efficiency</th>\n",
       "    </tr>\n",
       "  </thead>\n",
       "  <tbody>\n",
       "    <tr>\n",
       "      <th>0</th>\n",
       "      <td>98</td>\n",
       "      <td>3.038914</td>\n",
       "      <td>1.000000</td>\n",
       "      <td>7.416198</td>\n",
       "      <td>93.1</td>\n",
       "      <td>62.6</td>\n",
       "      <td>149.4</td>\n",
       "      <td>3.209361</td>\n",
       "      <td>45.0</td>\n",
       "    </tr>\n",
       "    <tr>\n",
       "      <th>1</th>\n",
       "      <td>37</td>\n",
       "      <td>3.114322</td>\n",
       "      <td>1.224745</td>\n",
       "      <td>9.591663</td>\n",
       "      <td>96.1</td>\n",
       "      <td>65.7</td>\n",
       "      <td>166.7</td>\n",
       "      <td>3.449638</td>\n",
       "      <td>31.0</td>\n",
       "    </tr>\n",
       "    <tr>\n",
       "      <th>2</th>\n",
       "      <td>2</td>\n",
       "      <td>3.589568</td>\n",
       "      <td>1.264911</td>\n",
       "      <td>10.295630</td>\n",
       "      <td>103.2</td>\n",
       "      <td>67.1</td>\n",
       "      <td>175.1</td>\n",
       "      <td>3.449638</td>\n",
       "      <td>32.0</td>\n",
       "    </tr>\n",
       "    <tr>\n",
       "      <th>3</th>\n",
       "      <td>3</td>\n",
       "      <td>3.739920</td>\n",
       "      <td>1.341641</td>\n",
       "      <td>10.630146</td>\n",
       "      <td>98.4</td>\n",
       "      <td>66.5</td>\n",
       "      <td>173.6</td>\n",
       "      <td>3.633180</td>\n",
       "      <td>30.0</td>\n",
       "    </tr>\n",
       "    <tr>\n",
       "      <th>4</th>\n",
       "      <td>4</td>\n",
       "      <td>3.620497</td>\n",
       "      <td>1.341641</td>\n",
       "      <td>10.954451</td>\n",
       "      <td>97.0</td>\n",
       "      <td>66.7</td>\n",
       "      <td>174.0</td>\n",
       "      <td>3.633180</td>\n",
       "      <td>33.0</td>\n",
       "    </tr>\n",
       "    <tr>\n",
       "      <th>...</th>\n",
       "      <td>...</td>\n",
       "      <td>...</td>\n",
       "      <td>...</td>\n",
       "      <td>...</td>\n",
       "      <td>...</td>\n",
       "      <td>...</td>\n",
       "      <td>...</td>\n",
       "      <td>...</td>\n",
       "      <td>...</td>\n",
       "    </tr>\n",
       "    <tr>\n",
       "      <th>152</th>\n",
       "      <td>152</td>\n",
       "      <td>4.411349</td>\n",
       "      <td>2.280351</td>\n",
       "      <td>15.165751</td>\n",
       "      <td>138.7</td>\n",
       "      <td>79.3</td>\n",
       "      <td>224.2</td>\n",
       "      <td>5.099020</td>\n",
       "      <td>17.0</td>\n",
       "    </tr>\n",
       "    <tr>\n",
       "      <th>153</th>\n",
       "      <td>153</td>\n",
       "      <td>6.531462</td>\n",
       "      <td>2.323790</td>\n",
       "      <td>17.320508</td>\n",
       "      <td>119.0</td>\n",
       "      <td>79.9</td>\n",
       "      <td>204.8</td>\n",
       "      <td>5.477226</td>\n",
       "      <td>15.0</td>\n",
       "    </tr>\n",
       "    <tr>\n",
       "      <th>154</th>\n",
       "      <td>137</td>\n",
       "      <td>6.798897</td>\n",
       "      <td>2.387467</td>\n",
       "      <td>15.968719</td>\n",
       "      <td>117.5</td>\n",
       "      <td>77.0</td>\n",
       "      <td>201.2</td>\n",
       "      <td>5.477226</td>\n",
       "      <td>15.0</td>\n",
       "    </tr>\n",
       "    <tr>\n",
       "      <th>155</th>\n",
       "      <td>145</td>\n",
       "      <td>6.760547</td>\n",
       "      <td>2.387467</td>\n",
       "      <td>18.574176</td>\n",
       "      <td>104.5</td>\n",
       "      <td>73.6</td>\n",
       "      <td>179.7</td>\n",
       "      <td>4.370355</td>\n",
       "      <td>22.0</td>\n",
       "    </tr>\n",
       "    <tr>\n",
       "      <th>156</th>\n",
       "      <td>77</td>\n",
       "      <td>8.350150</td>\n",
       "      <td>2.828427</td>\n",
       "      <td>21.213203</td>\n",
       "      <td>96.2</td>\n",
       "      <td>75.7</td>\n",
       "      <td>176.7</td>\n",
       "      <td>4.358899</td>\n",
       "      <td>16.0</td>\n",
       "    </tr>\n",
       "  </tbody>\n",
       "</table>\n",
       "<p>157 rows × 9 columns</p>\n",
       "</div>"
      ],
      "text/plain": [
       "     Model  Price_in_thousands  Engine_size  Horsepower  Wheelbase  Width  \\\n",
       "0       98            3.038914     1.000000    7.416198       93.1   62.6   \n",
       "1       37            3.114322     1.224745    9.591663       96.1   65.7   \n",
       "2        2            3.589568     1.264911   10.295630      103.2   67.1   \n",
       "3        3            3.739920     1.341641   10.630146       98.4   66.5   \n",
       "4        4            3.620497     1.341641   10.954451       97.0   66.7   \n",
       "..     ...                 ...          ...         ...        ...    ...   \n",
       "152    152            4.411349     2.280351   15.165751      138.7   79.3   \n",
       "153    153            6.531462     2.323790   17.320508      119.0   79.9   \n",
       "154    137            6.798897     2.387467   15.968719      117.5   77.0   \n",
       "155    145            6.760547     2.387467   18.574176      104.5   73.6   \n",
       "156     77            8.350150     2.828427   21.213203       96.2   75.7   \n",
       "\n",
       "     Length  Fuel_capacity  Fuel_efficiency  \n",
       "0     149.4       3.209361             45.0  \n",
       "1     166.7       3.449638             31.0  \n",
       "2     175.1       3.449638             32.0  \n",
       "3     173.6       3.633180             30.0  \n",
       "4     174.0       3.633180             33.0  \n",
       "..      ...            ...              ...  \n",
       "152   224.2       5.099020             17.0  \n",
       "153   204.8       5.477226             15.0  \n",
       "154   201.2       5.477226             15.0  \n",
       "155   179.7       4.370355             22.0  \n",
       "156   176.7       4.358899             16.0  \n",
       "\n",
       "[157 rows x 9 columns]"
      ]
     },
     "execution_count": 45,
     "metadata": {},
     "output_type": "execute_result"
    }
   ],
   "source": [
    "df"
   ]
  },
  {
   "cell_type": "markdown",
   "id": "e0c44a8b",
   "metadata": {},
   "source": [
    "Let build the model"
   ]
  },
  {
   "cell_type": "code",
   "execution_count": 46,
   "id": "f085c4f0",
   "metadata": {},
   "outputs": [],
   "source": [
    "from sklearn.preprocessing import StandardScaler"
   ]
  },
  {
   "cell_type": "code",
   "execution_count": 47,
   "id": "e66f6312",
   "metadata": {},
   "outputs": [],
   "source": [
    "x=df.drop([\"Price_in_thousands\"],axis=1)\n",
    "y=df[\"Price_in_thousands\"]"
   ]
  },
  {
   "cell_type": "code",
   "execution_count": 48,
   "id": "2cb5e3cb",
   "metadata": {},
   "outputs": [],
   "source": [
    "x_train,x_test,y_train,y_test=train_test_split(x,y,test_size=0.2,random_state=0)"
   ]
  },
  {
   "cell_type": "code",
   "execution_count": 49,
   "id": "3f5752f7",
   "metadata": {},
   "outputs": [],
   "source": [
    "scaler = StandardScaler()\n",
    "x_train = pd.DataFrame(scaler.fit_transform(x_train),columns=x_train.columns)\n",
    "x_test = pd.DataFrame(scaler.transform(x_test),columns=x_test.columns)"
   ]
  },
  {
   "cell_type": "code",
   "execution_count": 50,
   "id": "0efcb21c",
   "metadata": {},
   "outputs": [
    {
     "data": {
      "text/html": [
       "<div>\n",
       "<style scoped>\n",
       "    .dataframe tbody tr th:only-of-type {\n",
       "        vertical-align: middle;\n",
       "    }\n",
       "\n",
       "    .dataframe tbody tr th {\n",
       "        vertical-align: top;\n",
       "    }\n",
       "\n",
       "    .dataframe thead th {\n",
       "        text-align: right;\n",
       "    }\n",
       "</style>\n",
       "<table border=\"1\" class=\"dataframe\">\n",
       "  <thead>\n",
       "    <tr style=\"text-align: right;\">\n",
       "      <th></th>\n",
       "      <th>Model</th>\n",
       "      <th>Price_in_thousands</th>\n",
       "      <th>Engine_size</th>\n",
       "      <th>Horsepower</th>\n",
       "      <th>Wheelbase</th>\n",
       "      <th>Width</th>\n",
       "      <th>Length</th>\n",
       "      <th>Fuel_capacity</th>\n",
       "      <th>Fuel_efficiency</th>\n",
       "    </tr>\n",
       "  </thead>\n",
       "  <tbody>\n",
       "    <tr>\n",
       "      <th>0</th>\n",
       "      <td>98</td>\n",
       "      <td>3.038914</td>\n",
       "      <td>1.000000</td>\n",
       "      <td>7.416198</td>\n",
       "      <td>93.1</td>\n",
       "      <td>62.6</td>\n",
       "      <td>149.4</td>\n",
       "      <td>3.209361</td>\n",
       "      <td>45.0</td>\n",
       "    </tr>\n",
       "    <tr>\n",
       "      <th>1</th>\n",
       "      <td>37</td>\n",
       "      <td>3.114322</td>\n",
       "      <td>1.224745</td>\n",
       "      <td>9.591663</td>\n",
       "      <td>96.1</td>\n",
       "      <td>65.7</td>\n",
       "      <td>166.7</td>\n",
       "      <td>3.449638</td>\n",
       "      <td>31.0</td>\n",
       "    </tr>\n",
       "    <tr>\n",
       "      <th>2</th>\n",
       "      <td>2</td>\n",
       "      <td>3.589568</td>\n",
       "      <td>1.264911</td>\n",
       "      <td>10.295630</td>\n",
       "      <td>103.2</td>\n",
       "      <td>67.1</td>\n",
       "      <td>175.1</td>\n",
       "      <td>3.449638</td>\n",
       "      <td>32.0</td>\n",
       "    </tr>\n",
       "    <tr>\n",
       "      <th>3</th>\n",
       "      <td>3</td>\n",
       "      <td>3.739920</td>\n",
       "      <td>1.341641</td>\n",
       "      <td>10.630146</td>\n",
       "      <td>98.4</td>\n",
       "      <td>66.5</td>\n",
       "      <td>173.6</td>\n",
       "      <td>3.633180</td>\n",
       "      <td>30.0</td>\n",
       "    </tr>\n",
       "    <tr>\n",
       "      <th>4</th>\n",
       "      <td>4</td>\n",
       "      <td>3.620497</td>\n",
       "      <td>1.341641</td>\n",
       "      <td>10.954451</td>\n",
       "      <td>97.0</td>\n",
       "      <td>66.7</td>\n",
       "      <td>174.0</td>\n",
       "      <td>3.633180</td>\n",
       "      <td>33.0</td>\n",
       "    </tr>\n",
       "    <tr>\n",
       "      <th>...</th>\n",
       "      <td>...</td>\n",
       "      <td>...</td>\n",
       "      <td>...</td>\n",
       "      <td>...</td>\n",
       "      <td>...</td>\n",
       "      <td>...</td>\n",
       "      <td>...</td>\n",
       "      <td>...</td>\n",
       "      <td>...</td>\n",
       "    </tr>\n",
       "    <tr>\n",
       "      <th>152</th>\n",
       "      <td>152</td>\n",
       "      <td>4.411349</td>\n",
       "      <td>2.280351</td>\n",
       "      <td>15.165751</td>\n",
       "      <td>138.7</td>\n",
       "      <td>79.3</td>\n",
       "      <td>224.2</td>\n",
       "      <td>5.099020</td>\n",
       "      <td>17.0</td>\n",
       "    </tr>\n",
       "    <tr>\n",
       "      <th>153</th>\n",
       "      <td>153</td>\n",
       "      <td>6.531462</td>\n",
       "      <td>2.323790</td>\n",
       "      <td>17.320508</td>\n",
       "      <td>119.0</td>\n",
       "      <td>79.9</td>\n",
       "      <td>204.8</td>\n",
       "      <td>5.477226</td>\n",
       "      <td>15.0</td>\n",
       "    </tr>\n",
       "    <tr>\n",
       "      <th>154</th>\n",
       "      <td>137</td>\n",
       "      <td>6.798897</td>\n",
       "      <td>2.387467</td>\n",
       "      <td>15.968719</td>\n",
       "      <td>117.5</td>\n",
       "      <td>77.0</td>\n",
       "      <td>201.2</td>\n",
       "      <td>5.477226</td>\n",
       "      <td>15.0</td>\n",
       "    </tr>\n",
       "    <tr>\n",
       "      <th>155</th>\n",
       "      <td>145</td>\n",
       "      <td>6.760547</td>\n",
       "      <td>2.387467</td>\n",
       "      <td>18.574176</td>\n",
       "      <td>104.5</td>\n",
       "      <td>73.6</td>\n",
       "      <td>179.7</td>\n",
       "      <td>4.370355</td>\n",
       "      <td>22.0</td>\n",
       "    </tr>\n",
       "    <tr>\n",
       "      <th>156</th>\n",
       "      <td>77</td>\n",
       "      <td>8.350150</td>\n",
       "      <td>2.828427</td>\n",
       "      <td>21.213203</td>\n",
       "      <td>96.2</td>\n",
       "      <td>75.7</td>\n",
       "      <td>176.7</td>\n",
       "      <td>4.358899</td>\n",
       "      <td>16.0</td>\n",
       "    </tr>\n",
       "  </tbody>\n",
       "</table>\n",
       "<p>157 rows × 9 columns</p>\n",
       "</div>"
      ],
      "text/plain": [
       "     Model  Price_in_thousands  Engine_size  Horsepower  Wheelbase  Width  \\\n",
       "0       98            3.038914     1.000000    7.416198       93.1   62.6   \n",
       "1       37            3.114322     1.224745    9.591663       96.1   65.7   \n",
       "2        2            3.589568     1.264911   10.295630      103.2   67.1   \n",
       "3        3            3.739920     1.341641   10.630146       98.4   66.5   \n",
       "4        4            3.620497     1.341641   10.954451       97.0   66.7   \n",
       "..     ...                 ...          ...         ...        ...    ...   \n",
       "152    152            4.411349     2.280351   15.165751      138.7   79.3   \n",
       "153    153            6.531462     2.323790   17.320508      119.0   79.9   \n",
       "154    137            6.798897     2.387467   15.968719      117.5   77.0   \n",
       "155    145            6.760547     2.387467   18.574176      104.5   73.6   \n",
       "156     77            8.350150     2.828427   21.213203       96.2   75.7   \n",
       "\n",
       "     Length  Fuel_capacity  Fuel_efficiency  \n",
       "0     149.4       3.209361             45.0  \n",
       "1     166.7       3.449638             31.0  \n",
       "2     175.1       3.449638             32.0  \n",
       "3     173.6       3.633180             30.0  \n",
       "4     174.0       3.633180             33.0  \n",
       "..      ...            ...              ...  \n",
       "152   224.2       5.099020             17.0  \n",
       "153   204.8       5.477226             15.0  \n",
       "154   201.2       5.477226             15.0  \n",
       "155   179.7       4.370355             22.0  \n",
       "156   176.7       4.358899             16.0  \n",
       "\n",
       "[157 rows x 9 columns]"
      ]
     },
     "execution_count": 50,
     "metadata": {},
     "output_type": "execute_result"
    }
   ],
   "source": [
    "df"
   ]
  },
  {
   "cell_type": "code",
   "execution_count": 51,
   "id": "2e6f95af",
   "metadata": {},
   "outputs": [
    {
     "data": {
      "text/html": [
       "<div>\n",
       "<style scoped>\n",
       "    .dataframe tbody tr th:only-of-type {\n",
       "        vertical-align: middle;\n",
       "    }\n",
       "\n",
       "    .dataframe tbody tr th {\n",
       "        vertical-align: top;\n",
       "    }\n",
       "\n",
       "    .dataframe thead th {\n",
       "        text-align: right;\n",
       "    }\n",
       "</style>\n",
       "<table border=\"1\" class=\"dataframe\">\n",
       "  <thead>\n",
       "    <tr style=\"text-align: right;\">\n",
       "      <th></th>\n",
       "      <th>Model</th>\n",
       "      <th>Engine_size</th>\n",
       "      <th>Horsepower</th>\n",
       "      <th>Wheelbase</th>\n",
       "      <th>Width</th>\n",
       "      <th>Length</th>\n",
       "      <th>Fuel_capacity</th>\n",
       "      <th>Fuel_efficiency</th>\n",
       "    </tr>\n",
       "  </thead>\n",
       "  <tbody>\n",
       "    <tr>\n",
       "      <th>0</th>\n",
       "      <td>-1.112277</td>\n",
       "      <td>-1.069338</td>\n",
       "      <td>-1.537380</td>\n",
       "      <td>-0.607302</td>\n",
       "      <td>-1.216353</td>\n",
       "      <td>-0.931649</td>\n",
       "      <td>-1.266329</td>\n",
       "      <td>1.378436</td>\n",
       "    </tr>\n",
       "    <tr>\n",
       "      <th>1</th>\n",
       "      <td>-0.144008</td>\n",
       "      <td>-0.001456</td>\n",
       "      <td>-0.613794</td>\n",
       "      <td>1.894445</td>\n",
       "      <td>1.555099</td>\n",
       "      <td>1.051659</td>\n",
       "      <td>1.872367</td>\n",
       "      <td>-0.621313</td>\n",
       "    </tr>\n",
       "    <tr>\n",
       "      <th>2</th>\n",
       "      <td>0.230096</td>\n",
       "      <td>0.282583</td>\n",
       "      <td>-0.229992</td>\n",
       "      <td>-0.423558</td>\n",
       "      <td>-0.216345</td>\n",
       "      <td>-0.688485</td>\n",
       "      <td>0.385334</td>\n",
       "      <td>-1.287896</td>\n",
       "    </tr>\n",
       "    <tr>\n",
       "      <th>3</th>\n",
       "      <td>-1.222308</td>\n",
       "      <td>-1.069338</td>\n",
       "      <td>-1.353123</td>\n",
       "      <td>-1.186803</td>\n",
       "      <td>-0.816350</td>\n",
       "      <td>-1.121621</td>\n",
       "      <td>-0.892243</td>\n",
       "      <td>0.489659</td>\n",
       "    </tr>\n",
       "    <tr>\n",
       "      <th>4</th>\n",
       "      <td>0.274108</td>\n",
       "      <td>0.189395</td>\n",
       "      <td>0.390829</td>\n",
       "      <td>-0.126741</td>\n",
       "      <td>-0.216345</td>\n",
       "      <td>-0.673287</td>\n",
       "      <td>0.789878</td>\n",
       "      <td>-1.065702</td>\n",
       "    </tr>\n",
       "    <tr>\n",
       "      <th>...</th>\n",
       "      <td>...</td>\n",
       "      <td>...</td>\n",
       "      <td>...</td>\n",
       "      <td>...</td>\n",
       "      <td>...</td>\n",
       "      <td>...</td>\n",
       "      <td>...</td>\n",
       "      <td>...</td>\n",
       "    </tr>\n",
       "    <tr>\n",
       "      <th>120</th>\n",
       "      <td>-1.508387</td>\n",
       "      <td>-1.313171</td>\n",
       "      <td>-0.613794</td>\n",
       "      <td>-0.663839</td>\n",
       "      <td>-0.844922</td>\n",
       "      <td>-0.688485</td>\n",
       "      <td>-0.374484</td>\n",
       "      <td>0.711853</td>\n",
       "    </tr>\n",
       "    <tr>\n",
       "      <th>121</th>\n",
       "      <td>0.516175</td>\n",
       "      <td>0.374369</td>\n",
       "      <td>-0.137626</td>\n",
       "      <td>-0.041936</td>\n",
       "      <td>-0.216345</td>\n",
       "      <td>-0.057778</td>\n",
       "      <td>-0.697753</td>\n",
       "      <td>0.267464</td>\n",
       "    </tr>\n",
       "    <tr>\n",
       "      <th>122</th>\n",
       "      <td>-0.276045</td>\n",
       "      <td>-0.300089</td>\n",
       "      <td>0.339806</td>\n",
       "      <td>0.806114</td>\n",
       "      <td>1.012237</td>\n",
       "      <td>1.264427</td>\n",
       "      <td>-0.217287</td>\n",
       "      <td>0.010642</td>\n",
       "    </tr>\n",
       "    <tr>\n",
       "      <th>123</th>\n",
       "      <td>0.846267</td>\n",
       "      <td>0.464815</td>\n",
       "      <td>1.161460</td>\n",
       "      <td>0.848517</td>\n",
       "      <td>1.469384</td>\n",
       "      <td>-1.645944</td>\n",
       "      <td>-1.628365</td>\n",
       "      <td>-0.621313</td>\n",
       "    </tr>\n",
       "    <tr>\n",
       "      <th>124</th>\n",
       "      <td>-0.716167</td>\n",
       "      <td>-0.615828</td>\n",
       "      <td>-0.613794</td>\n",
       "      <td>-0.041936</td>\n",
       "      <td>-0.302060</td>\n",
       "      <td>-0.027382</td>\n",
       "      <td>-0.752856</td>\n",
       "      <td>0.711853</td>\n",
       "    </tr>\n",
       "  </tbody>\n",
       "</table>\n",
       "<p>125 rows × 8 columns</p>\n",
       "</div>"
      ],
      "text/plain": [
       "        Model  Engine_size  Horsepower  Wheelbase     Width    Length  \\\n",
       "0   -1.112277    -1.069338   -1.537380  -0.607302 -1.216353 -0.931649   \n",
       "1   -0.144008    -0.001456   -0.613794   1.894445  1.555099  1.051659   \n",
       "2    0.230096     0.282583   -0.229992  -0.423558 -0.216345 -0.688485   \n",
       "3   -1.222308    -1.069338   -1.353123  -1.186803 -0.816350 -1.121621   \n",
       "4    0.274108     0.189395    0.390829  -0.126741 -0.216345 -0.673287   \n",
       "..        ...          ...         ...        ...       ...       ...   \n",
       "120 -1.508387    -1.313171   -0.613794  -0.663839 -0.844922 -0.688485   \n",
       "121  0.516175     0.374369   -0.137626  -0.041936 -0.216345 -0.057778   \n",
       "122 -0.276045    -0.300089    0.339806   0.806114  1.012237  1.264427   \n",
       "123  0.846267     0.464815    1.161460   0.848517  1.469384 -1.645944   \n",
       "124 -0.716167    -0.615828   -0.613794  -0.041936 -0.302060 -0.027382   \n",
       "\n",
       "     Fuel_capacity  Fuel_efficiency  \n",
       "0        -1.266329         1.378436  \n",
       "1         1.872367        -0.621313  \n",
       "2         0.385334        -1.287896  \n",
       "3        -0.892243         0.489659  \n",
       "4         0.789878        -1.065702  \n",
       "..             ...              ...  \n",
       "120      -0.374484         0.711853  \n",
       "121      -0.697753         0.267464  \n",
       "122      -0.217287         0.010642  \n",
       "123      -1.628365        -0.621313  \n",
       "124      -0.752856         0.711853  \n",
       "\n",
       "[125 rows x 8 columns]"
      ]
     },
     "execution_count": 51,
     "metadata": {},
     "output_type": "execute_result"
    }
   ],
   "source": [
    "x_train"
   ]
  },
  {
   "cell_type": "code",
   "execution_count": 52,
   "id": "c7cf7955",
   "metadata": {},
   "outputs": [
    {
     "data": {
      "text/plain": [
       "0.8207966929938804"
      ]
     },
     "execution_count": 52,
     "metadata": {},
     "output_type": "execute_result"
    }
   ],
   "source": [
    "model=LinearRegression()\n",
    "model.fit(x_train,y_train)\n",
    "ss=model.score(x_test,y_test)\n",
    "ss"
   ]
  },
  {
   "cell_type": "code",
   "execution_count": 53,
   "id": "d7469758",
   "metadata": {},
   "outputs": [
    {
     "name": "stderr",
     "output_type": "stream",
     "text": [
      "C:\\Users\\sony\\AppData\\Local\\Programs\\Python\\Python39\\lib\\site-packages\\sklearn\\base.py:450: UserWarning: X does not have valid feature names, but LinearRegression was fitted with feature names\n",
      "  warnings.warn(\n"
     ]
    },
    {
     "data": {
      "text/plain": [
       "array([252045.23488809])"
      ]
     },
     "execution_count": 53,
     "metadata": {},
     "output_type": "execute_result"
    }
   ],
   "source": [
    "res=model.predict([[123857,471597,291765,97081,360394,822733,381231,742237]])\n",
    "res"
   ]
  },
  {
   "cell_type": "code",
   "execution_count": 54,
   "id": "a24a4331",
   "metadata": {},
   "outputs": [
    {
     "data": {
      "text/plain": [
       "0.5833606865820173"
      ]
     },
     "execution_count": 54,
     "metadata": {},
     "output_type": "execute_result"
    }
   ],
   "source": [
    "model1=DecisionTreeRegressor()\n",
    "model1.fit(x_train,y_train)\n",
    "s3=model1.score(x_test,y_test)\n",
    "s3"
   ]
  },
  {
   "cell_type": "code",
   "execution_count": 55,
   "id": "05257c69",
   "metadata": {},
   "outputs": [
    {
     "data": {
      "text/plain": [
       "0.7722421710622649"
      ]
     },
     "execution_count": 55,
     "metadata": {},
     "output_type": "execute_result"
    }
   ],
   "source": [
    "model_3 = RandomForestRegressor()\n",
    "model_3.fit(x_train,y_train)\n",
    "s4=model_3.score(x_test,y_test)\n",
    "s4"
   ]
  },
  {
   "cell_type": "code",
   "execution_count": 74,
   "id": "9a1f5731",
   "metadata": {},
   "outputs": [
    {
     "ename": "ImportError",
     "evalue": "cannot import name 'RandomSearchCV' from 'sklearn.model_selection' (C:\\Users\\sony\\AppData\\Local\\Programs\\Python\\Python39\\lib\\site-packages\\sklearn\\model_selection\\__init__.py)",
     "output_type": "error",
     "traceback": [
      "\u001b[1;31m---------------------------------------------------------------------------\u001b[0m",
      "\u001b[1;31mImportError\u001b[0m                               Traceback (most recent call last)",
      "Input \u001b[1;32mIn [74]\u001b[0m, in \u001b[0;36m<cell line: 2>\u001b[1;34m()\u001b[0m\n\u001b[0;32m      1\u001b[0m \u001b[38;5;28;01mfrom\u001b[39;00m \u001b[38;5;21;01msklearn\u001b[39;00m\u001b[38;5;21;01m.\u001b[39;00m\u001b[38;5;21;01mmodel_selection\u001b[39;00m \u001b[38;5;28;01mimport\u001b[39;00m ShuffleSplit\n\u001b[1;32m----> 2\u001b[0m \u001b[38;5;28;01mfrom\u001b[39;00m \u001b[38;5;21;01msklearn\u001b[39;00m\u001b[38;5;21;01m.\u001b[39;00m\u001b[38;5;21;01mmodel_selection\u001b[39;00m \u001b[38;5;28;01mimport\u001b[39;00m RandomSearchCV\n",
      "\u001b[1;31mImportError\u001b[0m: cannot import name 'RandomSearchCV' from 'sklearn.model_selection' (C:\\Users\\sony\\AppData\\Local\\Programs\\Python\\Python39\\lib\\site-packages\\sklearn\\model_selection\\__init__.py)"
     ]
    }
   ],
   "source": [
    "from sklearn.model_selection import ShuffleSplit\n",
    "from sklearn.model_selection import RandomSearchCV"
   ]
  },
  {
   "cell_type": "code",
   "execution_count": 62,
   "id": "9d299339",
   "metadata": {},
   "outputs": [],
   "source": [
    "def perfect_model(X, y):\n",
    "    model_algo = {\n",
    "      \n",
    "      'Linear_Regression':{\n",
    "          'model': LinearRegression(),\n",
    "          'params': {}\n",
    "        },\n",
    "\n",
    "        'Decision_Tree':{\n",
    "            'model': DecisionTreeRegressor(random_state=22),\n",
    "            'params': {\n",
    "                'criterion': ['squared_error','friedman_mse','absolute_error'],\n",
    "                'splitter': ['best', 'random'],\n",
    "                'max_depth': [x for x in range(5,20,5)],\n",
    "                'min_samples_leaf': [1, 2, 5]\n",
    "            }\n",
    "        },\n",
    "\n",
    "        'Random_forest':{\n",
    "            'model': RandomForestRegressor(),\n",
    "            'params': {\n",
    "                'n_estimators': np.random.randint(20,151,size=5),\n",
    "                'max_depth': [x for x in range(5,35,5)],\n",
    "                'min_samples_split': [2, 5, 10,100],\n",
    "                'min_samples_leaf': [1, 2]\n",
    "            }\n",
    "        }\n",
    "    }\n",
    "  \n",
    "    score = []\n",
    "    cv = ShuffleSplit(n_splits=5, test_size=0.2, random_state=0)\n",
    "    for algo_name, config in model_algo.items():\n",
    "        rs =  RandomizedSearchCV(config['model'], config['params'], cv=cv, return_train_score=False, n_iter=3)\n",
    "        rs.fit(x_train,y_train)\n",
    "        score.append({\n",
    "          'model': algo_name,\n",
    "          'best_score': rs.best_score_,\n",
    "          'best_params': rs.best_params_\n",
    "      })\n",
    "\n",
    "    result = pd.DataFrame(score,columns=['model','best_score','best_params'])\n",
    "    print(result.best_params.tolist())\n",
    "    return result"
   ]
  },
  {
   "cell_type": "code",
   "execution_count": 63,
   "id": "eab46110",
   "metadata": {},
   "outputs": [
    {
     "name": "stderr",
     "output_type": "stream",
     "text": [
      "C:\\Users\\sony\\AppData\\Local\\Programs\\Python\\Python39\\lib\\site-packages\\sklearn\\model_selection\\_search.py:306: UserWarning: The total space of parameters 1 is smaller than n_iter=3. Running 1 iterations. For exhaustive searches, use GridSearchCV.\n",
      "  warnings.warn(\n"
     ]
    },
    {
     "name": "stdout",
     "output_type": "stream",
     "text": [
      "[{}, {'splitter': 'best', 'min_samples_leaf': 5, 'max_depth': 15, 'criterion': 'friedman_mse'}, {'n_estimators': 29, 'min_samples_split': 5, 'min_samples_leaf': 1, 'max_depth': 20}]\n"
     ]
    },
    {
     "data": {
      "text/html": [
       "<div>\n",
       "<style scoped>\n",
       "    .dataframe tbody tr th:only-of-type {\n",
       "        vertical-align: middle;\n",
       "    }\n",
       "\n",
       "    .dataframe tbody tr th {\n",
       "        vertical-align: top;\n",
       "    }\n",
       "\n",
       "    .dataframe thead th {\n",
       "        text-align: right;\n",
       "    }\n",
       "</style>\n",
       "<table border=\"1\" class=\"dataframe\">\n",
       "  <thead>\n",
       "    <tr style=\"text-align: right;\">\n",
       "      <th></th>\n",
       "      <th>model</th>\n",
       "      <th>best_score</th>\n",
       "      <th>best_params</th>\n",
       "    </tr>\n",
       "  </thead>\n",
       "  <tbody>\n",
       "    <tr>\n",
       "      <th>0</th>\n",
       "      <td>Linear_Regression</td>\n",
       "      <td>0.732929</td>\n",
       "      <td>{}</td>\n",
       "    </tr>\n",
       "    <tr>\n",
       "      <th>1</th>\n",
       "      <td>Decision_Tree</td>\n",
       "      <td>0.608781</td>\n",
       "      <td>{'splitter': 'best', 'min_samples_leaf': 5, 'm...</td>\n",
       "    </tr>\n",
       "    <tr>\n",
       "      <th>2</th>\n",
       "      <td>Random_forest</td>\n",
       "      <td>0.725921</td>\n",
       "      <td>{'n_estimators': 29, 'min_samples_split': 5, '...</td>\n",
       "    </tr>\n",
       "  </tbody>\n",
       "</table>\n",
       "</div>"
      ],
      "text/plain": [
       "               model  best_score  \\\n",
       "0  Linear_Regression    0.732929   \n",
       "1      Decision_Tree    0.608781   \n",
       "2      Random_forest    0.725921   \n",
       "\n",
       "                                         best_params  \n",
       "0                                                 {}  \n",
       "1  {'splitter': 'best', 'min_samples_leaf': 5, 'm...  \n",
       "2  {'n_estimators': 29, 'min_samples_split': 5, '...  "
      ]
     },
     "execution_count": 63,
     "metadata": {},
     "output_type": "execute_result"
    }
   ],
   "source": [
    "perfect_model(x,y)"
   ]
  },
  {
   "cell_type": "code",
   "execution_count": 64,
   "id": "0cebafbf",
   "metadata": {},
   "outputs": [
    {
     "data": {
      "text/plain": [
       "0.7245591703301175"
      ]
     },
     "execution_count": 64,
     "metadata": {},
     "output_type": "execute_result"
    }
   ],
   "source": [
    "final_dec_model = DecisionTreeRegressor(splitter='best', min_samples_leaf= 2, max_depth=20, criterion='absolute_error')\n",
    "final_dec_model.fit(x_train,y_train)\n",
    "final_dec_model.score(x_test,y_test)"
   ]
  },
  {
   "cell_type": "code",
   "execution_count": 65,
   "id": "b53cf0fc",
   "metadata": {},
   "outputs": [
    {
     "data": {
      "text/plain": [
       "0.7694382386504866"
      ]
     },
     "execution_count": 65,
     "metadata": {},
     "output_type": "execute_result"
    }
   ],
   "source": [
    "final_rf_model = RandomForestRegressor(n_estimators=400, min_samples_split=2, min_samples_leaf=2, max_depth=20)\n",
    "final_rf_model.fit(x_train,y_train)\n",
    "final_rf_model.score(x_test,y_test)"
   ]
  },
  {
   "cell_type": "code",
   "execution_count": 66,
   "id": "3a887d6f",
   "metadata": {},
   "outputs": [
    {
     "data": {
      "text/plain": [
       "0.8207966929938804"
      ]
     },
     "execution_count": 66,
     "metadata": {},
     "output_type": "execute_result"
    }
   ],
   "source": [
    "final_lr_model = LinearRegression()\n",
    "final_lr_model.fit(x_train,y_train)\n",
    "final_lr_model.score(x_test,y_test)"
   ]
  },
  {
   "cell_type": "code",
   "execution_count": 70,
   "id": "78f0a8c1",
   "metadata": {},
   "outputs": [],
   "source": [
    "def prediction(Model,Engine_size,Horsepower,Wheelbase,Width,Length,Fuel_capacity,Fuel_efficiency):\n",
    "    X_pred = np.zeros(8)\n",
    "    X_pred[0]=encoded_model[Model]\n",
    "    X_pred[1]=Engine_size\n",
    "    X_pred[2]=Horsepower\n",
    "    X_pred[3]=Wheelbase\n",
    "    X_pred[4]=Width\n",
    "    X_pred[5]=Length\n",
    "    X_pred[6]=Fuel_capacity\n",
    "    X_pred[7]=Fuel_efficiency\n",
    "    X_pred = scaler.transform([X_pred])\n",
    "    prediction = final_lr_model.predict(X_pred)\n",
    "    return prediction"
   ]
  },
  {
   "cell_type": "code",
   "execution_count": null,
   "id": "9106de78",
   "metadata": {},
   "outputs": [],
   "source": []
  },
  {
   "cell_type": "code",
   "execution_count": 56,
   "id": "eb53d503",
   "metadata": {},
   "outputs": [],
   "source": [
    "from sklearn.linear_model import LinearRegression, Ridge, Lasso\n",
    "from sklearn.tree import DecisionTreeRegressor\n",
    "from sklearn.ensemble import RandomForestRegressor, AdaBoostRegressor, GradientBoostingRegressor\n",
    "\n",
    "\n",
    "algos = {\n",
    "    \"Linear Regression\": {\n",
    "        \"model\": LinearRegression(),\n",
    "        \"params\": {}\n",
    "    },\n",
    "    \"Ridge\": {\n",
    "        \"model\": Ridge(),\n",
    "        \"params\": {\n",
    "            \"alpha\":np.arange(0.1, 1, 0.01)\n",
    "        }\n",
    "    },\n",
    "    \"Lasso\": {\n",
    "        \"model\": Lasso(),\n",
    "        \"params\": {\n",
    "            \"alpha\": np.arange(0.1, 1, 0.01)\n",
    "        }\n",
    "    },\n",
    "    \"Decision Tree\": {\n",
    "        \"model\": DecisionTreeRegressor(),\n",
    "        \"params\": {\n",
    "            \"criterion\": [\"mse\", \"friedman_mse\"],\n",
    "            \"splitter\": [\"best\", \"random\"],\n",
    "            \"max_depth\": [1, 3, 5, 7, 9, 10, 11, 12, 14, 15, 18, 20, 25, 28, 30, 33, 38, 40],\n",
    "            \"min_samples_split\": [2, 4, 6, 8, 10, 15, 20],\n",
    "            \"min_samples_leaf\": [i for i in range(1, 11)],\n",
    "            \"max_leaf_nodes\": [None] + [i for i in range(10, 91, 10)],\n",
    "            \"max_features\": [\"auto\", \"log2\", \"sqrt\", None]            \n",
    "        }\n",
    "    },\n",
    "    \"Random Forest\": {\n",
    "        \"model\": RandomForestRegressor(),\n",
    "        \"params\": {\n",
    "            \"n_estimators\": [100, 200, 300],\n",
    "            \"criterion\": [\"mse\", \"friedman_mse\"],\n",
    "            \"max_depth\": [1, 3, 5, 7, 9, 10, 11, 12, 14, 15, 18, 20, 25, 28, 30, 33, 38, 40],\n",
    "            \"min_samples_split\": [2, 4, 6, 8, 10, 15, 20],\n",
    "            \"min_samples_leaf\": [i for i in range(1, 11)],\n",
    "            \"max_leaf_nodes\": [None] + [i for i in range(10, 91, 10)],\n",
    "            \"max_features\": [\"auto\", \"log2\", \"sqrt\", None]\n",
    "        }\n",
    "    },\n",
    "    \"Ada Boost\": {\n",
    "        \"model\": AdaBoostRegressor(),\n",
    "        \"params\": {\n",
    "            \"n_estimators\": [100, 200, 300],\n",
    "            \"learning_rate\": np.arange(0.1, 1, 0.01),\n",
    "            \"loss\": ['linear', 'square', 'exponential']\n",
    "        }\n",
    "    },\n",
    "    \"Gradient Boost\": {\n",
    "        \"model\": GradientBoostingRegressor(),\n",
    "        \"params\": {\n",
    "            \"learning_rate\": np.arange(0.1, 1, 0.01),\n",
    "            \"n_estimators\": [100, 200, 300],\n",
    "            \"criterion\": ['friedman_mse', 'mse'],\n",
    "            \"min_samples_split\": [2, 4, 6, 8, 10, 15, 20],\n",
    "            \"min_samples_leaf\": [i for i in range(1, 11)],\n",
    "            \"max_depth\": [1, 3, 5, 7, 9, 10, 11, 12, 14, 15, 18, 20, 25, 28, 30, 33, 38, 40],\n",
    "            \"max_features\": [\"auto\", \"log2\", \"sqrt\", None],\n",
    "            \"max_leaf_nodes\": [None] + [i for i in range(10, 91, 10)],\n",
    "            \"alpha\": np.arange(0.1, 1, 0.01)\n",
    "        }\n",
    "    }\n",
    "}"
   ]
  },
  {
   "cell_type": "code",
   "execution_count": 57,
   "id": "3502ea23",
   "metadata": {},
   "outputs": [
    {
     "name": "stderr",
     "output_type": "stream",
     "text": [
      "C:\\Users\\sony\\AppData\\Local\\Programs\\Python\\Python39\\lib\\site-packages\\sklearn\\model_selection\\_search.py:306: UserWarning: The total space of parameters 1 is smaller than n_iter=10. Running 1 iterations. For exhaustive searches, use GridSearchCV.\n",
      "  warnings.warn(\n"
     ]
    },
    {
     "name": "stdout",
     "output_type": "stream",
     "text": [
      "Fitting 5 folds for each of 1 candidates, totalling 5 fits\n",
      "---fitted---\n",
      "Linear Regression\n",
      "Fitting 5 folds for each of 10 candidates, totalling 50 fits\n",
      "---fitted---\n",
      "Ridge\n",
      "Fitting 5 folds for each of 10 candidates, totalling 50 fits\n",
      "---fitted---\n",
      "Lasso\n",
      "Fitting 5 folds for each of 10 candidates, totalling 50 fits\n"
     ]
    },
    {
     "name": "stderr",
     "output_type": "stream",
     "text": [
      "C:\\Users\\sony\\AppData\\Local\\Programs\\Python\\Python39\\lib\\site-packages\\sklearn\\tree\\_classes.py:306: FutureWarning: `max_features='auto'` has been deprecated in 1.1 and will be removed in 1.3. To keep the past behaviour, explicitly set `max_features=1.0'`.\n",
      "  warnings.warn(\n"
     ]
    },
    {
     "name": "stdout",
     "output_type": "stream",
     "text": [
      "---fitted---\n",
      "Decision Tree\n",
      "Fitting 5 folds for each of 10 candidates, totalling 50 fits\n"
     ]
    },
    {
     "name": "stderr",
     "output_type": "stream",
     "text": [
      "C:\\Users\\sony\\AppData\\Local\\Programs\\Python\\Python39\\lib\\site-packages\\sklearn\\ensemble\\_forest.py:400: FutureWarning: Criterion 'mse' was deprecated in v1.0 and will be removed in version 1.2. Use `criterion='squared_error'` which is equivalent.\n",
      "  warn(\n"
     ]
    },
    {
     "name": "stdout",
     "output_type": "stream",
     "text": [
      "---fitted---\n",
      "Random Forest\n",
      "Fitting 5 folds for each of 10 candidates, totalling 50 fits\n",
      "---fitted---\n",
      "Ada Boost\n"
     ]
    },
    {
     "ename": "OverflowError",
     "evalue": "Python int too large to convert to C long",
     "output_type": "error",
     "traceback": [
      "\u001b[1;31m---------------------------------------------------------------------------\u001b[0m",
      "\u001b[1;31mOverflowError\u001b[0m                             Traceback (most recent call last)",
      "Input \u001b[1;32mIn [57]\u001b[0m, in \u001b[0;36m<cell line: 8>\u001b[1;34m()\u001b[0m\n\u001b[0;32m      8\u001b[0m \u001b[38;5;28;01mfor\u001b[39;00m model_name, values \u001b[38;5;129;01min\u001b[39;00m algos\u001b[38;5;241m.\u001b[39mitems():\n\u001b[0;32m      9\u001b[0m     rscv \u001b[38;5;241m=\u001b[39m RandomizedSearchCV(values[\u001b[38;5;124m\"\u001b[39m\u001b[38;5;124mmodel\u001b[39m\u001b[38;5;124m\"\u001b[39m], values[\u001b[38;5;124m\"\u001b[39m\u001b[38;5;124mparams\u001b[39m\u001b[38;5;124m\"\u001b[39m], cv\u001b[38;5;241m=\u001b[39m\u001b[38;5;241m5\u001b[39m, n_iter\u001b[38;5;241m=\u001b[39m\u001b[38;5;241m10\u001b[39m, n_jobs\u001b[38;5;241m=\u001b[39m\u001b[38;5;241m-\u001b[39m\u001b[38;5;241m1\u001b[39m, verbose\u001b[38;5;241m=\u001b[39m\u001b[38;5;241m2\u001b[39m, random_state\u001b[38;5;241m=\u001b[39m\u001b[38;5;241m4\u001b[39m)\n\u001b[1;32m---> 10\u001b[0m     \u001b[43mrscv\u001b[49m\u001b[38;5;241;43m.\u001b[39;49m\u001b[43mfit\u001b[49m\u001b[43m(\u001b[49m\u001b[43mx_train\u001b[49m\u001b[43m,\u001b[49m\u001b[43m \u001b[49m\u001b[43my_train\u001b[49m\u001b[43m)\u001b[49m\n\u001b[0;32m     11\u001b[0m     \u001b[38;5;28mprint\u001b[39m(\u001b[38;5;124m\"\u001b[39m\u001b[38;5;124m---fitted---\u001b[39m\u001b[38;5;124m\"\u001b[39m)\n\u001b[0;32m     12\u001b[0m     best_model[model_name] \u001b[38;5;241m=\u001b[39m rscv\n",
      "File \u001b[1;32m~\\AppData\\Local\\Programs\\Python\\Python39\\lib\\site-packages\\sklearn\\model_selection\\_search.py:875\u001b[0m, in \u001b[0;36mBaseSearchCV.fit\u001b[1;34m(self, X, y, groups, **fit_params)\u001b[0m\n\u001b[0;32m    869\u001b[0m     results \u001b[38;5;241m=\u001b[39m \u001b[38;5;28mself\u001b[39m\u001b[38;5;241m.\u001b[39m_format_results(\n\u001b[0;32m    870\u001b[0m         all_candidate_params, n_splits, all_out, all_more_results\n\u001b[0;32m    871\u001b[0m     )\n\u001b[0;32m    873\u001b[0m     \u001b[38;5;28;01mreturn\u001b[39;00m results\n\u001b[1;32m--> 875\u001b[0m \u001b[38;5;28;43mself\u001b[39;49m\u001b[38;5;241;43m.\u001b[39;49m\u001b[43m_run_search\u001b[49m\u001b[43m(\u001b[49m\u001b[43mevaluate_candidates\u001b[49m\u001b[43m)\u001b[49m\n\u001b[0;32m    877\u001b[0m \u001b[38;5;66;03m# multimetric is determined here because in the case of a callable\u001b[39;00m\n\u001b[0;32m    878\u001b[0m \u001b[38;5;66;03m# self.scoring the return type is only known after calling\u001b[39;00m\n\u001b[0;32m    879\u001b[0m first_test_score \u001b[38;5;241m=\u001b[39m all_out[\u001b[38;5;241m0\u001b[39m][\u001b[38;5;124m\"\u001b[39m\u001b[38;5;124mtest_scores\u001b[39m\u001b[38;5;124m\"\u001b[39m]\n",
      "File \u001b[1;32m~\\AppData\\Local\\Programs\\Python\\Python39\\lib\\site-packages\\sklearn\\model_selection\\_search.py:1749\u001b[0m, in \u001b[0;36mRandomizedSearchCV._run_search\u001b[1;34m(self, evaluate_candidates)\u001b[0m\n\u001b[0;32m   1747\u001b[0m \u001b[38;5;28;01mdef\u001b[39;00m \u001b[38;5;21m_run_search\u001b[39m(\u001b[38;5;28mself\u001b[39m, evaluate_candidates):\n\u001b[0;32m   1748\u001b[0m     \u001b[38;5;124;03m\"\"\"Search n_iter candidates from param_distributions\"\"\"\u001b[39;00m\n\u001b[1;32m-> 1749\u001b[0m     \u001b[43mevaluate_candidates\u001b[49m\u001b[43m(\u001b[49m\n\u001b[0;32m   1750\u001b[0m \u001b[43m        \u001b[49m\u001b[43mParameterSampler\u001b[49m\u001b[43m(\u001b[49m\n\u001b[0;32m   1751\u001b[0m \u001b[43m            \u001b[49m\u001b[38;5;28;43mself\u001b[39;49m\u001b[38;5;241;43m.\u001b[39;49m\u001b[43mparam_distributions\u001b[49m\u001b[43m,\u001b[49m\u001b[43m \u001b[49m\u001b[38;5;28;43mself\u001b[39;49m\u001b[38;5;241;43m.\u001b[39;49m\u001b[43mn_iter\u001b[49m\u001b[43m,\u001b[49m\u001b[43m \u001b[49m\u001b[43mrandom_state\u001b[49m\u001b[38;5;241;43m=\u001b[39;49m\u001b[38;5;28;43mself\u001b[39;49m\u001b[38;5;241;43m.\u001b[39;49m\u001b[43mrandom_state\u001b[49m\n\u001b[0;32m   1752\u001b[0m \u001b[43m        \u001b[49m\u001b[43m)\u001b[49m\n\u001b[0;32m   1753\u001b[0m \u001b[43m    \u001b[49m\u001b[43m)\u001b[49m\n",
      "File \u001b[1;32m~\\AppData\\Local\\Programs\\Python\\Python39\\lib\\site-packages\\sklearn\\model_selection\\_search.py:811\u001b[0m, in \u001b[0;36mBaseSearchCV.fit.<locals>.evaluate_candidates\u001b[1;34m(candidate_params, cv, more_results)\u001b[0m\n\u001b[0;32m    809\u001b[0m \u001b[38;5;28;01mdef\u001b[39;00m \u001b[38;5;21mevaluate_candidates\u001b[39m(candidate_params, cv\u001b[38;5;241m=\u001b[39m\u001b[38;5;28;01mNone\u001b[39;00m, more_results\u001b[38;5;241m=\u001b[39m\u001b[38;5;28;01mNone\u001b[39;00m):\n\u001b[0;32m    810\u001b[0m     cv \u001b[38;5;241m=\u001b[39m cv \u001b[38;5;129;01mor\u001b[39;00m cv_orig\n\u001b[1;32m--> 811\u001b[0m     candidate_params \u001b[38;5;241m=\u001b[39m \u001b[38;5;28;43mlist\u001b[39;49m\u001b[43m(\u001b[49m\u001b[43mcandidate_params\u001b[49m\u001b[43m)\u001b[49m\n\u001b[0;32m    812\u001b[0m     n_candidates \u001b[38;5;241m=\u001b[39m \u001b[38;5;28mlen\u001b[39m(candidate_params)\n\u001b[0;32m    814\u001b[0m     \u001b[38;5;28;01mif\u001b[39;00m \u001b[38;5;28mself\u001b[39m\u001b[38;5;241m.\u001b[39mverbose \u001b[38;5;241m>\u001b[39m \u001b[38;5;241m0\u001b[39m:\n",
      "File \u001b[1;32m~\\AppData\\Local\\Programs\\Python\\Python39\\lib\\site-packages\\sklearn\\model_selection\\_search.py:313\u001b[0m, in \u001b[0;36mParameterSampler.__iter__\u001b[1;34m(self)\u001b[0m\n\u001b[0;32m    306\u001b[0m         warnings\u001b[38;5;241m.\u001b[39mwarn(\n\u001b[0;32m    307\u001b[0m             \u001b[38;5;124m\"\u001b[39m\u001b[38;5;124mThe total space of parameters \u001b[39m\u001b[38;5;132;01m%d\u001b[39;00m\u001b[38;5;124m is smaller \u001b[39m\u001b[38;5;124m\"\u001b[39m\n\u001b[0;32m    308\u001b[0m             \u001b[38;5;124m\"\u001b[39m\u001b[38;5;124mthan n_iter=\u001b[39m\u001b[38;5;132;01m%d\u001b[39;00m\u001b[38;5;124m. Running \u001b[39m\u001b[38;5;132;01m%d\u001b[39;00m\u001b[38;5;124m iterations. For exhaustive \u001b[39m\u001b[38;5;124m\"\u001b[39m\n\u001b[0;32m    309\u001b[0m             \u001b[38;5;124m\"\u001b[39m\u001b[38;5;124msearches, use GridSearchCV.\u001b[39m\u001b[38;5;124m\"\u001b[39m \u001b[38;5;241m%\u001b[39m (grid_size, \u001b[38;5;28mself\u001b[39m\u001b[38;5;241m.\u001b[39mn_iter, grid_size),\n\u001b[0;32m    310\u001b[0m             \u001b[38;5;167;01mUserWarning\u001b[39;00m,\n\u001b[0;32m    311\u001b[0m         )\n\u001b[0;32m    312\u001b[0m         n_iter \u001b[38;5;241m=\u001b[39m grid_size\n\u001b[1;32m--> 313\u001b[0m     \u001b[38;5;28;01mfor\u001b[39;00m i \u001b[38;5;129;01min\u001b[39;00m \u001b[43msample_without_replacement\u001b[49m\u001b[43m(\u001b[49m\u001b[43mgrid_size\u001b[49m\u001b[43m,\u001b[49m\u001b[43m \u001b[49m\u001b[43mn_iter\u001b[49m\u001b[43m,\u001b[49m\u001b[43m \u001b[49m\u001b[43mrandom_state\u001b[49m\u001b[38;5;241;43m=\u001b[39;49m\u001b[43mrng\u001b[49m\u001b[43m)\u001b[49m:\n\u001b[0;32m    314\u001b[0m         \u001b[38;5;28;01myield\u001b[39;00m param_grid[i]\n\u001b[0;32m    316\u001b[0m \u001b[38;5;28;01melse\u001b[39;00m:\n",
      "File \u001b[1;32msklearn\\utils\\_random.pyx:220\u001b[0m, in \u001b[0;36msklearn.utils._random.sample_without_replacement\u001b[1;34m()\u001b[0m\n",
      "\u001b[1;31mOverflowError\u001b[0m: Python int too large to convert to C long"
     ]
    }
   ],
   "source": [
    "from sklearn.model_selection import RandomizedSearchCV\n",
    "import time\n",
    "\n",
    "start_time = time.time()\n",
    "best_model = {}\n",
    "best_model_details = []\n",
    "\n",
    "for model_name, values in algos.items():\n",
    "    rscv = RandomizedSearchCV(values[\"model\"], values[\"params\"], cv=5, n_iter=10, n_jobs=-1, verbose=2, random_state=4)\n",
    "    rscv.fit(x_train, y_train)\n",
    "    print(\"---fitted---\")\n",
    "    best_model[model_name] = rscv\n",
    "    best_model_details.append({\"Model Name\": model_name, \"Best Score\": rscv.best_score_, \"Best Parameters\": rscv.best_params_})\n",
    "    print(model_name)\n",
    "\n",
    "\n",
    "print(\"--------------------------------------------------------\")\n",
    "print(f\"it takes {(time.time() - start_time) / 60} minutes\")\n",
    "print(\"--------------------------------------------------------\")"
   ]
  },
  {
   "cell_type": "code",
   "execution_count": 58,
   "id": "1f766732",
   "metadata": {},
   "outputs": [
    {
     "data": {
      "text/html": [
       "<div>\n",
       "<style scoped>\n",
       "    .dataframe tbody tr th:only-of-type {\n",
       "        vertical-align: middle;\n",
       "    }\n",
       "\n",
       "    .dataframe tbody tr th {\n",
       "        vertical-align: top;\n",
       "    }\n",
       "\n",
       "    .dataframe thead th {\n",
       "        text-align: right;\n",
       "    }\n",
       "</style>\n",
       "<table border=\"1\" class=\"dataframe\">\n",
       "  <thead>\n",
       "    <tr style=\"text-align: right;\">\n",
       "      <th></th>\n",
       "      <th>Model Name</th>\n",
       "      <th>Best Score</th>\n",
       "      <th>Best Parameters</th>\n",
       "    </tr>\n",
       "  </thead>\n",
       "  <tbody>\n",
       "    <tr>\n",
       "      <th>0</th>\n",
       "      <td>Linear Regression</td>\n",
       "      <td>0.738706</td>\n",
       "      <td>{}</td>\n",
       "    </tr>\n",
       "    <tr>\n",
       "      <th>1</th>\n",
       "      <td>Ridge</td>\n",
       "      <td>0.740728</td>\n",
       "      <td>{'alpha': 0.8599999999999995}</td>\n",
       "    </tr>\n",
       "    <tr>\n",
       "      <th>2</th>\n",
       "      <td>Lasso</td>\n",
       "      <td>0.700242</td>\n",
       "      <td>{'alpha': 0.19999999999999996}</td>\n",
       "    </tr>\n",
       "    <tr>\n",
       "      <th>3</th>\n",
       "      <td>Decision Tree</td>\n",
       "      <td>0.669404</td>\n",
       "      <td>{'splitter': 'best', 'min_samples_split': 20, 'min_samples_leaf': 5, 'max_leaf_nodes': 20, 'max_features': 'auto', 'max_depth': 40, 'criterion': 'friedman_mse'}</td>\n",
       "    </tr>\n",
       "    <tr>\n",
       "      <th>4</th>\n",
       "      <td>Random Forest</td>\n",
       "      <td>0.729119</td>\n",
       "      <td>{'n_estimators': 200, 'min_samples_split': 15, 'min_samples_leaf': 3, 'max_leaf_nodes': 20, 'max_features': None, 'max_depth': 25, 'criterion': 'mse'}</td>\n",
       "    </tr>\n",
       "    <tr>\n",
       "      <th>5</th>\n",
       "      <td>Ada Boost</td>\n",
       "      <td>0.745028</td>\n",
       "      <td>{'n_estimators': 100, 'loss': 'square', 'learning_rate': 0.9099999999999996}</td>\n",
       "    </tr>\n",
       "  </tbody>\n",
       "</table>\n",
       "</div>"
      ],
      "text/plain": [
       "          Model Name  Best Score  \\\n",
       "0  Linear Regression    0.738706   \n",
       "1              Ridge    0.740728   \n",
       "2              Lasso    0.700242   \n",
       "3      Decision Tree    0.669404   \n",
       "4      Random Forest    0.729119   \n",
       "5          Ada Boost    0.745028   \n",
       "\n",
       "                                                                                                                                                    Best Parameters  \n",
       "0                                                                                                                                                                {}  \n",
       "1                                                                                                                                     {'alpha': 0.8599999999999995}  \n",
       "2                                                                                                                                    {'alpha': 0.19999999999999996}  \n",
       "3  {'splitter': 'best', 'min_samples_split': 20, 'min_samples_leaf': 5, 'max_leaf_nodes': 20, 'max_features': 'auto', 'max_depth': 40, 'criterion': 'friedman_mse'}  \n",
       "4            {'n_estimators': 200, 'min_samples_split': 15, 'min_samples_leaf': 3, 'max_leaf_nodes': 20, 'max_features': None, 'max_depth': 25, 'criterion': 'mse'}  \n",
       "5                                                                                      {'n_estimators': 100, 'loss': 'square', 'learning_rate': 0.9099999999999996}  "
      ]
     },
     "execution_count": 58,
     "metadata": {},
     "output_type": "execute_result"
    }
   ],
   "source": [
    "pd.set_option('display.max_colwidth', None)\n",
    "pd.DataFrame(best_model_details)"
   ]
  },
  {
   "cell_type": "code",
   "execution_count": 59,
   "id": "11e5d55d",
   "metadata": {},
   "outputs": [
    {
     "data": {
      "text/html": [
       "<div>\n",
       "<style scoped>\n",
       "    .dataframe tbody tr th:only-of-type {\n",
       "        vertical-align: middle;\n",
       "    }\n",
       "\n",
       "    .dataframe tbody tr th {\n",
       "        vertical-align: top;\n",
       "    }\n",
       "\n",
       "    .dataframe thead th {\n",
       "        text-align: right;\n",
       "    }\n",
       "</style>\n",
       "<table border=\"1\" class=\"dataframe\">\n",
       "  <thead>\n",
       "    <tr style=\"text-align: right;\">\n",
       "      <th></th>\n",
       "      <th>Model Name</th>\n",
       "      <th>Test Score</th>\n",
       "    </tr>\n",
       "  </thead>\n",
       "  <tbody>\n",
       "    <tr>\n",
       "      <th>0</th>\n",
       "      <td>Linear Regression</td>\n",
       "      <td>0.820797</td>\n",
       "    </tr>\n",
       "    <tr>\n",
       "      <th>1</th>\n",
       "      <td>Ridge</td>\n",
       "      <td>0.816264</td>\n",
       "    </tr>\n",
       "    <tr>\n",
       "      <th>2</th>\n",
       "      <td>Lasso</td>\n",
       "      <td>0.696252</td>\n",
       "    </tr>\n",
       "    <tr>\n",
       "      <th>3</th>\n",
       "      <td>Decision Tree</td>\n",
       "      <td>0.658021</td>\n",
       "    </tr>\n",
       "    <tr>\n",
       "      <th>4</th>\n",
       "      <td>Random Forest</td>\n",
       "      <td>0.742914</td>\n",
       "    </tr>\n",
       "    <tr>\n",
       "      <th>5</th>\n",
       "      <td>Ada Boost</td>\n",
       "      <td>0.741309</td>\n",
       "    </tr>\n",
       "  </tbody>\n",
       "</table>\n",
       "</div>"
      ],
      "text/plain": [
       "          Model Name  Test Score\n",
       "0  Linear Regression    0.820797\n",
       "1              Ridge    0.816264\n",
       "2              Lasso    0.696252\n",
       "3      Decision Tree    0.658021\n",
       "4      Random Forest    0.742914\n",
       "5          Ada Boost    0.741309"
      ]
     },
     "execution_count": 59,
     "metadata": {},
     "output_type": "execute_result"
    }
   ],
   "source": [
    "test_model = []\n",
    "\n",
    "for model_name, model in best_model.items():\n",
    "    test_model.append({\"Model Name\": model_name, \"Test Score\": model.score(x_test, y_test)})\n",
    "\n",
    "pd.DataFrame(test_model)"
   ]
  },
  {
   "cell_type": "code",
   "execution_count": 60,
   "id": "76d5beaa",
   "metadata": {},
   "outputs": [],
   "source": [
    "from sklearn.metrics import mean_absolute_error, mean_squared_error\n",
    "\n",
    "train_model_error = []\n",
    "test_model_error = []\n",
    "\n",
    "for model_name, model in best_model.items():\n",
    "    y_pred_train = model.predict(x_train)\n",
    "    y_pred_test = model.predict(x_test)\n",
    "    \n",
    "    train_mae = mean_absolute_error(y_train, y_pred_train)\n",
    "    train_mse = mean_squared_error(y_train, y_pred_train)\n",
    "    train_rmse = np.sqrt(train_mse)\n",
    "\n",
    "    test_mae = mean_absolute_error(y_test, y_pred_test)\n",
    "    test_mse = mean_squared_error(y_test, y_pred_test)\n",
    "    test_rmse = np.sqrt(test_mse)\n",
    "    \n",
    "    train_model_error.append({\"Model Name\": model_name, \"Mean Absolute Error\": train_mae, \"Mean Squared Error\": train_mse, \"Root Mean Squared Error\": train_rmse})\n",
    "    test_model_error.append({\"Model Name\": model_name, \"Mean Absolute Error\": test_mae, \"Mean Squared Error\": test_mse, \"Root Mean Squared Error\": test_rmse})\n",
    "    \n",
    "\n",
    "train_model_error = pd.DataFrame(train_model_error)\n",
    "test_model_error = pd.DataFrame(test_model_error)"
   ]
  },
  {
   "cell_type": "code",
   "execution_count": 61,
   "id": "0a4a40e0",
   "metadata": {},
   "outputs": [
    {
     "name": "stdout",
     "output_type": "stream",
     "text": [
      "-------- Training Data Error --------\n"
     ]
    },
    {
     "data": {
      "text/html": [
       "<div>\n",
       "<style scoped>\n",
       "    .dataframe tbody tr th:only-of-type {\n",
       "        vertical-align: middle;\n",
       "    }\n",
       "\n",
       "    .dataframe tbody tr th {\n",
       "        vertical-align: top;\n",
       "    }\n",
       "\n",
       "    .dataframe thead th {\n",
       "        text-align: right;\n",
       "    }\n",
       "</style>\n",
       "<table border=\"1\" class=\"dataframe\">\n",
       "  <thead>\n",
       "    <tr style=\"text-align: right;\">\n",
       "      <th></th>\n",
       "      <th>Model Name</th>\n",
       "      <th>Mean Absolute Error</th>\n",
       "      <th>Mean Squared Error</th>\n",
       "      <th>Root Mean Squared Error</th>\n",
       "    </tr>\n",
       "  </thead>\n",
       "  <tbody>\n",
       "    <tr>\n",
       "      <th>0</th>\n",
       "      <td>Linear Regression</td>\n",
       "      <td>0.391682</td>\n",
       "      <td>0.295692</td>\n",
       "      <td>0.543776</td>\n",
       "    </tr>\n",
       "    <tr>\n",
       "      <th>1</th>\n",
       "      <td>Ridge</td>\n",
       "      <td>0.392068</td>\n",
       "      <td>0.296094</td>\n",
       "      <td>0.544145</td>\n",
       "    </tr>\n",
       "    <tr>\n",
       "      <th>2</th>\n",
       "      <td>Lasso</td>\n",
       "      <td>0.475164</td>\n",
       "      <td>0.421882</td>\n",
       "      <td>0.649525</td>\n",
       "    </tr>\n",
       "    <tr>\n",
       "      <th>3</th>\n",
       "      <td>Decision Tree</td>\n",
       "      <td>0.358485</td>\n",
       "      <td>0.242833</td>\n",
       "      <td>0.492781</td>\n",
       "    </tr>\n",
       "    <tr>\n",
       "      <th>4</th>\n",
       "      <td>Random Forest</td>\n",
       "      <td>0.327841</td>\n",
       "      <td>0.207592</td>\n",
       "      <td>0.455622</td>\n",
       "    </tr>\n",
       "    <tr>\n",
       "      <th>5</th>\n",
       "      <td>Ada Boost</td>\n",
       "      <td>0.296134</td>\n",
       "      <td>0.129914</td>\n",
       "      <td>0.360436</td>\n",
       "    </tr>\n",
       "  </tbody>\n",
       "</table>\n",
       "</div>"
      ],
      "text/plain": [
       "          Model Name  Mean Absolute Error  Mean Squared Error  \\\n",
       "0  Linear Regression             0.391682            0.295692   \n",
       "1              Ridge             0.392068            0.296094   \n",
       "2              Lasso             0.475164            0.421882   \n",
       "3      Decision Tree             0.358485            0.242833   \n",
       "4      Random Forest             0.327841            0.207592   \n",
       "5          Ada Boost             0.296134            0.129914   \n",
       "\n",
       "   Root Mean Squared Error  \n",
       "0                 0.543776  \n",
       "1                 0.544145  \n",
       "2                 0.649525  \n",
       "3                 0.492781  \n",
       "4                 0.455622  \n",
       "5                 0.360436  "
      ]
     },
     "execution_count": 61,
     "metadata": {},
     "output_type": "execute_result"
    }
   ],
   "source": [
    "print(\"-------- Training Data Error --------\")\n",
    "train_model_error"
   ]
  },
  {
   "cell_type": "code",
   "execution_count": 62,
   "id": "ac6cc9d4",
   "metadata": {
    "scrolled": true
   },
   "outputs": [
    {
     "name": "stdout",
     "output_type": "stream",
     "text": [
      "-------- Test Data Error --------\n"
     ]
    },
    {
     "data": {
      "text/html": [
       "<div>\n",
       "<style scoped>\n",
       "    .dataframe tbody tr th:only-of-type {\n",
       "        vertical-align: middle;\n",
       "    }\n",
       "\n",
       "    .dataframe tbody tr th {\n",
       "        vertical-align: top;\n",
       "    }\n",
       "\n",
       "    .dataframe thead th {\n",
       "        text-align: right;\n",
       "    }\n",
       "</style>\n",
       "<table border=\"1\" class=\"dataframe\">\n",
       "  <thead>\n",
       "    <tr style=\"text-align: right;\">\n",
       "      <th></th>\n",
       "      <th>Model Name</th>\n",
       "      <th>Mean Absolute Error</th>\n",
       "      <th>Mean Squared Error</th>\n",
       "      <th>Root Mean Squared Error</th>\n",
       "    </tr>\n",
       "  </thead>\n",
       "  <tbody>\n",
       "    <tr>\n",
       "      <th>0</th>\n",
       "      <td>Linear Regression</td>\n",
       "      <td>0.415431</td>\n",
       "      <td>0.289442</td>\n",
       "      <td>0.537998</td>\n",
       "    </tr>\n",
       "    <tr>\n",
       "      <th>1</th>\n",
       "      <td>Ridge</td>\n",
       "      <td>0.417182</td>\n",
       "      <td>0.296763</td>\n",
       "      <td>0.544759</td>\n",
       "    </tr>\n",
       "    <tr>\n",
       "      <th>2</th>\n",
       "      <td>Lasso</td>\n",
       "      <td>0.534894</td>\n",
       "      <td>0.490602</td>\n",
       "      <td>0.700430</td>\n",
       "    </tr>\n",
       "    <tr>\n",
       "      <th>3</th>\n",
       "      <td>Decision Tree</td>\n",
       "      <td>0.581092</td>\n",
       "      <td>0.552350</td>\n",
       "      <td>0.743203</td>\n",
       "    </tr>\n",
       "    <tr>\n",
       "      <th>4</th>\n",
       "      <td>Random Forest</td>\n",
       "      <td>0.492292</td>\n",
       "      <td>0.415235</td>\n",
       "      <td>0.644387</td>\n",
       "    </tr>\n",
       "    <tr>\n",
       "      <th>5</th>\n",
       "      <td>Ada Boost</td>\n",
       "      <td>0.494323</td>\n",
       "      <td>0.417827</td>\n",
       "      <td>0.646396</td>\n",
       "    </tr>\n",
       "  </tbody>\n",
       "</table>\n",
       "</div>"
      ],
      "text/plain": [
       "          Model Name  Mean Absolute Error  Mean Squared Error  \\\n",
       "0  Linear Regression             0.415431            0.289442   \n",
       "1              Ridge             0.417182            0.296763   \n",
       "2              Lasso             0.534894            0.490602   \n",
       "3      Decision Tree             0.581092            0.552350   \n",
       "4      Random Forest             0.492292            0.415235   \n",
       "5          Ada Boost             0.494323            0.417827   \n",
       "\n",
       "   Root Mean Squared Error  \n",
       "0                 0.537998  \n",
       "1                 0.544759  \n",
       "2                 0.700430  \n",
       "3                 0.743203  \n",
       "4                 0.644387  \n",
       "5                 0.646396  "
      ]
     },
     "execution_count": 62,
     "metadata": {},
     "output_type": "execute_result"
    }
   ],
   "source": [
    "print(\"-------- Test Data Error --------\")\n",
    "test_model_error"
   ]
  },
  {
   "cell_type": "code",
   "execution_count": 71,
   "id": "3c9f1123",
   "metadata": {},
   "outputs": [
    {
     "data": {
      "text/html": [
       "<div>\n",
       "<style scoped>\n",
       "    .dataframe tbody tr th:only-of-type {\n",
       "        vertical-align: middle;\n",
       "    }\n",
       "\n",
       "    .dataframe tbody tr th {\n",
       "        vertical-align: top;\n",
       "    }\n",
       "\n",
       "    .dataframe thead th {\n",
       "        text-align: right;\n",
       "    }\n",
       "</style>\n",
       "<table border=\"1\" class=\"dataframe\">\n",
       "  <thead>\n",
       "    <tr style=\"text-align: right;\">\n",
       "      <th></th>\n",
       "      <th>Model</th>\n",
       "      <th>Engine_size</th>\n",
       "      <th>Horsepower</th>\n",
       "      <th>Wheelbase</th>\n",
       "      <th>Width</th>\n",
       "      <th>Length</th>\n",
       "      <th>Fuel_capacity</th>\n",
       "      <th>Fuel_efficiency</th>\n",
       "    </tr>\n",
       "  </thead>\n",
       "  <tbody>\n",
       "    <tr>\n",
       "      <th>0</th>\n",
       "      <td>-1.112277</td>\n",
       "      <td>-1.069338</td>\n",
       "      <td>-1.537380</td>\n",
       "      <td>-0.607302</td>\n",
       "      <td>-1.216353</td>\n",
       "      <td>-0.931649</td>\n",
       "      <td>-1.266329</td>\n",
       "      <td>1.378436</td>\n",
       "    </tr>\n",
       "    <tr>\n",
       "      <th>1</th>\n",
       "      <td>-0.144008</td>\n",
       "      <td>-0.001456</td>\n",
       "      <td>-0.613794</td>\n",
       "      <td>1.894445</td>\n",
       "      <td>1.555099</td>\n",
       "      <td>1.051659</td>\n",
       "      <td>1.872367</td>\n",
       "      <td>-0.621313</td>\n",
       "    </tr>\n",
       "    <tr>\n",
       "      <th>2</th>\n",
       "      <td>0.230096</td>\n",
       "      <td>0.282583</td>\n",
       "      <td>-0.229992</td>\n",
       "      <td>-0.423558</td>\n",
       "      <td>-0.216345</td>\n",
       "      <td>-0.688485</td>\n",
       "      <td>0.385334</td>\n",
       "      <td>-1.287896</td>\n",
       "    </tr>\n",
       "  </tbody>\n",
       "</table>\n",
       "</div>"
      ],
      "text/plain": [
       "      Model  Engine_size  Horsepower  Wheelbase     Width    Length  \\\n",
       "0 -1.112277    -1.069338   -1.537380  -0.607302 -1.216353 -0.931649   \n",
       "1 -0.144008    -0.001456   -0.613794   1.894445  1.555099  1.051659   \n",
       "2  0.230096     0.282583   -0.229992  -0.423558 -0.216345 -0.688485   \n",
       "\n",
       "   Fuel_capacity  Fuel_efficiency  \n",
       "0      -1.266329         1.378436  \n",
       "1       1.872367        -0.621313  \n",
       "2       0.385334        -1.287896  "
      ]
     },
     "execution_count": 71,
     "metadata": {},
     "output_type": "execute_result"
    }
   ],
   "source": [
    "x_train.head(3)"
   ]
  },
  {
   "cell_type": "code",
   "execution_count": 68,
   "id": "df4e32a4",
   "metadata": {},
   "outputs": [],
   "source": [
    "def prediction(Model,Engine_size,Horsepower,Wheelbase,Width,Length,Fuel_capacity,Fuel_efficiency):\n",
    "    X_pred = np.zeros(8)\n",
    "    X_pred[0]=encoded_model[Model]\n",
    "    X_pred[1]=Engine_size\n",
    "    X_pred[2]=Horsepower\n",
    "    X_pred[3]=Wheelbase\n",
    "    X_pred[4]=Width\n",
    "    X_pred[5]=Length\n",
    "    X_pred[6]=Fuel_capacity\n",
    "    X_pred[7]=Fuel_efficiency\n",
    "    X_pred = scaler.transform([X_pred])\n",
    "    model = LinearRegression()\n",
    "    model.fit()\n",
    "    prediction = model.predict(X_pred)\n",
    "    return prediction"
   ]
  },
  {
   "cell_type": "code",
   "execution_count": 69,
   "id": "0ff7f234",
   "metadata": {},
   "outputs": [
    {
     "name": "stderr",
     "output_type": "stream",
     "text": [
      "C:\\Users\\sony\\AppData\\Local\\Programs\\Python\\Python39\\lib\\site-packages\\sklearn\\base.py:450: UserWarning: X does not have valid feature names, but StandardScaler was fitted with feature names\n",
      "  warnings.warn(\n"
     ]
    },
    {
     "ename": "NotFittedError",
     "evalue": "This LinearRegression instance is not fitted yet. Call 'fit' with appropriate arguments before using this estimator.",
     "output_type": "error",
     "traceback": [
      "\u001b[1;31m---------------------------------------------------------------------------\u001b[0m",
      "\u001b[1;31mNotFittedError\u001b[0m                            Traceback (most recent call last)",
      "Input \u001b[1;32mIn [69]\u001b[0m, in \u001b[0;36m<cell line: 1>\u001b[1;34m()\u001b[0m\n\u001b[1;32m----> 1\u001b[0m \u001b[43mprediction\u001b[49m\u001b[43m(\u001b[49m\u001b[38;5;124;43m\"\u001b[39;49m\u001b[38;5;124;43mLX470\u001b[39;49m\u001b[38;5;124;43m\"\u001b[39;49m\u001b[43m,\u001b[49m\u001b[38;5;241;43m1000\u001b[39;49m\u001b[43m,\u001b[49m\u001b[38;5;241;43m5000\u001b[39;49m\u001b[43m,\u001b[49m\u001b[38;5;241;43m3000\u001b[39;49m\u001b[43m,\u001b[49m\u001b[38;5;241;43m660\u001b[39;49m\u001b[43m,\u001b[49m\u001b[38;5;241;43m1780\u001b[39;49m\u001b[43m,\u001b[49m\u001b[38;5;241;43m450\u001b[39;49m\u001b[43m,\u001b[49m\u001b[38;5;241;43m335\u001b[39;49m\u001b[43m)\u001b[49m\n",
      "Input \u001b[1;32mIn [68]\u001b[0m, in \u001b[0;36mprediction\u001b[1;34m(Model, Engine_size, Horsepower, Wheelbase, Width, Length, Fuel_capacity, Fuel_efficiency)\u001b[0m\n\u001b[0;32m     11\u001b[0m X_pred \u001b[38;5;241m=\u001b[39m scaler\u001b[38;5;241m.\u001b[39mtransform([X_pred])\n\u001b[0;32m     12\u001b[0m model \u001b[38;5;241m=\u001b[39m LinearRegression()\n\u001b[1;32m---> 13\u001b[0m prediction \u001b[38;5;241m=\u001b[39m \u001b[43mmodel\u001b[49m\u001b[38;5;241;43m.\u001b[39;49m\u001b[43mpredict\u001b[49m\u001b[43m(\u001b[49m\u001b[43mX_pred\u001b[49m\u001b[43m)\u001b[49m\n\u001b[0;32m     14\u001b[0m \u001b[38;5;28;01mreturn\u001b[39;00m prediction\n",
      "File \u001b[1;32m~\\AppData\\Local\\Programs\\Python\\Python39\\lib\\site-packages\\sklearn\\linear_model\\_base.py:386\u001b[0m, in \u001b[0;36mLinearModel.predict\u001b[1;34m(self, X)\u001b[0m\n\u001b[0;32m    372\u001b[0m \u001b[38;5;28;01mdef\u001b[39;00m \u001b[38;5;21mpredict\u001b[39m(\u001b[38;5;28mself\u001b[39m, X):\n\u001b[0;32m    373\u001b[0m     \u001b[38;5;124;03m\"\"\"\u001b[39;00m\n\u001b[0;32m    374\u001b[0m \u001b[38;5;124;03m    Predict using the linear model.\u001b[39;00m\n\u001b[0;32m    375\u001b[0m \n\u001b[1;32m   (...)\u001b[0m\n\u001b[0;32m    384\u001b[0m \u001b[38;5;124;03m        Returns predicted values.\u001b[39;00m\n\u001b[0;32m    385\u001b[0m \u001b[38;5;124;03m    \"\"\"\u001b[39;00m\n\u001b[1;32m--> 386\u001b[0m     \u001b[38;5;28;01mreturn\u001b[39;00m \u001b[38;5;28;43mself\u001b[39;49m\u001b[38;5;241;43m.\u001b[39;49m\u001b[43m_decision_function\u001b[49m\u001b[43m(\u001b[49m\u001b[43mX\u001b[49m\u001b[43m)\u001b[49m\n",
      "File \u001b[1;32m~\\AppData\\Local\\Programs\\Python\\Python39\\lib\\site-packages\\sklearn\\linear_model\\_base.py:367\u001b[0m, in \u001b[0;36mLinearModel._decision_function\u001b[1;34m(self, X)\u001b[0m\n\u001b[0;32m    366\u001b[0m \u001b[38;5;28;01mdef\u001b[39;00m \u001b[38;5;21m_decision_function\u001b[39m(\u001b[38;5;28mself\u001b[39m, X):\n\u001b[1;32m--> 367\u001b[0m     \u001b[43mcheck_is_fitted\u001b[49m\u001b[43m(\u001b[49m\u001b[38;5;28;43mself\u001b[39;49m\u001b[43m)\u001b[49m\n\u001b[0;32m    369\u001b[0m     X \u001b[38;5;241m=\u001b[39m \u001b[38;5;28mself\u001b[39m\u001b[38;5;241m.\u001b[39m_validate_data(X, accept_sparse\u001b[38;5;241m=\u001b[39m[\u001b[38;5;124m\"\u001b[39m\u001b[38;5;124mcsr\u001b[39m\u001b[38;5;124m\"\u001b[39m, \u001b[38;5;124m\"\u001b[39m\u001b[38;5;124mcsc\u001b[39m\u001b[38;5;124m\"\u001b[39m, \u001b[38;5;124m\"\u001b[39m\u001b[38;5;124mcoo\u001b[39m\u001b[38;5;124m\"\u001b[39m], reset\u001b[38;5;241m=\u001b[39m\u001b[38;5;28;01mFalse\u001b[39;00m)\n\u001b[0;32m    370\u001b[0m     \u001b[38;5;28;01mreturn\u001b[39;00m safe_sparse_dot(X, \u001b[38;5;28mself\u001b[39m\u001b[38;5;241m.\u001b[39mcoef_\u001b[38;5;241m.\u001b[39mT, dense_output\u001b[38;5;241m=\u001b[39m\u001b[38;5;28;01mTrue\u001b[39;00m) \u001b[38;5;241m+\u001b[39m \u001b[38;5;28mself\u001b[39m\u001b[38;5;241m.\u001b[39mintercept_\n",
      "File \u001b[1;32m~\\AppData\\Local\\Programs\\Python\\Python39\\lib\\site-packages\\sklearn\\utils\\validation.py:1345\u001b[0m, in \u001b[0;36mcheck_is_fitted\u001b[1;34m(estimator, attributes, msg, all_or_any)\u001b[0m\n\u001b[0;32m   1340\u001b[0m     fitted \u001b[38;5;241m=\u001b[39m [\n\u001b[0;32m   1341\u001b[0m         v \u001b[38;5;28;01mfor\u001b[39;00m v \u001b[38;5;129;01min\u001b[39;00m \u001b[38;5;28mvars\u001b[39m(estimator) \u001b[38;5;28;01mif\u001b[39;00m v\u001b[38;5;241m.\u001b[39mendswith(\u001b[38;5;124m\"\u001b[39m\u001b[38;5;124m_\u001b[39m\u001b[38;5;124m\"\u001b[39m) \u001b[38;5;129;01mand\u001b[39;00m \u001b[38;5;129;01mnot\u001b[39;00m v\u001b[38;5;241m.\u001b[39mstartswith(\u001b[38;5;124m\"\u001b[39m\u001b[38;5;124m__\u001b[39m\u001b[38;5;124m\"\u001b[39m)\n\u001b[0;32m   1342\u001b[0m     ]\n\u001b[0;32m   1344\u001b[0m \u001b[38;5;28;01mif\u001b[39;00m \u001b[38;5;129;01mnot\u001b[39;00m fitted:\n\u001b[1;32m-> 1345\u001b[0m     \u001b[38;5;28;01mraise\u001b[39;00m NotFittedError(msg \u001b[38;5;241m%\u001b[39m {\u001b[38;5;124m\"\u001b[39m\u001b[38;5;124mname\u001b[39m\u001b[38;5;124m\"\u001b[39m: \u001b[38;5;28mtype\u001b[39m(estimator)\u001b[38;5;241m.\u001b[39m\u001b[38;5;18m__name__\u001b[39m})\n",
      "\u001b[1;31mNotFittedError\u001b[0m: This LinearRegression instance is not fitted yet. Call 'fit' with appropriate arguments before using this estimator."
     ]
    }
   ],
   "source": [
    "prediction(\"LX470\",1000,5000,3000,660,1780,450,335)"
   ]
  },
  {
   "cell_type": "code",
   "execution_count": null,
   "id": "7148102f",
   "metadata": {},
   "outputs": [],
   "source": []
  }
 ],
 "metadata": {
  "kernelspec": {
   "display_name": "Python 3 (ipykernel)",
   "language": "python",
   "name": "python3"
  },
  "language_info": {
   "codemirror_mode": {
    "name": "ipython",
    "version": 3
   },
   "file_extension": ".py",
   "mimetype": "text/x-python",
   "name": "python",
   "nbconvert_exporter": "python",
   "pygments_lexer": "ipython3",
   "version": "3.9.13"
  }
 },
 "nbformat": 4,
 "nbformat_minor": 5
}
