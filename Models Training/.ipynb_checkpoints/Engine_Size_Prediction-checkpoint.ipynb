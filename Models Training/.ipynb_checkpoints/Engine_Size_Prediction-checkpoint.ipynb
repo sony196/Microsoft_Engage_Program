{
 "cells": [
  {
   "cell_type": "code",
   "execution_count": 1,
   "id": "e2f2acc9",
   "metadata": {},
   "outputs": [],
   "source": [
    "#importing some required libraries\n",
    "import pandas as pd\n",
    "import numpy as np\n",
    "import matplotlib.pyplot as plt\n",
    "import seaborn as sns\n",
    "\n",
    "from sklearn.model_selection import train_test_split\n",
    "from sklearn.ensemble import RandomForestRegressor\n",
    "from sklearn.linear_model import LinearRegression\n",
    "from sklearn.tree import DecisionTreeRegressor\n",
    "from sklearn.preprocessing import StandardScaler"
   ]
  },
  {
   "cell_type": "code",
   "execution_count": 2,
   "id": "22dcfa3d",
   "metadata": {},
   "outputs": [],
   "source": [
    "# let's read the data\n",
    "df = pd.read_csv('car_data.csv')"
   ]
  },
  {
   "cell_type": "code",
   "execution_count": 3,
   "id": "6f36d39d",
   "metadata": {
    "scrolled": true
   },
   "outputs": [
    {
     "data": {
      "text/html": [
       "<div>\n",
       "<style scoped>\n",
       "    .dataframe tbody tr th:only-of-type {\n",
       "        vertical-align: middle;\n",
       "    }\n",
       "\n",
       "    .dataframe tbody tr th {\n",
       "        vertical-align: top;\n",
       "    }\n",
       "\n",
       "    .dataframe thead th {\n",
       "        text-align: right;\n",
       "    }\n",
       "</style>\n",
       "<table border=\"1\" class=\"dataframe\">\n",
       "  <thead>\n",
       "    <tr style=\"text-align: right;\">\n",
       "      <th></th>\n",
       "      <th>Sales_in_thousands</th>\n",
       "      <th>__year_resale_value</th>\n",
       "      <th>Price_in_thousands</th>\n",
       "      <th>Engine_size</th>\n",
       "      <th>Horsepower</th>\n",
       "      <th>Wheelbase</th>\n",
       "      <th>Width</th>\n",
       "      <th>Length</th>\n",
       "      <th>Curb_weight</th>\n",
       "      <th>Fuel_capacity</th>\n",
       "      <th>Fuel_efficiency</th>\n",
       "      <th>Power_perf_factor</th>\n",
       "      <th>mpg</th>\n",
       "      <th>cylinders</th>\n",
       "      <th>displacement</th>\n",
       "      <th>weight</th>\n",
       "      <th>acceleration</th>\n",
       "      <th>model year</th>\n",
       "      <th>origin</th>\n",
       "    </tr>\n",
       "  </thead>\n",
       "  <tbody>\n",
       "    <tr>\n",
       "      <th>count</th>\n",
       "      <td>157.000000</td>\n",
       "      <td>121.000000</td>\n",
       "      <td>155.000000</td>\n",
       "      <td>156.000000</td>\n",
       "      <td>156.000000</td>\n",
       "      <td>156.000000</td>\n",
       "      <td>156.000000</td>\n",
       "      <td>156.000000</td>\n",
       "      <td>155.000000</td>\n",
       "      <td>156.000000</td>\n",
       "      <td>154.000000</td>\n",
       "      <td>155.000000</td>\n",
       "      <td>157.000000</td>\n",
       "      <td>157.000000</td>\n",
       "      <td>157.000000</td>\n",
       "      <td>157.000000</td>\n",
       "      <td>157.000000</td>\n",
       "      <td>157.000000</td>\n",
       "      <td>157.00000</td>\n",
       "    </tr>\n",
       "    <tr>\n",
       "      <th>mean</th>\n",
       "      <td>52.998076</td>\n",
       "      <td>18.072975</td>\n",
       "      <td>27.390755</td>\n",
       "      <td>3.060897</td>\n",
       "      <td>185.948718</td>\n",
       "      <td>107.487179</td>\n",
       "      <td>71.150000</td>\n",
       "      <td>187.343590</td>\n",
       "      <td>3.378026</td>\n",
       "      <td>17.951923</td>\n",
       "      <td>23.844156</td>\n",
       "      <td>77.043591</td>\n",
       "      <td>19.184713</td>\n",
       "      <td>6.012739</td>\n",
       "      <td>232.073248</td>\n",
       "      <td>3215.191083</td>\n",
       "      <td>14.757962</td>\n",
       "      <td>72.146497</td>\n",
       "      <td>1.43949</td>\n",
       "    </tr>\n",
       "    <tr>\n",
       "      <th>std</th>\n",
       "      <td>68.029422</td>\n",
       "      <td>11.453384</td>\n",
       "      <td>14.351653</td>\n",
       "      <td>1.044653</td>\n",
       "      <td>56.700321</td>\n",
       "      <td>7.641303</td>\n",
       "      <td>3.451872</td>\n",
       "      <td>13.431754</td>\n",
       "      <td>0.630502</td>\n",
       "      <td>3.887921</td>\n",
       "      <td>4.282706</td>\n",
       "      <td>25.142664</td>\n",
       "      <td>5.909382</td>\n",
       "      <td>1.815133</td>\n",
       "      <td>120.030803</td>\n",
       "      <td>967.364627</td>\n",
       "      <td>2.924589</td>\n",
       "      <td>1.462415</td>\n",
       "      <td>0.71913</td>\n",
       "    </tr>\n",
       "    <tr>\n",
       "      <th>min</th>\n",
       "      <td>0.110000</td>\n",
       "      <td>5.160000</td>\n",
       "      <td>9.235000</td>\n",
       "      <td>1.000000</td>\n",
       "      <td>55.000000</td>\n",
       "      <td>92.600000</td>\n",
       "      <td>62.600000</td>\n",
       "      <td>149.400000</td>\n",
       "      <td>1.895000</td>\n",
       "      <td>10.300000</td>\n",
       "      <td>15.000000</td>\n",
       "      <td>23.276272</td>\n",
       "      <td>9.000000</td>\n",
       "      <td>3.000000</td>\n",
       "      <td>68.000000</td>\n",
       "      <td>1613.000000</td>\n",
       "      <td>8.000000</td>\n",
       "      <td>70.000000</td>\n",
       "      <td>1.00000</td>\n",
       "    </tr>\n",
       "    <tr>\n",
       "      <th>25%</th>\n",
       "      <td>14.114000</td>\n",
       "      <td>11.260000</td>\n",
       "      <td>18.017500</td>\n",
       "      <td>2.300000</td>\n",
       "      <td>149.500000</td>\n",
       "      <td>103.000000</td>\n",
       "      <td>68.400000</td>\n",
       "      <td>177.575000</td>\n",
       "      <td>2.971000</td>\n",
       "      <td>15.800000</td>\n",
       "      <td>21.000000</td>\n",
       "      <td>60.407707</td>\n",
       "      <td>14.000000</td>\n",
       "      <td>4.000000</td>\n",
       "      <td>113.000000</td>\n",
       "      <td>2300.000000</td>\n",
       "      <td>13.000000</td>\n",
       "      <td>71.000000</td>\n",
       "      <td>1.00000</td>\n",
       "    </tr>\n",
       "    <tr>\n",
       "      <th>50%</th>\n",
       "      <td>29.450000</td>\n",
       "      <td>14.180000</td>\n",
       "      <td>22.799000</td>\n",
       "      <td>3.000000</td>\n",
       "      <td>177.500000</td>\n",
       "      <td>107.000000</td>\n",
       "      <td>70.550000</td>\n",
       "      <td>187.900000</td>\n",
       "      <td>3.342000</td>\n",
       "      <td>17.200000</td>\n",
       "      <td>24.000000</td>\n",
       "      <td>72.030917</td>\n",
       "      <td>18.000000</td>\n",
       "      <td>6.000000</td>\n",
       "      <td>232.000000</td>\n",
       "      <td>3121.000000</td>\n",
       "      <td>14.500000</td>\n",
       "      <td>72.000000</td>\n",
       "      <td>1.00000</td>\n",
       "    </tr>\n",
       "    <tr>\n",
       "      <th>75%</th>\n",
       "      <td>67.956000</td>\n",
       "      <td>19.875000</td>\n",
       "      <td>31.947500</td>\n",
       "      <td>3.575000</td>\n",
       "      <td>215.000000</td>\n",
       "      <td>112.200000</td>\n",
       "      <td>73.425000</td>\n",
       "      <td>196.125000</td>\n",
       "      <td>3.799500</td>\n",
       "      <td>19.575000</td>\n",
       "      <td>26.000000</td>\n",
       "      <td>89.414878</td>\n",
       "      <td>24.000000</td>\n",
       "      <td>8.000000</td>\n",
       "      <td>350.000000</td>\n",
       "      <td>4129.000000</td>\n",
       "      <td>16.500000</td>\n",
       "      <td>73.000000</td>\n",
       "      <td>2.00000</td>\n",
       "    </tr>\n",
       "    <tr>\n",
       "      <th>max</th>\n",
       "      <td>540.561000</td>\n",
       "      <td>67.550000</td>\n",
       "      <td>85.500000</td>\n",
       "      <td>8.000000</td>\n",
       "      <td>450.000000</td>\n",
       "      <td>138.700000</td>\n",
       "      <td>79.900000</td>\n",
       "      <td>224.500000</td>\n",
       "      <td>5.572000</td>\n",
       "      <td>32.000000</td>\n",
       "      <td>45.000000</td>\n",
       "      <td>188.144323</td>\n",
       "      <td>35.000000</td>\n",
       "      <td>8.000000</td>\n",
       "      <td>455.000000</td>\n",
       "      <td>5140.000000</td>\n",
       "      <td>23.500000</td>\n",
       "      <td>75.000000</td>\n",
       "      <td>3.00000</td>\n",
       "    </tr>\n",
       "  </tbody>\n",
       "</table>\n",
       "</div>"
      ],
      "text/plain": [
       "       Sales_in_thousands  __year_resale_value  Price_in_thousands  \\\n",
       "count          157.000000           121.000000          155.000000   \n",
       "mean            52.998076            18.072975           27.390755   \n",
       "std             68.029422            11.453384           14.351653   \n",
       "min              0.110000             5.160000            9.235000   \n",
       "25%             14.114000            11.260000           18.017500   \n",
       "50%             29.450000            14.180000           22.799000   \n",
       "75%             67.956000            19.875000           31.947500   \n",
       "max            540.561000            67.550000           85.500000   \n",
       "\n",
       "       Engine_size  Horsepower   Wheelbase       Width      Length  \\\n",
       "count   156.000000  156.000000  156.000000  156.000000  156.000000   \n",
       "mean      3.060897  185.948718  107.487179   71.150000  187.343590   \n",
       "std       1.044653   56.700321    7.641303    3.451872   13.431754   \n",
       "min       1.000000   55.000000   92.600000   62.600000  149.400000   \n",
       "25%       2.300000  149.500000  103.000000   68.400000  177.575000   \n",
       "50%       3.000000  177.500000  107.000000   70.550000  187.900000   \n",
       "75%       3.575000  215.000000  112.200000   73.425000  196.125000   \n",
       "max       8.000000  450.000000  138.700000   79.900000  224.500000   \n",
       "\n",
       "       Curb_weight  Fuel_capacity  Fuel_efficiency  Power_perf_factor  \\\n",
       "count   155.000000     156.000000       154.000000         155.000000   \n",
       "mean      3.378026      17.951923        23.844156          77.043591   \n",
       "std       0.630502       3.887921         4.282706          25.142664   \n",
       "min       1.895000      10.300000        15.000000          23.276272   \n",
       "25%       2.971000      15.800000        21.000000          60.407707   \n",
       "50%       3.342000      17.200000        24.000000          72.030917   \n",
       "75%       3.799500      19.575000        26.000000          89.414878   \n",
       "max       5.572000      32.000000        45.000000         188.144323   \n",
       "\n",
       "              mpg   cylinders  displacement       weight  acceleration  \\\n",
       "count  157.000000  157.000000    157.000000   157.000000    157.000000   \n",
       "mean    19.184713    6.012739    232.073248  3215.191083     14.757962   \n",
       "std      5.909382    1.815133    120.030803   967.364627      2.924589   \n",
       "min      9.000000    3.000000     68.000000  1613.000000      8.000000   \n",
       "25%     14.000000    4.000000    113.000000  2300.000000     13.000000   \n",
       "50%     18.000000    6.000000    232.000000  3121.000000     14.500000   \n",
       "75%     24.000000    8.000000    350.000000  4129.000000     16.500000   \n",
       "max     35.000000    8.000000    455.000000  5140.000000     23.500000   \n",
       "\n",
       "       model year     origin  \n",
       "count  157.000000  157.00000  \n",
       "mean    72.146497    1.43949  \n",
       "std      1.462415    0.71913  \n",
       "min     70.000000    1.00000  \n",
       "25%     71.000000    1.00000  \n",
       "50%     72.000000    1.00000  \n",
       "75%     73.000000    2.00000  \n",
       "max     75.000000    3.00000  "
      ]
     },
     "execution_count": 3,
     "metadata": {},
     "output_type": "execute_result"
    }
   ],
   "source": [
    "df.describe()"
   ]
  },
  {
   "cell_type": "code",
   "execution_count": 4,
   "id": "716f4e2e",
   "metadata": {},
   "outputs": [
    {
     "name": "stdout",
     "output_type": "stream",
     "text": [
      "<class 'pandas.core.frame.DataFrame'>\n",
      "RangeIndex: 157 entries, 0 to 156\n",
      "Data columns (total 23 columns):\n",
      " #   Column               Non-Null Count  Dtype  \n",
      "---  ------               --------------  -----  \n",
      " 0   Manufacturer         157 non-null    object \n",
      " 1   Model                157 non-null    object \n",
      " 2   Sales_in_thousands   157 non-null    float64\n",
      " 3   __year_resale_value  121 non-null    float64\n",
      " 4   Vehicle_type         157 non-null    object \n",
      " 5   Price_in_thousands   155 non-null    float64\n",
      " 6   Engine_size          156 non-null    float64\n",
      " 7   Horsepower           156 non-null    float64\n",
      " 8   Wheelbase            156 non-null    float64\n",
      " 9   Width                156 non-null    float64\n",
      " 10  Length               156 non-null    float64\n",
      " 11  Curb_weight          155 non-null    float64\n",
      " 12  Fuel_capacity        156 non-null    float64\n",
      " 13  Fuel_efficiency      154 non-null    float64\n",
      " 14  Latest_Launch        157 non-null    object \n",
      " 15  Power_perf_factor    155 non-null    float64\n",
      " 16  mpg                  157 non-null    int64  \n",
      " 17  cylinders            157 non-null    int64  \n",
      " 18  displacement         157 non-null    float64\n",
      " 19  weight               157 non-null    int64  \n",
      " 20  acceleration         157 non-null    float64\n",
      " 21  model year           157 non-null    int64  \n",
      " 22  origin               157 non-null    int64  \n",
      "dtypes: float64(14), int64(5), object(4)\n",
      "memory usage: 28.3+ KB\n"
     ]
    }
   ],
   "source": [
    "#we came to know that,we have three data types in our dataset\n",
    "df.info()"
   ]
  },
  {
   "cell_type": "markdown",
   "id": "4040adb7",
   "metadata": {},
   "source": [
    "Dealing with missing or Null value"
   ]
  },
  {
   "cell_type": "code",
   "execution_count": 5,
   "id": "f870f70d",
   "metadata": {},
   "outputs": [],
   "source": [
    "#drop the values which are not necessary\n",
    "df=df.drop([\"Manufacturer\",\"Sales_in_thousands\",\"Vehicle_type\",\"__year_resale_value\",\"Fuel_efficiency\",\"Latest_Launch\",\"mpg\",\"cylinders\",\"displacement\",\"weight\",\"acceleration\",\"model year\",\"origin\"],axis=1)"
   ]
  },
  {
   "cell_type": "code",
   "execution_count": 6,
   "id": "573d44f5",
   "metadata": {},
   "outputs": [],
   "source": [
    "#Fill the null values with mean\n",
    "df[\"Price_in_thousands\"].fillna(value=df[\"Price_in_thousands\"].mean(),inplace=True)\n",
    "df[\"Engine_size\"].fillna(value=df[\"Engine_size\"].mean(),inplace=True)\n",
    "df[\"Horsepower\"].fillna(value=df[\"Horsepower\"].mean(),inplace=True)\n",
    "df[\"Wheelbase\"].fillna(value=df[\"Wheelbase\"].mean(),inplace=True)\n",
    "df[\"Width\"].fillna(value=df[\"Width\"].mean(),inplace=True)\n",
    "df[\"Length\"].fillna(value=df[\"Length\"].mean(),inplace=True)\n",
    "df[\"Fuel_capacity\"].fillna(value=df[\"Fuel_capacity\"].mean(),inplace=True)\n",
    "df[\"Curb_weight\"].fillna(value=df[\"Curb_weight\"].mean(),inplace=True)\n",
    "df[\"Power_perf_factor\"].fillna(value=df[\"Power_perf_factor\"].mean(),inplace=True)"
   ]
  },
  {
   "cell_type": "code",
   "execution_count": 7,
   "id": "8aa11381",
   "metadata": {},
   "outputs": [
    {
     "data": {
      "text/plain": [
       "Model                 0\n",
       "Price_in_thousands    0\n",
       "Engine_size           0\n",
       "Horsepower            0\n",
       "Wheelbase             0\n",
       "Width                 0\n",
       "Length                0\n",
       "Curb_weight           0\n",
       "Fuel_capacity         0\n",
       "Power_perf_factor     0\n",
       "dtype: int64"
      ]
     },
     "execution_count": 7,
     "metadata": {},
     "output_type": "execute_result"
    }
   ],
   "source": [
    "df.isna().sum()\n",
    "#now we do not have null values "
   ]
  },
  {
   "cell_type": "markdown",
   "id": "5bbac6a8",
   "metadata": {},
   "source": [
    "Dealing with categorical values"
   ]
  },
  {
   "cell_type": "code",
   "execution_count": 8,
   "id": "d347ed79",
   "metadata": {},
   "outputs": [],
   "source": [
    "#I need to convert the categorical values into integers\n",
    "# here i'm ordering car models on counting one by one and making dict using car Model as key and encoded values\n",
    "\n",
    "encoded_Model = {k:v for v, k in enumerate(df.Model.value_counts().sort_values().index, 0)}\n",
    "#now map this encoded values with car Model\n",
    "df.Model = df.Model.map(encoded_Model)"
   ]
  },
  {
   "cell_type": "code",
   "execution_count": 9,
   "id": "022e77f6",
   "metadata": {},
   "outputs": [
    {
     "data": {
      "text/html": [
       "<div>\n",
       "<style scoped>\n",
       "    .dataframe tbody tr th:only-of-type {\n",
       "        vertical-align: middle;\n",
       "    }\n",
       "\n",
       "    .dataframe tbody tr th {\n",
       "        vertical-align: top;\n",
       "    }\n",
       "\n",
       "    .dataframe thead th {\n",
       "        text-align: right;\n",
       "    }\n",
       "</style>\n",
       "<table border=\"1\" class=\"dataframe\">\n",
       "  <thead>\n",
       "    <tr style=\"text-align: right;\">\n",
       "      <th></th>\n",
       "      <th>Model</th>\n",
       "      <th>Price_in_thousands</th>\n",
       "      <th>Engine_size</th>\n",
       "      <th>Horsepower</th>\n",
       "      <th>Wheelbase</th>\n",
       "      <th>Width</th>\n",
       "      <th>Length</th>\n",
       "      <th>Curb_weight</th>\n",
       "      <th>Fuel_capacity</th>\n",
       "      <th>Power_perf_factor</th>\n",
       "    </tr>\n",
       "  </thead>\n",
       "  <tbody>\n",
       "    <tr>\n",
       "      <th>0</th>\n",
       "      <td>98</td>\n",
       "      <td>21.500000</td>\n",
       "      <td>1.8</td>\n",
       "      <td>140.0</td>\n",
       "      <td>101.2</td>\n",
       "      <td>67.3</td>\n",
       "      <td>172.4</td>\n",
       "      <td>2.639</td>\n",
       "      <td>13.2</td>\n",
       "      <td>58.280150</td>\n",
       "    </tr>\n",
       "    <tr>\n",
       "      <th>1</th>\n",
       "      <td>37</td>\n",
       "      <td>28.400000</td>\n",
       "      <td>3.2</td>\n",
       "      <td>225.0</td>\n",
       "      <td>108.1</td>\n",
       "      <td>70.3</td>\n",
       "      <td>192.9</td>\n",
       "      <td>3.517</td>\n",
       "      <td>17.2</td>\n",
       "      <td>91.370778</td>\n",
       "    </tr>\n",
       "    <tr>\n",
       "      <th>2</th>\n",
       "      <td>2</td>\n",
       "      <td>27.390755</td>\n",
       "      <td>3.2</td>\n",
       "      <td>225.0</td>\n",
       "      <td>106.9</td>\n",
       "      <td>70.6</td>\n",
       "      <td>192.0</td>\n",
       "      <td>3.470</td>\n",
       "      <td>17.2</td>\n",
       "      <td>77.043591</td>\n",
       "    </tr>\n",
       "    <tr>\n",
       "      <th>3</th>\n",
       "      <td>3</td>\n",
       "      <td>42.000000</td>\n",
       "      <td>3.5</td>\n",
       "      <td>210.0</td>\n",
       "      <td>114.6</td>\n",
       "      <td>71.4</td>\n",
       "      <td>196.6</td>\n",
       "      <td>3.850</td>\n",
       "      <td>18.0</td>\n",
       "      <td>91.389779</td>\n",
       "    </tr>\n",
       "    <tr>\n",
       "      <th>4</th>\n",
       "      <td>4</td>\n",
       "      <td>23.990000</td>\n",
       "      <td>1.8</td>\n",
       "      <td>150.0</td>\n",
       "      <td>102.6</td>\n",
       "      <td>68.2</td>\n",
       "      <td>178.0</td>\n",
       "      <td>2.998</td>\n",
       "      <td>16.4</td>\n",
       "      <td>62.777639</td>\n",
       "    </tr>\n",
       "    <tr>\n",
       "      <th>...</th>\n",
       "      <td>...</td>\n",
       "      <td>...</td>\n",
       "      <td>...</td>\n",
       "      <td>...</td>\n",
       "      <td>...</td>\n",
       "      <td>...</td>\n",
       "      <td>...</td>\n",
       "      <td>...</td>\n",
       "      <td>...</td>\n",
       "      <td>...</td>\n",
       "    </tr>\n",
       "    <tr>\n",
       "      <th>152</th>\n",
       "      <td>152</td>\n",
       "      <td>24.400000</td>\n",
       "      <td>1.9</td>\n",
       "      <td>160.0</td>\n",
       "      <td>100.5</td>\n",
       "      <td>67.6</td>\n",
       "      <td>176.6</td>\n",
       "      <td>3.042</td>\n",
       "      <td>15.8</td>\n",
       "      <td>66.498812</td>\n",
       "    </tr>\n",
       "    <tr>\n",
       "      <th>153</th>\n",
       "      <td>153</td>\n",
       "      <td>27.500000</td>\n",
       "      <td>2.4</td>\n",
       "      <td>168.0</td>\n",
       "      <td>104.9</td>\n",
       "      <td>69.3</td>\n",
       "      <td>185.9</td>\n",
       "      <td>3.208</td>\n",
       "      <td>17.9</td>\n",
       "      <td>70.654495</td>\n",
       "    </tr>\n",
       "    <tr>\n",
       "      <th>154</th>\n",
       "      <td>137</td>\n",
       "      <td>28.800000</td>\n",
       "      <td>2.4</td>\n",
       "      <td>168.0</td>\n",
       "      <td>104.9</td>\n",
       "      <td>69.3</td>\n",
       "      <td>186.2</td>\n",
       "      <td>3.259</td>\n",
       "      <td>17.9</td>\n",
       "      <td>71.155978</td>\n",
       "    </tr>\n",
       "    <tr>\n",
       "      <th>155</th>\n",
       "      <td>145</td>\n",
       "      <td>45.500000</td>\n",
       "      <td>2.3</td>\n",
       "      <td>236.0</td>\n",
       "      <td>104.9</td>\n",
       "      <td>71.5</td>\n",
       "      <td>185.7</td>\n",
       "      <td>3.601</td>\n",
       "      <td>18.5</td>\n",
       "      <td>101.623357</td>\n",
       "    </tr>\n",
       "    <tr>\n",
       "      <th>156</th>\n",
       "      <td>77</td>\n",
       "      <td>36.000000</td>\n",
       "      <td>2.9</td>\n",
       "      <td>201.0</td>\n",
       "      <td>109.9</td>\n",
       "      <td>72.1</td>\n",
       "      <td>189.8</td>\n",
       "      <td>3.600</td>\n",
       "      <td>21.1</td>\n",
       "      <td>85.735655</td>\n",
       "    </tr>\n",
       "  </tbody>\n",
       "</table>\n",
       "<p>157 rows × 10 columns</p>\n",
       "</div>"
      ],
      "text/plain": [
       "     Model  Price_in_thousands  Engine_size  Horsepower  Wheelbase  Width  \\\n",
       "0       98           21.500000          1.8       140.0      101.2   67.3   \n",
       "1       37           28.400000          3.2       225.0      108.1   70.3   \n",
       "2        2           27.390755          3.2       225.0      106.9   70.6   \n",
       "3        3           42.000000          3.5       210.0      114.6   71.4   \n",
       "4        4           23.990000          1.8       150.0      102.6   68.2   \n",
       "..     ...                 ...          ...         ...        ...    ...   \n",
       "152    152           24.400000          1.9       160.0      100.5   67.6   \n",
       "153    153           27.500000          2.4       168.0      104.9   69.3   \n",
       "154    137           28.800000          2.4       168.0      104.9   69.3   \n",
       "155    145           45.500000          2.3       236.0      104.9   71.5   \n",
       "156     77           36.000000          2.9       201.0      109.9   72.1   \n",
       "\n",
       "     Length  Curb_weight  Fuel_capacity  Power_perf_factor  \n",
       "0     172.4        2.639           13.2          58.280150  \n",
       "1     192.9        3.517           17.2          91.370778  \n",
       "2     192.0        3.470           17.2          77.043591  \n",
       "3     196.6        3.850           18.0          91.389779  \n",
       "4     178.0        2.998           16.4          62.777639  \n",
       "..      ...          ...            ...                ...  \n",
       "152   176.6        3.042           15.8          66.498812  \n",
       "153   185.9        3.208           17.9          70.654495  \n",
       "154   186.2        3.259           17.9          71.155978  \n",
       "155   185.7        3.601           18.5         101.623357  \n",
       "156   189.8        3.600           21.1          85.735655  \n",
       "\n",
       "[157 rows x 10 columns]"
      ]
     },
     "execution_count": 9,
     "metadata": {},
     "output_type": "execute_result"
    }
   ],
   "source": [
    "df"
   ]
  },
  {
   "cell_type": "markdown",
   "id": "bdbe993a",
   "metadata": {},
   "source": [
    "let's see relation among attributes"
   ]
  },
  {
   "cell_type": "code",
   "execution_count": 10,
   "id": "d6065dff",
   "metadata": {
    "scrolled": true
   },
   "outputs": [
    {
     "data": {
      "text/plain": [
       "Model                -0.260484\n",
       "Price_in_thousands    0.626839\n",
       "Engine_size           1.000000\n",
       "Horsepower            0.837360\n",
       "Wheelbase             0.472130\n",
       "Width                 0.690398\n",
       "Length                0.541424\n",
       "Curb_weight           0.754668\n",
       "Fuel_capacity         0.663022\n",
       "Power_perf_factor     0.818481\n",
       "Name: Engine_size, dtype: float64"
      ]
     },
     "execution_count": 10,
     "metadata": {},
     "output_type": "execute_result"
    }
   ],
   "source": [
    "df.corr()['Engine_size']"
   ]
  },
  {
   "cell_type": "markdown",
   "id": "6ddd2475",
   "metadata": {},
   "source": [
    "Goal\n",
    "- I want to predict the engine size of the car \n",
    "- Here target variable is engine_size"
   ]
  },
  {
   "cell_type": "markdown",
   "id": "4c7fa2f7",
   "metadata": {},
   "source": [
    "lets divide the train and test data"
   ]
  },
  {
   "cell_type": "code",
   "execution_count": 11,
   "id": "d2069f7c",
   "metadata": {},
   "outputs": [],
   "source": [
    "x=df.drop(\"Engine_size\",axis=1)\n",
    "y=df[\"Engine_size\"]"
   ]
  },
  {
   "cell_type": "code",
   "execution_count": 12,
   "id": "bb633943",
   "metadata": {},
   "outputs": [],
   "source": [
    "x_train,x_test,y_train,y_test = train_test_split(x,y,test_size=0.2,random_state =0)"
   ]
  },
  {
   "cell_type": "markdown",
   "id": "d88aae2c",
   "metadata": {},
   "source": [
    "standardization"
   ]
  },
  {
   "cell_type": "code",
   "execution_count": 13,
   "id": "430b74af",
   "metadata": {},
   "outputs": [],
   "source": [
    "scaler=StandardScaler()\n",
    "x_train = pd.DataFrame(scaler.fit_transform(x_train),columns=x_train.columns)\n",
    "x_test = pd.DataFrame(scaler.transform(x_test),columns=x_test.columns)"
   ]
  },
  {
   "cell_type": "markdown",
   "id": "6b070aa3",
   "metadata": {},
   "source": [
    "Model Building"
   ]
  },
  {
   "cell_type": "code",
   "execution_count": 14,
   "id": "df43cafe",
   "metadata": {},
   "outputs": [],
   "source": [
    "from sklearn.model_selection import ShuffleSplit\n",
    "from sklearn.model_selection import RandomizedSearchCV"
   ]
  },
  {
   "cell_type": "code",
   "execution_count": 15,
   "id": "29d95fb7",
   "metadata": {},
   "outputs": [],
   "source": [
    "def perfect_model(X, y):\n",
    "    model_algo = {\n",
    "      \n",
    "      'Linear_Regression':{\n",
    "          'model': LinearRegression(),\n",
    "          'params': {}\n",
    "        },\n",
    "\n",
    "        'Decision_Tree':{\n",
    "            'model': DecisionTreeRegressor(random_state=22),\n",
    "            'params': {\n",
    "                'criterion': ['squared_error','friedman_mse','absolute_error'],\n",
    "                'splitter': ['best', 'random'],\n",
    "                'max_depth': [x for x in range(5,20,5)],\n",
    "                'min_samples_leaf': [1, 2, 5]\n",
    "            }\n",
    "        },\n",
    "        \n",
    "        'Random_forest':{\n",
    "            'model': RandomForestRegressor(),\n",
    "            'params': {\n",
    "                'n_estimators': np.random.randint(20,151,size=5),\n",
    "                'max_depth': [x for x in range(5,35,5)],\n",
    "                'min_samples_split': [2, 5, 10,100],\n",
    "                'min_samples_leaf': [1, 2]\n",
    "            }\n",
    "        }\n",
    "    }\n",
    "  \n",
    "    score = []\n",
    "    cv = ShuffleSplit(n_splits=5, test_size=0.2, random_state=0)\n",
    "    for algo_name, config in model_algo.items():\n",
    "        rs =  RandomizedSearchCV(config['model'], config['params'], cv=cv, return_train_score=False, n_iter=3)\n",
    "        rs.fit(x_train,y_train)\n",
    "        score.append({\n",
    "          'model': algo_name,\n",
    "          'best_score': rs.best_score_,\n",
    "          'best_params': rs.best_params_\n",
    "      })\n",
    "\n",
    "    result = pd.DataFrame(score,columns=['model','best_score','best_params'])\n",
    "    print(result.best_params.tolist())\n",
    "    return result"
   ]
  },
  {
   "cell_type": "code",
   "execution_count": 16,
   "id": "cb9de498",
   "metadata": {},
   "outputs": [
    {
     "name": "stderr",
     "output_type": "stream",
     "text": [
      "C:\\Users\\sony\\AppData\\Local\\Programs\\Python\\Python39\\lib\\site-packages\\sklearn\\model_selection\\_search.py:306: UserWarning: The total space of parameters 1 is smaller than n_iter=3. Running 1 iterations. For exhaustive searches, use GridSearchCV.\n",
      "  warnings.warn(\n"
     ]
    },
    {
     "name": "stdout",
     "output_type": "stream",
     "text": [
      "[{}, {'splitter': 'random', 'min_samples_leaf': 1, 'max_depth': 5, 'criterion': 'friedman_mse'}, {'n_estimators': 23, 'min_samples_split': 2, 'min_samples_leaf': 1, 'max_depth': 10}]\n"
     ]
    },
    {
     "data": {
      "text/html": [
       "<div>\n",
       "<style scoped>\n",
       "    .dataframe tbody tr th:only-of-type {\n",
       "        vertical-align: middle;\n",
       "    }\n",
       "\n",
       "    .dataframe tbody tr th {\n",
       "        vertical-align: top;\n",
       "    }\n",
       "\n",
       "    .dataframe thead th {\n",
       "        text-align: right;\n",
       "    }\n",
       "</style>\n",
       "<table border=\"1\" class=\"dataframe\">\n",
       "  <thead>\n",
       "    <tr style=\"text-align: right;\">\n",
       "      <th></th>\n",
       "      <th>model</th>\n",
       "      <th>best_score</th>\n",
       "      <th>best_params</th>\n",
       "    </tr>\n",
       "  </thead>\n",
       "  <tbody>\n",
       "    <tr>\n",
       "      <th>0</th>\n",
       "      <td>Linear_Regression</td>\n",
       "      <td>-11.838541</td>\n",
       "      <td>{}</td>\n",
       "    </tr>\n",
       "    <tr>\n",
       "      <th>1</th>\n",
       "      <td>Decision_Tree</td>\n",
       "      <td>0.507813</td>\n",
       "      <td>{'splitter': 'random', 'min_samples_leaf': 1, ...</td>\n",
       "    </tr>\n",
       "    <tr>\n",
       "      <th>2</th>\n",
       "      <td>Random_forest</td>\n",
       "      <td>0.588502</td>\n",
       "      <td>{'n_estimators': 23, 'min_samples_split': 2, '...</td>\n",
       "    </tr>\n",
       "  </tbody>\n",
       "</table>\n",
       "</div>"
      ],
      "text/plain": [
       "               model  best_score  \\\n",
       "0  Linear_Regression  -11.838541   \n",
       "1      Decision_Tree    0.507813   \n",
       "2      Random_forest    0.588502   \n",
       "\n",
       "                                         best_params  \n",
       "0                                                 {}  \n",
       "1  {'splitter': 'random', 'min_samples_leaf': 1, ...  \n",
       "2  {'n_estimators': 23, 'min_samples_split': 2, '...  "
      ]
     },
     "execution_count": 16,
     "metadata": {},
     "output_type": "execute_result"
    }
   ],
   "source": [
    " perfect_model(x, y)"
   ]
  },
  {
   "cell_type": "code",
   "execution_count": 17,
   "id": "ab3bbab2",
   "metadata": {},
   "outputs": [
    {
     "data": {
      "text/plain": [
       "0.7952714041039626"
      ]
     },
     "execution_count": 17,
     "metadata": {},
     "output_type": "execute_result"
    }
   ],
   "source": [
    "final_rf_model = RandomForestRegressor(n_estimators=500, min_samples_split=2, min_samples_leaf=2, max_depth=20)\n",
    "final_rf_model.fit(x_train,y_train)\n",
    "final_rf_model.score(x_test,y_test)"
   ]
  },
  {
   "cell_type": "code",
   "execution_count": 18,
   "id": "85df4ea6",
   "metadata": {},
   "outputs": [
    {
     "data": {
      "text/plain": [
       "0.8115678896326277"
      ]
     },
     "execution_count": 18,
     "metadata": {},
     "output_type": "execute_result"
    }
   ],
   "source": [
    "final_lr_model = LinearRegression()\n",
    "final_lr_model.fit(x_train,y_train)\n",
    "final_lr_model.score(x_test,y_test)"
   ]
  },
  {
   "cell_type": "code",
   "execution_count": 19,
   "id": "a4ca94d9",
   "metadata": {},
   "outputs": [
    {
     "data": {
      "text/plain": [
       "0.6223796006530984"
      ]
     },
     "execution_count": 19,
     "metadata": {},
     "output_type": "execute_result"
    }
   ],
   "source": [
    "final_dec_model = DecisionTreeRegressor(splitter='best', min_samples_leaf= 2, max_depth=20, criterion='absolute_error')\n",
    "final_dec_model.fit(x_train,y_train)\n",
    "final_dec_model.score(x_test,y_test)"
   ]
  },
  {
   "cell_type": "code",
   "execution_count": 20,
   "id": "a8651247",
   "metadata": {},
   "outputs": [
    {
     "name": "stdout",
     "output_type": "stream",
     "text": [
      "Mean Square Error: 0.27779428462336125\n",
      "Root Mean Square Error: 0.5270619362308013\n",
      "Mean Absolute Error: 0.3954144802072934\n"
     ]
    }
   ],
   "source": [
    "#let's find out mean square error, root mean square error and mean absolute error\n",
    "from sklearn.metrics import mean_squared_error, mean_absolute_error\n",
    "\n",
    "y_pred = final_rf_model.predict(x_test)\n",
    "\n",
    "mse = mean_squared_error(y_test, y_pred)\n",
    "mae = mean_absolute_error(y_test, y_pred)\n",
    "rmse = np.sqrt(mse)\n",
    "\n",
    "print(\"Mean Square Error:\", mse)\n",
    "print(\"Root Mean Square Error:\", rmse)\n",
    "print(\"Mean Absolute Error:\", mae)"
   ]
  },
  {
   "cell_type": "markdown",
   "id": "6f1b97d3",
   "metadata": {},
   "source": [
    "- I got 81% accuracy through LinearRegression model\n",
    "- Therefore,I am taking Linear Regression as my final model"
   ]
  },
  {
   "cell_type": "code",
   "execution_count": 21,
   "id": "eee3f5ba",
   "metadata": {},
   "outputs": [],
   "source": [
    "def prediction(Model,Price_in_thousands,Horsepower,Wheelbase,Width,Length,Curb_weight,Fuel_capacity,Power_perf_factor):\n",
    "    X_pred = np.zeros(9)\n",
    "    X_pred[0]=encoded_Model[Model]\n",
    "    X_pred[1]=Price_in_thousands\n",
    "    X_pred[2]=Horsepower\n",
    "    X_pred[3]=Wheelbase\n",
    "    X_pred[4]=Width\n",
    "    X_pred[5]=Length\n",
    "    X_pred[6]=Curb_weight\n",
    "    X_pred[7]=Fuel_capacity\n",
    "    #X_pred[8]=Fuel_efficiency\n",
    "    X_pred[8] = Power_perf_factor\n",
    "    X_pred = scaler.transform([X_pred])\n",
    "    prediction = final_lr_model.predict(X_pred)\n",
    "    return prediction"
   ]
  },
  {
   "cell_type": "code",
   "execution_count": 22,
   "id": "508333f2",
   "metadata": {},
   "outputs": [],
   "source": [
    "#let's save the linear regression model and scaler in the form pickle file\n",
    "\n",
    "import pickle\n",
    "with open('engine_size_model.pkl','wb') as file:\n",
    "    pickle.dump(final_rf_model,file)\n",
    "    \n",
    "with open(\"scaler_engine_size.pickle\",\"wb\") as file:\n",
    "    pickle.dump(scaler,file)"
   ]
  }
 ],
 "metadata": {
  "kernelspec": {
   "display_name": "Python 3 (ipykernel)",
   "language": "python",
   "name": "python3"
  },
  "language_info": {
   "codemirror_mode": {
    "name": "ipython",
    "version": 3
   },
   "file_extension": ".py",
   "mimetype": "text/x-python",
   "name": "python",
   "nbconvert_exporter": "python",
   "pygments_lexer": "ipython3",
   "version": "3.9.13"
  }
 },
 "nbformat": 4,
 "nbformat_minor": 5
}
